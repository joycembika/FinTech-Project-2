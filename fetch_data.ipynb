{
 "cells": [
  {
   "cell_type": "markdown",
   "metadata": {},
   "source": [
    "# Fetch Data from Data Sources"
   ]
  },
  {
   "cell_type": "markdown",
   "metadata": {},
   "source": [
    "---"
   ]
  },
  {
   "cell_type": "markdown",
   "metadata": {},
   "source": [
    "### Import Libraries and Dependencies"
   ]
  },
  {
   "cell_type": "code",
   "execution_count": 1,
   "metadata": {},
   "outputs": [],
   "source": [
    "# Initial imports\n",
    "import pandas as pd\n",
    "from pathlib import Path\n",
    "import datetime as dt\n",
    "from datetime import timezone\n",
    "from datetime import datetime\n",
    "from pandas import DataFrame\n",
    "import pandas\n",
    "import pandas_datareader as pdr"
   ]
  },
  {
   "cell_type": "markdown",
   "metadata": {},
   "source": [
    "### Date Range"
   ]
  },
  {
   "cell_type": "code",
   "execution_count": 2,
   "metadata": {},
   "outputs": [],
   "source": [
    "# Date Range\n",
    "start_date = dt.datetime(2010,1,1)\n",
    "end_date = dt.datetime(2020,1,1)"
   ]
  },
  {
   "cell_type": "markdown",
   "metadata": {},
   "source": [
    "### Get data directly from Yahoo from Yahoo Finance API"
   ]
  },
  {
   "cell_type": "code",
   "execution_count": 3,
   "metadata": {},
   "outputs": [
    {
     "name": "stdout",
     "output_type": "stream",
     "text": [
      "Fetching AAPL data from Yahoo Finance\n",
      "Fetching AMZN data from Yahoo Finance\n",
      "Fetching BABA data from Yahoo Finance\n",
      "Fetching EMR data from Yahoo Finance\n",
      "Fetching EURUSD=X data from Yahoo Finance\n",
      "Fetching EXC data from Yahoo Finance\n",
      "Fetching F data from Yahoo Finance\n",
      "Fetching GBPUSD=X data from Yahoo Finance\n",
      "Fetching LQD data from Yahoo Finance\n",
      "Fetching HYG data from Yahoo Finance\n",
      "Fetching Gold data from Yahoo Finance\n",
      "Fetching GOOG data from Yahoo Finance\n",
      "Fetching JPM data from Yahoo Finance\n",
      "Fetching KO data from Yahoo Finance\n",
      "Fetching MMM data from Yahoo Finance\n",
      "Fetching Oil data from Yahoo Finance\n",
      "Fetching PFE data from Yahoo Finance\n",
      "Fetching SSNLF data from Yahoo Finance\n",
      "Fetching SIEGY data from Yahoo Finance\n",
      "Fetching SPG data from Yahoo Finance\n",
      "Fetching TSLA data from Yahoo Finance\n"
     ]
    }
   ],
   "source": [
    "# Fetch historical data from Yahoo Finance for the specified date range \n",
    "# and save it to respective CSV files in the Resources folder\n",
    "\n",
    "# Tickers\n",
    "tickers = ['AAPL', 'AMZN', 'BABA', 'EMR', 'EURUSD=X', 'EXC', 'F', 'GBPUSD=X', 'LQD', 'HYG',\n",
    "           'Gold', 'GOOG', 'JPM', 'KO', 'MMM', 'Oil', 'PFE', 'SSNLF', 'SIEGY', 'SPG', 'TSLA']\n",
    "\n",
    "# 'iShares Corporate Bond' = LQD, 'iShares High Yield Bond' = HYG\n",
    "\n",
    "all_data = pd.DataFrame()\n",
    "tickers_no_data_found = []\n",
    "\n",
    "for ticker in tickers:\n",
    "    print(f\"Fetching {ticker} data from Yahoo Finance\")\n",
    "    try:\n",
    "        #tmp_data = pd.DataFrame()\n",
    "        tmp_data = pdr.get_data_yahoo(ticker, start = start_date, end = end_date)\n",
    "        tmp_data['Ticker'] = ticker\n",
    "        tmp_data.to_csv(f\"Resources/Yahoo Finance/{ticker}.csv\")\n",
    "        all_data = all_data.append(tmp_data)\n",
    "    except:\n",
    "        print(f\" > No data found for {ticker}\")\n",
    "        tickers_no_data_found.append(ticker)\n",
    "        \n",
    "all_data.to_csv(f\"Resources/Yahoo Finance/All Yahoo Data.csv\")"
   ]
  },
  {
   "cell_type": "markdown",
   "metadata": {},
   "source": [
    "### Get Data from CoinGecko API"
   ]
  },
  {
   "cell_type": "code",
   "execution_count": 4,
   "metadata": {},
   "outputs": [
    {
     "data": {
      "text/html": [
       "<div>\n",
       "<style scoped>\n",
       "    .dataframe tbody tr th:only-of-type {\n",
       "        vertical-align: middle;\n",
       "    }\n",
       "\n",
       "    .dataframe tbody tr th {\n",
       "        vertical-align: top;\n",
       "    }\n",
       "\n",
       "    .dataframe thead th {\n",
       "        text-align: right;\n",
       "    }\n",
       "</style>\n",
       "<table border=\"1\" class=\"dataframe\">\n",
       "  <thead>\n",
       "    <tr style=\"text-align: right;\">\n",
       "      <th></th>\n",
       "      <th>Price</th>\n",
       "    </tr>\n",
       "    <tr>\n",
       "      <th>Date</th>\n",
       "      <th></th>\n",
       "    </tr>\n",
       "  </thead>\n",
       "  <tbody>\n",
       "    <tr>\n",
       "      <th>2019-12-27</th>\n",
       "      <td>7247.623712</td>\n",
       "    </tr>\n",
       "    <tr>\n",
       "      <th>2019-12-28</th>\n",
       "      <td>7307.887523</td>\n",
       "    </tr>\n",
       "    <tr>\n",
       "      <th>2019-12-29</th>\n",
       "      <td>7394.029286</td>\n",
       "    </tr>\n",
       "    <tr>\n",
       "      <th>2019-12-30</th>\n",
       "      <td>7240.428912</td>\n",
       "    </tr>\n",
       "    <tr>\n",
       "      <th>2019-12-31</th>\n",
       "      <td>7195.153895</td>\n",
       "    </tr>\n",
       "  </tbody>\n",
       "</table>\n",
       "</div>"
      ],
      "text/plain": [
       "                  Price\n",
       "Date                   \n",
       "2019-12-27  7247.623712\n",
       "2019-12-28  7307.887523\n",
       "2019-12-29  7394.029286\n",
       "2019-12-30  7240.428912\n",
       "2019-12-31  7195.153895"
      ]
     },
     "execution_count": 4,
     "metadata": {},
     "output_type": "execute_result"
    }
   ],
   "source": [
    "# Required installation: pip install pycoingecko\n",
    "import json\n",
    "from pycoingecko import CoinGeckoAPI\n",
    "cg = CoinGeckoAPI()\n",
    "\n",
    "# Convert dates to timestamps\n",
    "start_date_timestamp = datetime.timestamp(start_date)\n",
    "end_date_timestamp = datetime.timestamp(end_date)\n",
    "# print(start_date_timestamp)\n",
    "# print(end_date_timestamp)\n",
    "\n",
    "# Get current bitcoin price\n",
    "# cg.get_price(ids='bitcoin', vs_currencies='usd')\n",
    "\n",
    "# Get historical data for date range\n",
    "result = cg.get_coin_market_chart_range_by_id('bitcoin', 'usd', start_date_timestamp, end_date_timestamp)\n",
    "\n",
    "df = DataFrame (result['prices'], columns=['Timestamp','Price'])\n",
    "\n",
    "df['Date'] = df['Timestamp'].apply(lambda x: datetime.fromtimestamp(x / 1e3))\n",
    "df['Date'] = pd.to_datetime(df['Date']).dt.date\n",
    "df.drop([\"Timestamp\"], axis=1, inplace=True)\n",
    "df.set_index('Date', inplace=True)\n",
    "\n",
    "# Save to file\n",
    "df.to_csv(\"Resources/CoinGecko/Bitcoin.csv\")\n",
    "\n",
    "df.tail()"
   ]
  },
  {
   "cell_type": "code",
   "execution_count": null,
   "metadata": {},
   "outputs": [],
   "source": []
  }
 ],
 "metadata": {
  "kernelspec": {
   "display_name": "Python 3",
   "language": "python",
   "name": "python3"
  },
  "language_info": {
   "codemirror_mode": {
    "name": "ipython",
    "version": 3
   },
   "file_extension": ".py",
   "mimetype": "text/x-python",
   "name": "python",
   "nbconvert_exporter": "python",
   "pygments_lexer": "ipython3",
   "version": "3.8.3"
  }
 },
 "nbformat": 4,
 "nbformat_minor": 4
}
