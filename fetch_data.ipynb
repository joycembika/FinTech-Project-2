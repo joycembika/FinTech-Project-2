{
 "cells": [
  {
   "cell_type": "markdown",
   "metadata": {},
   "source": [
    "# Fetch Data from Data Sources"
   ]
  },
  {
   "cell_type": "markdown",
   "metadata": {},
   "source": [
    "---"
   ]
  },
  {
   "cell_type": "markdown",
   "metadata": {},
   "source": [
    "### Import Libraries and Dependencies"
   ]
  },
  {
   "cell_type": "code",
   "execution_count": 1,
   "metadata": {},
   "outputs": [],
   "source": [
    "# Initial imports\n",
    "import pandas as pd\n",
    "from pathlib import Path\n",
    "import datetime as dt\n",
    "from datetime import timezone\n",
    "from datetime import datetime\n",
    "from pandas import DataFrame\n",
    "import pandas\n",
    "import pandas_datareader as pdr"
   ]
  },
  {
   "cell_type": "markdown",
   "metadata": {},
   "source": [
    "### Date Range"
   ]
  },
  {
   "cell_type": "code",
   "execution_count": 2,
   "metadata": {},
   "outputs": [],
   "source": [
    "# Date Range\n",
    "start_date = dt.datetime(2010,1,1)\n",
    "end_date = dt.datetime(2020,1,1)"
   ]
  },
  {
   "cell_type": "markdown",
   "metadata": {},
   "source": [
    "### Get data directly from Yahoo from Yahoo Finance API"
   ]
  },
  {
   "cell_type": "code",
   "execution_count": 3,
   "metadata": {},
   "outputs": [
    {
     "name": "stdout",
     "output_type": "stream",
     "text": [
      "Fetching AAPL data from Yahoo Finance\n",
      "Fetching AMZN data from Yahoo Finance\n",
      "Fetching BABA data from Yahoo Finance\n",
      "Fetching EMR data from Yahoo Finance\n",
      "Fetching EURUSD=X data from Yahoo Finance\n",
      "Fetching EXC data from Yahoo Finance\n",
      "Fetching F data from Yahoo Finance\n",
      "Fetching GBPUSD=X data from Yahoo Finance\n",
      "Fetching Gold data from Yahoo Finance\n",
      "Fetching GOOG data from Yahoo Finance\n",
      "Fetching JPM data from Yahoo Finance\n",
      "Fetching KO data from Yahoo Finance\n",
      "Fetching MMM data from Yahoo Finance\n",
      "Fetching Oil data from Yahoo Finance\n",
      "Fetching PFE data from Yahoo Finance\n",
      "Fetching SSNLF data from Yahoo Finance\n",
      "Fetching SIEGY data from Yahoo Finance\n",
      "Fetching SPG data from Yahoo Finance\n",
      "Fetching TSLA data from Yahoo Finance\n"
     ]
    }
   ],
   "source": [
    "# Fetch historical data from Yahoo Finance for the specified date range \n",
    "# and save it to respective CSV files in the Resources folder\n",
    "\n",
    "# Tickers\n",
    "tickers = ['AAPL', 'AMZN', 'BABA', 'EMR', 'EURUSD=X', 'EXC', 'F', 'GBPUSD=X', \n",
    "           'Gold', 'GOOG', 'JPM', 'KO', 'MMM', 'Oil', 'PFE', 'SSNLF', 'SIEGY', 'SPG', 'TSLA']\n",
    "\n",
    "# 'iShares Corporate Bond', 'iShares High Yield Bond', 'MSCI Europe', 'Russell 2000', 'Samsung', 'Siemens'\n",
    "\n",
    "all_data = pd.DataFrame()\n",
    "tickers_no_data_found = []\n",
    "\n",
    "for ticker in tickers:\n",
    "    print(f\"Fetching {ticker} data from Yahoo Finance\")\n",
    "    try:\n",
    "        #tmp_data = pd.DataFrame()\n",
    "        tmp_data = pdr.get_data_yahoo(ticker, start = start_date, end = end_date)\n",
    "        tmp_data['Ticker'] = ticker\n",
    "        tmp_data.to_csv(f\"Resources/Yahoo Finance/{ticker}.csv\")\n",
    "        all_data = all_data.append(tmp_data)\n",
    "    except:\n",
    "        print(f\" > No data found for {ticker}\")\n",
    "        tickers_no_data_found.append(ticker)\n",
    "        \n",
    "all_data.to_csv(f\"Resources/Yahoo Finance/All Yahoo Data.csv\")"
   ]
  },
  {
   "cell_type": "markdown",
   "metadata": {},
   "source": [
    "### Get Data from CoinGecko API"
   ]
  },
  {
   "cell_type": "code",
   "execution_count": 4,
   "metadata": {},
   "outputs": [
    {
     "name": "stdout",
     "output_type": "stream",
     "text": [
      "1262314800.0\n",
      "1577847600.0\n"
     ]
    },
    {
     "data": {
      "text/html": [
       "<div>\n",
       "<style scoped>\n",
       "    .dataframe tbody tr th:only-of-type {\n",
       "        vertical-align: middle;\n",
       "    }\n",
       "\n",
       "    .dataframe tbody tr th {\n",
       "        vertical-align: top;\n",
       "    }\n",
       "\n",
       "    .dataframe thead th {\n",
       "        text-align: right;\n",
       "    }\n",
       "</style>\n",
       "<table border=\"1\" class=\"dataframe\">\n",
       "  <thead>\n",
       "    <tr style=\"text-align: right;\">\n",
       "      <th></th>\n",
       "      <th>Timestamp</th>\n",
       "      <th>Price</th>\n",
       "      <th>Date</th>\n",
       "    </tr>\n",
       "  </thead>\n",
       "  <tbody>\n",
       "    <tr>\n",
       "      <th>2433</th>\n",
       "      <td>1577491200000</td>\n",
       "      <td>7247.623712</td>\n",
       "      <td>1970-01-01 00:26:17.491200</td>\n",
       "    </tr>\n",
       "    <tr>\n",
       "      <th>2434</th>\n",
       "      <td>1577577600000</td>\n",
       "      <td>7307.887523</td>\n",
       "      <td>1970-01-01 00:26:17.577600</td>\n",
       "    </tr>\n",
       "    <tr>\n",
       "      <th>2435</th>\n",
       "      <td>1577664000000</td>\n",
       "      <td>7394.029286</td>\n",
       "      <td>1970-01-01 00:26:17.664000</td>\n",
       "    </tr>\n",
       "    <tr>\n",
       "      <th>2436</th>\n",
       "      <td>1577750400000</td>\n",
       "      <td>7240.428912</td>\n",
       "      <td>1970-01-01 00:26:17.750400</td>\n",
       "    </tr>\n",
       "    <tr>\n",
       "      <th>2437</th>\n",
       "      <td>1577836800000</td>\n",
       "      <td>7195.153895</td>\n",
       "      <td>1970-01-01 00:26:17.836800</td>\n",
       "    </tr>\n",
       "  </tbody>\n",
       "</table>\n",
       "</div>"
      ],
      "text/plain": [
       "          Timestamp        Price                       Date\n",
       "2433  1577491200000  7247.623712 1970-01-01 00:26:17.491200\n",
       "2434  1577577600000  7307.887523 1970-01-01 00:26:17.577600\n",
       "2435  1577664000000  7394.029286 1970-01-01 00:26:17.664000\n",
       "2436  1577750400000  7240.428912 1970-01-01 00:26:17.750400\n",
       "2437  1577836800000  7195.153895 1970-01-01 00:26:17.836800"
      ]
     },
     "execution_count": 4,
     "metadata": {},
     "output_type": "execute_result"
    }
   ],
   "source": [
    "# Required installation: pip install pycoingecko\n",
    "import json\n",
    "from pycoingecko import CoinGeckoAPI\n",
    "cg = CoinGeckoAPI()\n",
    "\n",
    "# Convert dates to timestamps\n",
    "start_date_timestamp = datetime.timestamp(start_date)\n",
    "end_date_timestamp = datetime.timestamp(end_date)\n",
    "print(start_date_timestamp)\n",
    "print(end_date_timestamp)\n",
    "\n",
    "# Get current bitcoin price\n",
    "# cg.get_price(ids='bitcoin', vs_currencies='usd')\n",
    "\n",
    "# Get historical data for date range\n",
    "result = cg.get_coin_market_chart_range_by_id('bitcoin', 'usd', start_date_timestamp, end_date_timestamp)\n",
    "\n",
    "df = DataFrame (result['prices'], columns=['Timestamp','Price'])\n",
    "\n",
    "df['Date'] = pd.to_datetime(df['Timestamp'])\n",
    "\n",
    "df.tail()"
   ]
  },
  {
   "cell_type": "code",
   "execution_count": 5,
   "metadata": {},
   "outputs": [],
   "source": [
    "df.to_csv(\"Resources/CoinGecko/Bitcoin.csv\")"
   ]
  },
  {
   "cell_type": "code",
   "execution_count": null,
   "metadata": {},
   "outputs": [],
   "source": []
  }
 ],
 "metadata": {
  "kernelspec": {
   "display_name": "Python 3",
   "language": "python",
   "name": "python3"
  },
  "language_info": {
   "codemirror_mode": {
    "name": "ipython",
    "version": 3
   },
   "file_extension": ".py",
   "mimetype": "text/x-python",
   "name": "python",
   "nbconvert_exporter": "python",
   "pygments_lexer": "ipython3",
   "version": "3.8.3"
  }
 },
 "nbformat": 4,
 "nbformat_minor": 4
}
