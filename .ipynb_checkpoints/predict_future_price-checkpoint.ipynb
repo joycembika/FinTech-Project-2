{
 "cells": [
  {
   "cell_type": "markdown",
   "metadata": {},
   "source": [
    "# Predict Future Price"
   ]
  },
  {
   "cell_type": "markdown",
   "metadata": {},
   "source": [
    "---"
   ]
  },
  {
   "cell_type": "markdown",
   "metadata": {},
   "source": [
    "### Import Libraries and Dependencies"
   ]
  },
  {
   "cell_type": "code",
   "execution_count": 1,
   "metadata": {},
   "outputs": [],
   "source": [
    "# Initial imports\n",
    "import pandas as pd\n",
    "from pathlib import Path\n",
    "import datetime as dt\n",
    "import numpy as np\n",
    "from sklearn.ensemble import RandomForestClassifier\n",
    "from sklearn.preprocessing import StandardScaler\n",
    "from sklearn.model_selection import train_test_split\n",
    "from sklearn.metrics import confusion_matrix, accuracy_score, classification_report\n",
    "%matplotlib inline\n"
   ]
  },
  {
   "cell_type": "markdown",
   "metadata": {},
   "source": [
    "### Read CSV / API into Pandas DataFrame"
   ]
  },
  {
   "cell_type": "code",
   "execution_count": 2,
   "metadata": {},
   "outputs": [
    {
     "data": {
      "text/html": [
       "<div>\n",
       "<style scoped>\n",
       "    .dataframe tbody tr th:only-of-type {\n",
       "        vertical-align: middle;\n",
       "    }\n",
       "\n",
       "    .dataframe tbody tr th {\n",
       "        vertical-align: top;\n",
       "    }\n",
       "\n",
       "    .dataframe thead th {\n",
       "        text-align: right;\n",
       "    }\n",
       "</style>\n",
       "<table border=\"1\" class=\"dataframe\">\n",
       "  <thead>\n",
       "    <tr style=\"text-align: right;\">\n",
       "      <th></th>\n",
       "      <th>Date</th>\n",
       "      <th>High</th>\n",
       "      <th>Low</th>\n",
       "      <th>Open</th>\n",
       "      <th>Close</th>\n",
       "      <th>Volume</th>\n",
       "      <th>Adj Close</th>\n",
       "      <th>Ticker</th>\n",
       "    </tr>\n",
       "  </thead>\n",
       "  <tbody>\n",
       "    <tr>\n",
       "      <th>0</th>\n",
       "      <td>2010-01-04</td>\n",
       "      <td>7.660714</td>\n",
       "      <td>7.585000</td>\n",
       "      <td>7.622500</td>\n",
       "      <td>7.643214</td>\n",
       "      <td>493729600.0</td>\n",
       "      <td>6.593423</td>\n",
       "      <td>AAPL</td>\n",
       "    </tr>\n",
       "    <tr>\n",
       "      <th>1</th>\n",
       "      <td>2010-01-05</td>\n",
       "      <td>7.699643</td>\n",
       "      <td>7.616071</td>\n",
       "      <td>7.664286</td>\n",
       "      <td>7.656429</td>\n",
       "      <td>601904800.0</td>\n",
       "      <td>6.604822</td>\n",
       "      <td>AAPL</td>\n",
       "    </tr>\n",
       "    <tr>\n",
       "      <th>2</th>\n",
       "      <td>2010-01-06</td>\n",
       "      <td>7.686786</td>\n",
       "      <td>7.526786</td>\n",
       "      <td>7.656429</td>\n",
       "      <td>7.534643</td>\n",
       "      <td>552160000.0</td>\n",
       "      <td>6.499765</td>\n",
       "      <td>AAPL</td>\n",
       "    </tr>\n",
       "    <tr>\n",
       "      <th>3</th>\n",
       "      <td>2010-01-07</td>\n",
       "      <td>7.571429</td>\n",
       "      <td>7.466071</td>\n",
       "      <td>7.562500</td>\n",
       "      <td>7.520714</td>\n",
       "      <td>477131200.0</td>\n",
       "      <td>6.487749</td>\n",
       "      <td>AAPL</td>\n",
       "    </tr>\n",
       "    <tr>\n",
       "      <th>4</th>\n",
       "      <td>2010-01-08</td>\n",
       "      <td>7.571429</td>\n",
       "      <td>7.466429</td>\n",
       "      <td>7.510714</td>\n",
       "      <td>7.570714</td>\n",
       "      <td>447610800.0</td>\n",
       "      <td>6.530882</td>\n",
       "      <td>AAPL</td>\n",
       "    </tr>\n",
       "  </tbody>\n",
       "</table>\n",
       "</div>"
      ],
      "text/plain": [
       "         Date      High       Low      Open     Close       Volume  Adj Close  \\\n",
       "0  2010-01-04  7.660714  7.585000  7.622500  7.643214  493729600.0   6.593423   \n",
       "1  2010-01-05  7.699643  7.616071  7.664286  7.656429  601904800.0   6.604822   \n",
       "2  2010-01-06  7.686786  7.526786  7.656429  7.534643  552160000.0   6.499765   \n",
       "3  2010-01-07  7.571429  7.466071  7.562500  7.520714  477131200.0   6.487749   \n",
       "4  2010-01-08  7.571429  7.466429  7.510714  7.570714  447610800.0   6.530882   \n",
       "\n",
       "  Ticker  \n",
       "0   AAPL  \n",
       "1   AAPL  \n",
       "2   AAPL  \n",
       "3   AAPL  \n",
       "4   AAPL  "
      ]
     },
     "execution_count": 2,
     "metadata": {},
     "output_type": "execute_result"
    }
   ],
   "source": [
    "# Loading data\n",
    "file_path = Path(\"Resources/Yahoo Finance/All Yahoo Data.csv\")\n",
    "All_Yahoo_Data = pd.read_csv(file_path)\n",
    "All_Yahoo_Data.head()\n",
    "\n",
    "df_AAPL = All_Yahoo_Data.loc[All_Yahoo_Data['Ticker'] == 'AAPL']\n",
    "df_AAPL.head()"
   ]
  },
  {
   "cell_type": "markdown",
   "metadata": {},
   "source": [
    "### Get data directly from Yahoo from Yahoo Finance API"
   ]
  },
  {
   "cell_type": "markdown",
   "metadata": {},
   "source": [
    "### Preparing Data"
   ]
  },
  {
   "cell_type": "code",
   "execution_count": 3,
   "metadata": {},
   "outputs": [
    {
     "data": {
      "text/html": [
       "<div>\n",
       "<style scoped>\n",
       "    .dataframe tbody tr th:only-of-type {\n",
       "        vertical-align: middle;\n",
       "    }\n",
       "\n",
       "    .dataframe tbody tr th {\n",
       "        vertical-align: top;\n",
       "    }\n",
       "\n",
       "    .dataframe thead th {\n",
       "        text-align: right;\n",
       "    }\n",
       "</style>\n",
       "<table border=\"1\" class=\"dataframe\">\n",
       "  <thead>\n",
       "    <tr style=\"text-align: right;\">\n",
       "      <th></th>\n",
       "      <th>Date</th>\n",
       "      <th>Close</th>\n",
       "      <th>Volume</th>\n",
       "    </tr>\n",
       "  </thead>\n",
       "  <tbody>\n",
       "    <tr>\n",
       "      <th>0</th>\n",
       "      <td>2010-01-04</td>\n",
       "      <td>7.643214</td>\n",
       "      <td>493729600.0</td>\n",
       "    </tr>\n",
       "    <tr>\n",
       "      <th>1</th>\n",
       "      <td>2010-01-05</td>\n",
       "      <td>7.656429</td>\n",
       "      <td>601904800.0</td>\n",
       "    </tr>\n",
       "    <tr>\n",
       "      <th>2</th>\n",
       "      <td>2010-01-06</td>\n",
       "      <td>7.534643</td>\n",
       "      <td>552160000.0</td>\n",
       "    </tr>\n",
       "    <tr>\n",
       "      <th>3</th>\n",
       "      <td>2010-01-07</td>\n",
       "      <td>7.520714</td>\n",
       "      <td>477131200.0</td>\n",
       "    </tr>\n",
       "    <tr>\n",
       "      <th>4</th>\n",
       "      <td>2010-01-08</td>\n",
       "      <td>7.570714</td>\n",
       "      <td>447610800.0</td>\n",
       "    </tr>\n",
       "  </tbody>\n",
       "</table>\n",
       "</div>"
      ],
      "text/plain": [
       "         Date     Close       Volume\n",
       "0  2010-01-04  7.643214  493729600.0\n",
       "1  2010-01-05  7.656429  601904800.0\n",
       "2  2010-01-06  7.534643  552160000.0\n",
       "3  2010-01-07  7.520714  477131200.0\n",
       "4  2010-01-08  7.570714  447610800.0"
      ]
     },
     "execution_count": 3,
     "metadata": {},
     "output_type": "execute_result"
    }
   ],
   "source": [
    "# Define features set\n",
    "df = df_AAPL.drop([\"Open\", \"High\", \"Low\", \"Adj Close\", \"Ticker\"], axis=1)\n",
    "df.head()"
   ]
  },
  {
   "cell_type": "markdown",
   "metadata": {},
   "source": [
    "### Calculate trading signals"
   ]
  },
  {
   "cell_type": "code",
   "execution_count": 5,
   "metadata": {},
   "outputs": [
    {
     "data": {
      "text/html": [
       "<div>\n",
       "<style scoped>\n",
       "    .dataframe tbody tr th:only-of-type {\n",
       "        vertical-align: middle;\n",
       "    }\n",
       "\n",
       "    .dataframe tbody tr th {\n",
       "        vertical-align: top;\n",
       "    }\n",
       "\n",
       "    .dataframe thead th {\n",
       "        text-align: right;\n",
       "    }\n",
       "</style>\n",
       "<table border=\"1\" class=\"dataframe\">\n",
       "  <thead>\n",
       "    <tr style=\"text-align: right;\">\n",
       "      <th></th>\n",
       "      <th>Date</th>\n",
       "      <th>Close</th>\n",
       "      <th>Volume</th>\n",
       "      <th>Returns</th>\n",
       "      <th>Target</th>\n",
       "      <th>MA 50</th>\n",
       "      <th>MA 100</th>\n",
       "      <th>MA Ratio</th>\n",
       "    </tr>\n",
       "  </thead>\n",
       "  <tbody>\n",
       "    <tr>\n",
       "      <th>2511</th>\n",
       "      <td>2019-12-24</td>\n",
       "      <td>71.067497</td>\n",
       "      <td>48478800.0</td>\n",
       "      <td>0.000951</td>\n",
       "      <td>1.0</td>\n",
       "      <td>65.16060</td>\n",
       "      <td>59.401700</td>\n",
       "      <td>0.911620</td>\n",
       "    </tr>\n",
       "    <tr>\n",
       "      <th>2512</th>\n",
       "      <td>2019-12-26</td>\n",
       "      <td>72.477501</td>\n",
       "      <td>93121200.0</td>\n",
       "      <td>0.019840</td>\n",
       "      <td>1.0</td>\n",
       "      <td>65.43355</td>\n",
       "      <td>59.643125</td>\n",
       "      <td>0.911507</td>\n",
       "    </tr>\n",
       "    <tr>\n",
       "      <th>2513</th>\n",
       "      <td>2019-12-27</td>\n",
       "      <td>72.449997</td>\n",
       "      <td>146266000.0</td>\n",
       "      <td>-0.000379</td>\n",
       "      <td>-1.0</td>\n",
       "      <td>65.71070</td>\n",
       "      <td>59.875125</td>\n",
       "      <td>0.911193</td>\n",
       "    </tr>\n",
       "    <tr>\n",
       "      <th>2514</th>\n",
       "      <td>2019-12-30</td>\n",
       "      <td>72.879997</td>\n",
       "      <td>144114400.0</td>\n",
       "      <td>0.005935</td>\n",
       "      <td>1.0</td>\n",
       "      <td>65.99190</td>\n",
       "      <td>60.106325</td>\n",
       "      <td>0.910814</td>\n",
       "    </tr>\n",
       "    <tr>\n",
       "      <th>2515</th>\n",
       "      <td>2019-12-31</td>\n",
       "      <td>73.412498</td>\n",
       "      <td>100805600.0</td>\n",
       "      <td>0.007307</td>\n",
       "      <td>1.0</td>\n",
       "      <td>66.27810</td>\n",
       "      <td>60.331875</td>\n",
       "      <td>0.910284</td>\n",
       "    </tr>\n",
       "  </tbody>\n",
       "</table>\n",
       "</div>"
      ],
      "text/plain": [
       "            Date      Close       Volume   Returns  Target     MA 50  \\\n",
       "2511  2019-12-24  71.067497   48478800.0  0.000951     1.0  65.16060   \n",
       "2512  2019-12-26  72.477501   93121200.0  0.019840     1.0  65.43355   \n",
       "2513  2019-12-27  72.449997  146266000.0 -0.000379    -1.0  65.71070   \n",
       "2514  2019-12-30  72.879997  144114400.0  0.005935     1.0  65.99190   \n",
       "2515  2019-12-31  73.412498  100805600.0  0.007307     1.0  66.27810   \n",
       "\n",
       "         MA 100  MA Ratio  \n",
       "2511  59.401700  0.911620  \n",
       "2512  59.643125  0.911507  \n",
       "2513  59.875125  0.911193  \n",
       "2514  60.106325  0.910814  \n",
       "2515  60.331875  0.910284  "
      ]
     },
     "execution_count": 5,
     "metadata": {},
     "output_type": "execute_result"
    }
   ],
   "source": [
    "# Calculate daily return\n",
    "df['Returns'] = df['Close'].pct_change()\n",
    "\n",
    "# Create Target column\n",
    "df['Target'] = np.where(df['Returns'] >= 0, 1.0, -1)\n",
    "\n",
    "# Calculate 50 day simple movering average\n",
    "df['MA 50'] = df['Close'].transform(lambda x: x.rolling(window = 50).mean())\n",
    "\n",
    "# Calculate 100 day simple movering average\n",
    "df['MA 100'] = df['Close'].transform(lambda x: x.rolling(window = 100).mean())\n",
    "\n",
    "# Calculate simple moving average ratio to capture the relationship between the two moving averages\n",
    "df['MA Ratio'] = df['MA 100'] / df['MA 50']\n",
    "\n",
    "# Calculate more indicators\n",
    "# ....\n",
    "\n",
    "df.tail()"
   ]
  },
  {
   "cell_type": "markdown",
   "metadata": {},
   "source": [
    "### Create Machine Learning Model"
   ]
  },
  {
   "cell_type": "code",
   "execution_count": null,
   "metadata": {},
   "outputs": [],
   "source": []
  },
  {
   "cell_type": "markdown",
   "metadata": {},
   "source": [
    "### Train Model"
   ]
  },
  {
   "cell_type": "code",
   "execution_count": null,
   "metadata": {},
   "outputs": [],
   "source": []
  },
  {
   "cell_type": "markdown",
   "metadata": {},
   "source": [
    "### Backtest/Tweak Model"
   ]
  },
  {
   "cell_type": "code",
   "execution_count": null,
   "metadata": {},
   "outputs": [],
   "source": []
  },
  {
   "cell_type": "markdown",
   "metadata": {},
   "source": [
    "### Make Predictions"
   ]
  },
  {
   "cell_type": "code",
   "execution_count": null,
   "metadata": {},
   "outputs": [],
   "source": []
  },
  {
   "cell_type": "markdown",
   "metadata": {},
   "source": [
    "### Evaluate & Plot"
   ]
  },
  {
   "cell_type": "code",
   "execution_count": null,
   "metadata": {},
   "outputs": [],
   "source": []
  }
 ],
 "metadata": {
  "kernelspec": {
   "display_name": "Python 3",
   "language": "python",
   "name": "python3"
  },
  "language_info": {
   "codemirror_mode": {
    "name": "ipython",
    "version": 3
   },
   "file_extension": ".py",
   "mimetype": "text/x-python",
   "name": "python",
   "nbconvert_exporter": "python",
   "pygments_lexer": "ipython3",
   "version": "3.8.3"
  }
 },
 "nbformat": 4,
 "nbformat_minor": 4
}
