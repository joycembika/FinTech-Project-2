{
 "cells": [
  {
   "cell_type": "markdown",
   "metadata": {},
   "source": [
    "# Logistics Regression "
   ]
  },
  {
   "cell_type": "markdown",
   "metadata": {},
   "source": [
    "---"
   ]
  },
  {
   "cell_type": "markdown",
   "metadata": {},
   "source": [
    "### Import Libraries and Dependencies"
   ]
  },
  {
   "cell_type": "code",
   "execution_count": 1,
   "metadata": {},
   "outputs": [],
   "source": [
    "# Initial imports\n",
    "import os\n",
    "import pandas as pd\n",
    "from pathlib import Path\n",
    "import datetime as dt\n",
    "import numpy as np\n",
    "# from sklearn.ensemble import RandomForestClassifier\n",
    "from sklearn.linear_model import LogisticRegression\n",
    "from sklearn.preprocessing import StandardScaler\n",
    "from sklearn.model_selection import train_test_split\n",
    "from sklearn.metrics import confusion_matrix, accuracy_score, classification_report\n",
    "\n",
    "import matplotlib.pyplot as plt\n",
    "%matplotlib inline\n",
    "\n",
    "import talib"
   ]
  },
  {
   "cell_type": "markdown",
   "metadata": {},
   "source": [
    "### Read CSV / API into Pandas DataFrame"
   ]
  },
  {
   "cell_type": "code",
   "execution_count": 2,
   "metadata": {},
   "outputs": [
    {
     "data": {
      "text/plain": [
       "['Resources/Data/AAPL.csv',\n",
       " 'Resources/Data/AMZN.csv',\n",
       " 'Resources/Data/BABA.csv',\n",
       " 'Resources/Data/BTCUSD=X.csv',\n",
       " 'Resources/Data/EMR.csv',\n",
       " 'Resources/Data/EURUSD=X.csv',\n",
       " 'Resources/Data/EXC.csv',\n",
       " 'Resources/Data/F.csv',\n",
       " 'Resources/Data/GBPUSD=X.csv',\n",
       " 'Resources/Data/GOOG.csv',\n",
       " 'Resources/Data/Gold.csv',\n",
       " 'Resources/Data/HYG.csv',\n",
       " 'Resources/Data/JPM.csv',\n",
       " 'Resources/Data/KO.csv',\n",
       " 'Resources/Data/LQD.csv',\n",
       " 'Resources/Data/MMM.csv',\n",
       " 'Resources/Data/MSCI Europe.csv',\n",
       " 'Resources/Data/Nikkei Index.csv',\n",
       " 'Resources/Data/Oil.csv',\n",
       " 'Resources/Data/PFE.csv',\n",
       " 'Resources/Data/Russell 2000.csv',\n",
       " 'Resources/Data/SIEGY.csv',\n",
       " 'Resources/Data/SPG.csv',\n",
       " 'Resources/Data/SSNLF.csv',\n",
       " 'Resources/Data/TSLA.csv']"
      ]
     },
     "execution_count": 2,
     "metadata": {},
     "output_type": "execute_result"
    }
   ],
   "source": [
    "# Loading data\n",
    "# Create a list of all csv files in the data directory\n",
    "data_dir = \"Resources/Data/\"\n",
    "dir_content = os.listdir(data_dir)\n",
    "data_files = [data_dir + x for x in dir_content if x.lower().endswith('.csv')]\n",
    "data_files.sort()\n",
    "data_files"
   ]
  },
  {
   "cell_type": "markdown",
   "metadata": {},
   "source": [
    "### Calculate Indicators and Prepare Data"
   ]
  },
  {
   "cell_type": "code",
   "execution_count": 3,
   "metadata": {},
   "outputs": [],
   "source": [
    "def add_indicators_and_signals(df):\n",
    "\n",
    "    #df = df.drop([\"Adj Close\", \"Ticker\"], axis=1)\n",
    "    \n",
    "    if 'High' in df.columns:\n",
    "        stock_high = df['High']\n",
    "    else:\n",
    "        stock_high = None\n",
    "        \n",
    "    if 'Low' in df.columns:\n",
    "        stock_low = df['Low']\n",
    "    else:\n",
    "        stock_low = None\n",
    "            \n",
    "    if 'Open' in df.columns:\n",
    "        stock_open = df['Open']\n",
    "    else:\n",
    "        stock_open = None\n",
    "        \n",
    "    if 'Volume' in df.columns:\n",
    "        stock_volume = df['Volume']\n",
    "    else:\n",
    "        stock_volume = None\n",
    "        \n",
    "    if 'Adj Close' in df.columns:\n",
    "        stock_close = df['Adj Close']\n",
    "    else:\n",
    "        stock_close = df['Close']\n",
    "    \n",
    "    # MACD, MACD Histogram\n",
    "    df['MACD'], df['MSIG'], df['MACDH'] = talib.MACD(stock_close, fastperiod=12, slowperiod=26, signalperiod=9)\n",
    "\n",
    "    # MACD > MSIG: Buy\n",
    "    # MACD < MSIG: Sell\n",
    "    df['MACD Sig'] = np.where(df['MACD'] > df['MSIG'], 1, 0) + np.where(df['MACD'] < df['MSIG'], -1, 0)\n",
    "\n",
    "    # MACD Histogram (MACDH) \n",
    "    df['MACDH Sig'] = np.where(df['MACDH'] > 0, 1, 0) + np.where(df['MACDH'] < 0, -1, 0)\n",
    "    \n",
    "    # ---------------------------------------------\n",
    "    \n",
    "    # Compute Average Directional Index (ADX)\n",
    "    if stock_low is not None and stock_high is not None:\n",
    "        df['ADX'] = talib.ADX(stock_high, stock_low, stock_close, timeperiod=14)\n",
    "\n",
    "        # ADX > 25: Strong Trend Strength \n",
    "        # ADX < 20: Weak Trend Strength\n",
    "        df['ADX Sig'] = np.where(df['ADX'] > 25, 1, 0) + np.where(df['ADX'] < 20, -1, 0)\n",
    "    \n",
    "    # ---------------------------------------------\n",
    "    \n",
    "    # Compute Relatie Strength Index (RSI)\n",
    "    df['RSI'] = talib.RSI(stock_close, timeperiod=14)\n",
    "\n",
    "    # RSI < 30: Over sold -> Buy\n",
    "    # RSI > 70: Over bought -> Sell\n",
    "    df['RSI Sig'] = np.where(df['RSI'] < 30, 1, 0) + np.where(df['RSI'] > 70, -1, 0)\n",
    "    \n",
    "    # ---------------------------------------------\n",
    "    \n",
    "    # Compute Bollinger Bands\n",
    "    df['BB Upper'], df['BB middle'], df['BB Lower'] = talib.BBANDS(stock_close, timeperiod=26)\n",
    "    df['BB Sig'] = np.where(stock_close < df['BB Lower'], 1, 0) + np.where(stock_close > df['BB Upper'], -1, 0)\n",
    "    \n",
    "    # ---------------------------------------------\n",
    "    \n",
    "    # Compute Force Index\n",
    "    if stock_volume is not None:\n",
    "        #df['FI'] = stock_volume * (stock_close - stock_close.shift(1))\n",
    "        df['FI'] = stock_volume * stock_close.diff()\n",
    "        df['EFI'] = talib.EMA(df['FI'], timeperiod=13)\n",
    "\n",
    "        # Remove Scientific Notation from columns FI and EFI\n",
    "        pd.options.display.float_format = '{:.2f}'.format\n",
    "\n",
    "        df['EFI Sig'] = np.where(df['EFI'] > 0, 1, -1)\n",
    "    \n",
    "    # ---------------------------------------------\n",
    "    \n",
    "    # Calculate 5 day simple movering average\n",
    "    df['SMA 5'] = stock_close.transform(lambda x: x.rolling(window = 5).mean())\n",
    "\n",
    "    # Calculate 15 day simple movering average\n",
    "    df['SMA 15'] = stock_close.transform(lambda x: x.rolling(window = 15).mean())\n",
    "\n",
    "    # Calculate simple moving average ratio to capture the relationship between the two moving averages\n",
    "    df['SMA 15/5'] = df['SMA 15'] / df['SMA 5']\n",
    "\n",
    "    # Calculate Signal for SMA 200/50\n",
    "    df['SMA 15/5 Sig'] = np.where(df['SMA 5'] > df['SMA 15'], 1.0, 0.0) + np.where(df['SMA 5'] < df['SMA 15'], -1.0, 0.0)\n",
    "    \n",
    "    # --------------------------------------------\n",
    "    \n",
    "    # Calculate 5 day exp movering average\n",
    "    df['EMA 5'] = talib.EMA(stock_close, timeperiod=5)\n",
    "\n",
    "    # Calculate 10 day exp movering average\n",
    "    df['EMA 15'] = talib.EMA(stock_close, timeperiod=15)\n",
    "\n",
    "    # Calculate exp moving average ratio to capture the relationship between the two moving averages\n",
    "    df['EMA 15/5'] = df['EMA 15'] / df['EMA 5']\n",
    "\n",
    "    # Calculate Signal for SMA 200/50\n",
    "    df['EMA 15/5 Sig'] = np.where(df['EMA 5'] > df['SMA 15'], 1.0, 0.0) + np.where(df['SMA 5'] < df['SMA 15'], -1.0, 0.0)\n",
    "    \n",
    "    ##############################################################\n",
    "    \n",
    "    # Calculate daily return\n",
    "    df['Returns'] = df['Close'].pct_change()\n",
    "    # Create Target column\n",
    "    df['Target'] = np.where(df['Returns'] >= 0, 1.0, -1)\n",
    "    \n",
    "    # Shift Target column by index -1 (compare today's values with tomorrow's trend)\n",
    "    df['Target'] = df['Target'].shift(-1)\n",
    "\n",
    "    # Replacing infinite with nan \n",
    "    df.replace([np.inf, -np.inf], np.nan, inplace=True) \n",
    "\n",
    "    # Dropping all the rows with nan values \n",
    "    df.dropna(inplace=True) \n",
    "    \n",
    "    return df"
   ]
  },
  {
   "cell_type": "code",
   "execution_count": 4,
   "metadata": {},
   "outputs": [],
   "source": [
    "def log_reg_indicators_only(df, ticker):\n",
    "    # Define features set\n",
    "    X = df.copy()\n",
    "    \n",
    "    # Drop useless columns\n",
    "    signal_columns = [col for col in X.columns if col.endswith(' Sig')]\n",
    "    X.drop(signal_columns, axis=1, inplace=True)\n",
    "    X.drop(['Ticker', 'Returns', 'Target'], axis=1, inplace=True)\n",
    "\n",
    "    # Some tickers do not have these indicators\n",
    "    if 'ADX Sig' in X.columns:\n",
    "        X.drop('ADX Sig', axis=1, inplace=True)\n",
    "\n",
    "    if 'EFI Sig' in X.columns:\n",
    "        X.drop('EFI Sig', axis=1, inplace=True)\n",
    "    \n",
    "    # Define target vector\n",
    "    y = df[\"Target\"].ravel()\n",
    "    \n",
    "    # Splitting into Train and Test sets\n",
    "    X_train, X_test, y_train, y_test = train_test_split(X, y, random_state=1, test_size=0.3)\n",
    "    \n",
    "    # Creating StandardScaler instance\n",
    "    scaler = StandardScaler()\n",
    "    \n",
    "    # Fitting Standard Scaller\n",
    "    X_scaler = scaler.fit(X_train)\n",
    "    \n",
    "    # Scaling data\n",
    "    X_train_scaled = X_scaler.transform(X_train)\n",
    "    X_test_scaled = X_scaler.transform(X_test)\n",
    "    \n",
    "    # Create a Logistic Regression classifier\n",
    "    log_reg_model = LogisticRegression(solver='lbfgs', max_iter=5000)\n",
    "    \n",
    "    # Fitting the model\n",
    "    log_reg_model = log_reg_model.fit(X_train_scaled, y_train)\n",
    "    \n",
    "    # Making predictions using the testing data\n",
    "    predictions = log_reg_model.predict(X_test_scaled)\n",
    "    \n",
    "    # Calculating the confusion matrix\n",
    "    cm = confusion_matrix(y_test, predictions)\n",
    "    cm_df = pd.DataFrame(\n",
    "        cm, index=[\"Actual 0\", \"Actual 1\"], columns=[\"Predicted 0\", \"Predicted 1\"]\n",
    "    )\n",
    "\n",
    "    # Calculating the accuracy score\n",
    "    acc_score = accuracy_score(y_test, predictions)\n",
    "    \n",
    "    # Displaying results\n",
    "    print(f'\\n{ticker}: Confusion Matrix (Indicators Only, No Signals)')\n",
    "    display(cm_df)\n",
    "    print(f\"Accuracy Score : {acc_score}\")\n",
    "    print(\"Classification Report\")\n",
    "    print(classification_report(y_test, predictions))\n",
    "    \n",
    "    return log_reg_model, X.columns, acc_score"
   ]
  },
  {
   "cell_type": "code",
   "execution_count": 5,
   "metadata": {},
   "outputs": [],
   "source": [
    "def log_reg_signals_only(df, ticker):\n",
    "    # Define features set\n",
    "    X = df.copy()\n",
    "    \n",
    "    # Only keep signal columns\n",
    "    column_to_keep = [col for col in X.columns if col.endswith(' Sig')]\n",
    "    X = X[column_to_keep]\n",
    "    \n",
    "    # Define target vector\n",
    "    y = df[\"Target\"].ravel()\n",
    "    \n",
    "    # Splitting into Train and Test sets\n",
    "    X_train, X_test, y_train, y_test = train_test_split(X, y, random_state=1, test_size=0.3)\n",
    "    \n",
    "    # Creating StandardScaler instance\n",
    "    scaler = StandardScaler()\n",
    "    \n",
    "    # Fitting Standard Scaller\n",
    "    X_scaler = scaler.fit(X_train)\n",
    "    \n",
    "    # Scaling data\n",
    "    X_train_scaled = X_scaler.transform(X_train)\n",
    "    X_test_scaled = X_scaler.transform(X_test)\n",
    "    \n",
    "    # Create a random forest classifier\n",
    "    log_reg_model = LogisticRegression(solver='lbfgs', max_iter=5000)\n",
    "    \n",
    "    # Fitting the model\n",
    "    log_reg_model = log_reg_model.fit(X_train_scaled, y_train)\n",
    "    \n",
    "    # Making predictions using the testing data\n",
    "    predictions = log_reg_model.predict(X_test_scaled)\n",
    "    \n",
    "    # Calculating the confusion matrix\n",
    "    cm = confusion_matrix(y_test, predictions)\n",
    "    cm_df = pd.DataFrame(\n",
    "        cm, index=[\"Actual 0\", \"Actual 1\"], columns=[\"Predicted 0\", \"Predicted 1\"]\n",
    "    )\n",
    "\n",
    "    # Calculating the accuracy score\n",
    "    acc_score = accuracy_score(y_test, predictions)\n",
    "    \n",
    "    # Displaying results\n",
    "    print(f'\\n{ticker}: Confusion Matrix (Signals Only, No Indicators)')\n",
    "    display(cm_df)\n",
    "    print(f\"Accuracy Score : {acc_score}\")\n",
    "    print(\"Classification Report\")\n",
    "    print(classification_report(y_test, predictions))\n",
    "    \n",
    "    return log_reg_model, X.columns, acc_score"
   ]
  },
  {
   "cell_type": "code",
   "execution_count": 6,
   "metadata": {},
   "outputs": [],
   "source": [
    "def features_importances(ticker, log_reg_model, X_columns):\n",
    "    feature_importance = abs(log_reg_model.coef_[0])\n",
    "    feature_importance = 100.0 * (feature_importance / feature_importance.max())\n",
    "    sorted_idx = np.argsort(feature_importance )\n",
    "    pos = np.arange(sorted_idx.shape[0]) + .5\n",
    "    \n",
    "    featfig = plt.figure()\n",
    "    featax = featfig.add_subplot(1, 1, 1)\n",
    "    featax.barh(pos,feature_importance[sorted_idx], align='center', color='lightgreen')\n",
    "    featax.set_xlabel(f'{ticker} Features Importances')\n",
    "    featax.set_yticks(pos)\n",
    "    featax.set_yticklabels(np.array( X_columns)[sorted_idx], fontsize=8)\n",
    "    \n",
    "    \n",
    "    \n",
    "    \n",
    "#     # Random Forests in sklearn will automatically calculate feature importance\n",
    "#     importances = lr_model.feature_importances_\n",
    "    \n",
    "#     # We can sort the features by their importance\n",
    "#     sorted(zip(lr_model.feature_importances_, X_columns), reverse=True)\n",
    "    \n",
    "#     # Visualize the features by importance\n",
    "#     importances_df = pd.DataFrame(sorted(zip(lr_model.feature_importances_, X_columns), reverse=True))\n",
    "#     importances_df.set_index(importances_df[1], inplace=True)\n",
    "#     importances_df.drop(columns=1, inplace=True)\n",
    "#     importances_df.rename(columns={0: 'Feature Importances'}, inplace=True)\n",
    "#     importances_sorted = importances_df.sort_values(by='Feature Importances')\n",
    "    \n",
    "#     chart = pos.plot(kind='barh', color='lightgreen', title= f'{ticker} Features Importances', legend=False) \n",
    "    plt.tight_layout()\n",
    "    plt.show()\n",
    "    return featax\n"
   ]
  },
  {
   "cell_type": "markdown",
   "metadata": {},
   "source": [
    "### Run the Logistics Regression Model for only 1 ticker"
   ]
  },
  {
   "cell_type": "code",
   "execution_count": 7,
   "metadata": {},
   "outputs": [
    {
     "name": "stdout",
     "output_type": "stream",
     "text": [
      "\n",
      "AAPL: Confusion Matrix (Indicators Only, No Signals)\n"
     ]
    },
    {
     "data": {
      "text/html": [
       "<div>\n",
       "<style scoped>\n",
       "    .dataframe tbody tr th:only-of-type {\n",
       "        vertical-align: middle;\n",
       "    }\n",
       "\n",
       "    .dataframe tbody tr th {\n",
       "        vertical-align: top;\n",
       "    }\n",
       "\n",
       "    .dataframe thead th {\n",
       "        text-align: right;\n",
       "    }\n",
       "</style>\n",
       "<table border=\"1\" class=\"dataframe\">\n",
       "  <thead>\n",
       "    <tr style=\"text-align: right;\">\n",
       "      <th></th>\n",
       "      <th>Predicted 0</th>\n",
       "      <th>Predicted 1</th>\n",
       "    </tr>\n",
       "  </thead>\n",
       "  <tbody>\n",
       "    <tr>\n",
       "      <th>Actual 0</th>\n",
       "      <td>105</td>\n",
       "      <td>238</td>\n",
       "    </tr>\n",
       "    <tr>\n",
       "      <th>Actual 1</th>\n",
       "      <td>119</td>\n",
       "      <td>283</td>\n",
       "    </tr>\n",
       "  </tbody>\n",
       "</table>\n",
       "</div>"
      ],
      "text/plain": [
       "          Predicted 0  Predicted 1\n",
       "Actual 0          105          238\n",
       "Actual 1          119          283"
      ]
     },
     "metadata": {},
     "output_type": "display_data"
    },
    {
     "name": "stdout",
     "output_type": "stream",
     "text": [
      "Accuracy Score : 0.5208053691275167\n",
      "Classification Report\n",
      "              precision    recall  f1-score   support\n",
      "\n",
      "        -1.0       0.47      0.31      0.37       343\n",
      "         1.0       0.54      0.70      0.61       402\n",
      "\n",
      "    accuracy                           0.52       745\n",
      "   macro avg       0.51      0.51      0.49       745\n",
      "weighted avg       0.51      0.52      0.50       745\n",
      "\n"
     ]
    },
    {
     "data": {
      "image/png": "iVBORw0KGgoAAAANSUhEUgAAAagAAAEYCAYAAAAJeGK1AAAABHNCSVQICAgIfAhkiAAAAAlwSFlzAAALEgAACxIB0t1+/AAAADh0RVh0U29mdHdhcmUAbWF0cGxvdGxpYiB2ZXJzaW9uMy4xLjMsIGh0dHA6Ly9tYXRwbG90bGliLm9yZy+AADFEAAAgAElEQVR4nO3deZhdVZnv8e+PEAhTIDFEmUsBGwzIVEiAJBYkMjSTODVcCUIDabvpRlCxUblIIyoO7VXsRoyASJywERAhRkigIMypMI82QxgkQACFBAlJyHv/WOuYzUlVpapS55xdp36f56mn9ll7WrWV82atvda7FBGYmZmVzRqNroCZmVlnHKDMzKyUHKDMzKyUHKDMzKyUHKDMzKyU1mx0BWpp1KhR0dLS0uhqmJlZN+bOnftSRGxcXd7UAaqlpYWOjo5GV8PMzLoh6anOyt3FZ2ZmpeQAZWZmpeQAZWZmpeQAZWZmpeQAZWZmpeQAZWZmpeQAZWZmpeQAZWZmpeQAZWZmpdTUmSRefOtFvv/n7ze6GmZmTekzIz5T0+vXPUBJmgicAQh4OdfhlIh4rN51MTOz8qprgJI0ihScDo6IhZLeC/ygnnUwM7OBod7voA4CpkXEQoCI+CMwH0DShpKulnSTpHNz2eGS7pR0vaS/V/LD/PkaSSPqXH8zM6uTegeoTcgBqRNTgEsjYgKwrqQ9gI8Cn4iIfYHfAwcDT+fP/wV8uvoikqZI6pDUseilRTX5I8zMrPbqHaDmA5t2sW9r4K683QFsA5wNnC7p4vx5e+AISe3Al4GR1ReJiKkR0RoRreuPWr9/a29mZnVT7wA1HThK0gYAkrYhtaoAngB2y9utwOPAUxFxPDAV+CzwKHBJRLRFxDjgS/WsvJmZ1U9dB0lExAJJXwWuliTgFWBJ3j0V+IWkE4D7IuJ2Sd+UNBZYH/gccCNwrqTr8znfA66q599gZmb1oYhodB1qprW1NbyirplZuUmaGxGt1eXOJGFmZqXkTBJmNmjUOvOB9a9StKAktUk6u9H1MDOz8ihFgDIzM6tWygAl6ShJt0u6RdJOksZI+k7e9ydJO0vaV9IXGl1XMzOrjdK9g5I0BDgJ2BvYjJQx4hDgfZJagAfyvhFAeyfnTyFlpWDE5s6EZGY2UJWxBbUxaYLu0oiYB2wYaSz8m0AlxdHOpEm9K40hdyYJM7PmUMYAtQBokTQ0t5hezeVzgX8FbgLWAtaOiMUNqaGZmdVcmbr4PpmzRkBqJc0GlgMn5rJbgI9HxKuSngVeakAdzcysTpxJwszMGsqZJMzMbEApUxdfv3MmCbPBx9kimkdDW1DVGSQkXSzpXyUd1M05N9endmZm1khlbEHNiIjHGl0JMzNrrDK+g2qTdDyApJ9IminpIkln5v0bSLpE0r2Sdm5cNc3MrJbKEKAmS2rPy7gfUCmUtAfwZkRMIq2kW/EuUqaIfwE+VX0xSVMkdUjqWPTSotrW3MzMaqYMAWpaXsK9DZhRKH83cF/evqdQ/lieoPsnYKPqizmThJlZcyhDgOrKk8COefv9hfLixC3VrzpmZlZPpQ1QEXEHMEzSLFKAWtrgKpmZWR2VOpOEpDUjYpmkfweejohf9uZ8Z5IwMyu/rjJJlHGYedGFkt4NvAZ8rNGVMTOz+il1gIqIlUbp9YYzSZj1jLMvWBn1+B1UzvrwVB4Sfouk7XN5u6Qbc9k3OzmvXdKaxc/9UnMzM2tqvR0kMS0PBz8V+HShfGJE7A3sIqluy9gqq9f9zMysfvraxTec9F7obyStka+3pCcXyC2pDmAccFFETJV0MfBXYAegPSLOkLQxcCGwAfBwRPxLziqxFWlJ+E+SFjmsXNdLvpuZNYHetqAmS7oJ+Anw60L5LOB+4JmIeL0X17sC2Bs4RtJaueyWiJgA7CppM+A04BsRsQ+wUNKe+bg/RsR+EbGgeEFP1DUzaw596eKbAOwMfL1QPjEixgAvSRpfdc5iYG0AScOANwr77o6It4CngNGVsvz7flI2ie2Bc3KLayKwad4/t5d1NzOzAaSvE3UXkrr5qv0FGFlV9iCwV94eBzxQ2LeTpCGk7roXK2X59w7APFIevs/mdEitwG/z/uV9rLuZmQ0AvX0HNVnSOGAYcHahfJakAF4GvlV1zreBiyR9GXgdOLaw7+PA94CfRMSSPN7hg5L+BbgxIp6V9HVgqqQNSUHphJ5WdvSQ0R4+a2Y2QPU4QEVEO6mlU13etorzngf+vovdX4iIZVVl3ymuB5XfMR1edcyZq6iumZkNcKWeqLu6PFHXbNXcy2Bl1bAA1VnLKyKOqX9NzMysjGqazVzScEnX5GwSt0lqldQiKSS15mPeKWmZpLbCeY9JOqKT67VIeiFf79pa1t3MzBqr1sttHA1cnltL41mxMu5cVrxXOowVQ8uRtBMwGziki2tel0f07VeTGpuZWSnUOkD9FdhT0qiIWBYRC3P5I6T5TQCTgJmFcz4CnAesK2ntTq65j6TZkk7p7IZe8t3MrDnUOkBNA54GbpA0U9K7CvsekbQHaeLum4XyXSNiDmn590lV15sPvBfYB5gk6f1V+51JwsysSdQ0QEXE0og4KyJ2JOXTO7mw+0rgR8A1lQJJWwM7SJoBHAEcWnW9NyPi9Tw0/WrSZF4zM2tCtR4ksZWkofnji1X3m0N6FzW9UPZR4PiIOCDn3tskZ5qoXG+DwrF7A4/XpuZmZtZotR5mvjPwa0lvAEtJWSTWBIi01vxxAIUVMw4CflA4/yFSeqQb8+fxkr5K6hK8OSLu6O7mziRhZjZwKcWJ5tTa2hodHR2NroaZmXVD0tyca/VtnEnCrAfcEjerv357B1WDSbmbSrpL0uKqJeNfzfdol1SdOd3MzJpEfw6S6O9Jua+Q1n+6var8/jxRty0iXum/6puZWZn0Z4Dq10m5EbE4Iv7cyX22zxN1z1FhdIWZmTWX/gxQ/T0ptyvbAhOAEXTS8nImCTOz5tBvAaq/J+V2c59X8hD1K+lkoq4zSZiZNYf+HCTRr5Nyu7jHeoVjPFHXzKyJ9WcX387AzZLagdOAcys7IjkuIop9bgcBtxY+VyblAiBpqKSZwE7AH3IX4bbAHEmzgS2Ay/qx/mZmViKeqGtmZg3V1UTdWmczNzMz6xNnkrBBw9kgzAaW/hwk0SbpqUKWh0Nz2TJJo/Mxu+fMEi358zBJCyWN7eR6u0i6X9K8QpmXfDczGyT6u4tvWiHLw1W57B5SBglIGSWKL4X2By5lRaaJoseAscCzVeVe8t3MbBCoxzuo60kpiwDGAA8W9h0GnA7sWH1SRCyMiNc7uV63S76bmVlz6O8ANbnQxfeBXLYEWJy78R6uHJgTwG4UEc8D90oa04Prr3LJd2eSMDNrDrXs4ruzUD4dOB+4vFDWBmyXM0lMoPNuvrfpyZLvziRhZtYc6jXMfDopk8ScQtlHgENyJom9Se+buuUl383MBo9advFNrhRGxKKcSaIyK1jAbhFRDDALJW1V+SBpi5xJYoecfLaFtOT7XEm3As+tasl3MzMbuJxJwszMGsqZJMzMbEBxJgkbUJwNwmzwqGkLqgbZJYrXu6SWdTczs8aqRxdff2aXKF7v6NpU18zMyqBR76D6lF0iOzJnkjiyhvUzM7MGq0eA6s/sEh3AdsABwEmSNq6+mTNJmJk1h3p38a1Wdok8n2ppztF3E2mFXaqOcSYJM7Mm0Mhh5r3OLiFpeP49BNgdmFefqpqZWb3VY5j5ZEnj8vaFwDOQWkPAcQCSoJvsEhHxVP78CUlTgOXALyPiuTrU38zMGsCZJMzMrKGcScLMzAYUZ5Kw0nLWCLPBrdsWVFXmhlskbZ/L2yXdmMu+2dubSvpeHuhQLLu4kk2iUHZmrkObpLN7ex8zMxu4etLFNy0i2oBTgU8XyifmkXa7SBrRm5tGxMkR8VZvzjEzs8GlN++ghgOvFQskrUHqJlxSVd4u6Wt5wuwJkn4m6V5J+xf2rynp3ZJul3QlsHneN1LSDZKmAztXV0LS8TmTxGxJu/buzzUzs4GiJ++gJkuaQJoUu1+hfBYwCujIE2erXQacBTwHvA8YQpqY+4fCMacCnwPuAO7NZccDF0TEzyUVj0XSKOBQ0iTeEcBFwIerjpkCTAEYsXmvGnZmZlYiPe3im0BqzXy9UD4xIsYAL0ka38l5D0TEm8AjEfFCnrNUHTHeA9wdEcuA+4plefuuTo7fCbiBlIFio+qbOpOEmVlz6E0X30JSN1+1vwAjOymPqt+QJuMWPQnslAdM7Fgsy9u7dHL8nErqJOBDPau6mZkNND3t4hsHDAOKI+lmSQrgZeBbfbz/d4BfAC/kH4ALgN9IOhp4s3hwRCyQdI2km4C3SFnRv9rVxUcPGe2hymZmA5QzSZiZWUN1lUnCE3WtbtyaNbPecKojMzMrpboHKEn75zlM7ZK+W51RwszMDOocoPI8pi8DB+RReAuAE+pZBzMzGxjq3YI6iDSvqjKx9/8Bh+dsElNz5omDASTtUcgBeGwua5f0DUlzJB3X2Q285LuZWXOod4DahJRZAoCIWAysBWxMGsL+QeCLefdZpKwR44BPSlorl/86l32qsxt4oq6ZWXOo9yi++cCmlQ+ShgFLgZcj4ulcVkkiuxNwVd4eRQpikDJULJW0vD5VNjOzRqh3C+r3wNGS1sufTwGuBEZK2lzSuqScfZDSHR2U31XtEhF/yuXNO3HLzMz+pq4tqIh4UdI3gBm5BXQ38G3gaOBMUr6/s/LhXwGuyhnTXwE+2tv7OZOEmdnAVfeJuhExHZheLJO0LCKOrzruTmBiVVlbZ9tmZtZ8nEnCuuTWp5k1UikySUTEuMp2YZn5GyRdJ+kdkj6Zh6LPljQ1H3expG0aV2szM6ulsragpkXE6ZKOAo4kvaPaKyKW9XZ5eTMzG5hK0YLqRmVBwvWAPSStERF/bmSFzMysPsoaoCZLuhf4J2AacAxpefj/lfRP3Z3oTBJmZs2hrAFqGrAr0AFsGRFzIuLDpFV3/1FSlykinEnCzKw5lDVAERFvAecAX5K0bS77K/BGQytmZmZ1UdZBEgBExKOSNgZ+KGmdXHxZRCyS1MiqmZlZjXnJdzMza6iulnwvbRefmZkNbqXu4ltdgzGThLM/mFmz6NcWVM4CsUzS6Px5d0khqUXSMEkLJY0tHD9K0q/yQoQ3SzqwkEliVi4/Mh/bIulnhXPPlDSpP+tvZmblUYsuvnuAw/L24aSh4gD7A5fmsoofAP+dE7/uC/wll0+LiInAgaTFCnetQT3NzKzEahGgrmdFFvIxwIN5+zDgdNJcJiQNATaJiNkAEbEkIm4rXigi3gD+EzikBvU0M7MSq8U7qCXA4tyV9zDwrnyfjSLieUn3ShoDvAws6MH1nsvXAPiQpPa83QLcXH2wpCnAFIARmzttn5nZQFWrUXzTgfOBy/PnNmA7STOACaRuvgWsWMa9O5uRlooHuC4i2nKX4MWdHexMEmZmzaGWAWouMCd//ghwSEQcEBF7A2Nzpoj5ksYDSBpaHECRy4YBJwO/q1E9zcyspGoSoCJiUUQcF2kWsIDdIuLxwiELJW0F/BtwYu62u4EV2csnS5oFzAB+FRF316KeZmZWXs4kYWZmDeVMEmZmNqA4k0QJORuEmVlJW1CFbBLt+efQqs8b5t9NHWDNzAazUgaobFphSPlrxc8R8WqD62ZmZjVW5gBlZmaDWJm7yCZLGpe3pxc+PxkRx3Z1kjNJmJk1hzIHqGkRcTqkd1LA8Mrn7kTEVGAqwJa7bNm8Y+jNzJqcu/jMzKyUytyCKnbxXdjQmpiZWd05k4SZmTWUM0mYmdmAUuYuvtU2UDJJOHOEmdnKetyC6iK7Q5ukZZJG52N2lxSSWvLnYZIWVi+jkfftIul+SfMKZS2SXsjXv7ZQvpakn1fV4ZLV+LvNzKzketvFV8zmcFUuu4e0nDukhQiLL332By7N5dUeA8YCz1aVVxYl3K9Qthdwa1Udju5l3c3MbADpj3dQ1wMT8/YY4MHCvsOA04Edq0+KiIUR8Xon19tH0mxJpxTK9gOuy9tH5v1Hrn7VzcysrHoboCYXuvg+kMuWAItzN97DlQNzIteNIuJ54F5JY3pw/fnAe4F9gEmS3p/L3xsRfyS1zrYDDgBOkrTSkvGSpkjqkNSx6KVFvfzzzMysLFani+/OQvl04Hzg8kJZG7CdpBnABDrv5nubiHgzIl6PiGXA1cAOkkYCL+f9iyJiaW553QRs28k1pkZEa0S0rj9q/V7+eWZmVhb9Ncx8OjAXmFMo+whwSEQcEBF7k943dUvSBoWPewOPA5OAWXn/8Px7CLA7MK8/Km9mZuWzOl18kyuFuWVzXKyY9Stgt4h4vHDuQklbVT5I2kLSTFIraWYe+Tde0lxJtwLPRcQdpPdbs/Jpn5B0J3AL8NuIeK6X9TczswGi9JkkJH0iIn7dl3OdScLMrPwGbCaJvgYnMzMb2JxJooGcQcLMrGu9ySQxXNI1+f3TbZJac+aHkNSaj3lnzizRVjjvMUlHdHK9TSXdJWlxHpJeKX+18J5rZKH8sq4yTZiZWfPpTRff0cDlEdEGjAcezeVzWTGE/DDg7soJknYCZgOHdHK9V0gDIG6vKr+/MJT9lXydFuDJvL+zTBNmZtZkehOg/grsKWlURCyLiIW5/BFg+7w9CZhZOOcjwHnAupLWLl4sIhZHxJ87uc/2OVPEOZKUy4qZJDrLNPE3nqhrZtYcehOgpgFPAzfkYeHvKux7RNIewBvAm4XyXSNiDjCDFLx6YlvSxN4RrGh5jSe1xLrKNPE3nqhrZtYcehygcgaHsyJiR9IKtycXdl8J/Ai4plIgaWvSHKcZwBHAoT28zyt5PtWV+fw1gLUi4o3OMk30tP5mZjaw9GaQxFaShuaPL1adO4f0Lmp6oeyjwPE5k8Q+wCY5A0R391ivcEwlk0RrvnZXmSbMzKwJ9WaY+c7AryW9ASwFjq2cn1s8xwGseG3EQcAPCuc/BIwDbszHDQV+D+wE/EHSl0jdgxdJeh14AvgKcBorWmbjJX01H3dzzjTRpdFDRnsot5nZADUQMkl8DPhN9KGiziRhZlZ+XWWSKP1E3Yi4rK/nlmGirltwZmZ9U/pUR2ZmNjj1KUB1lR0i72vPv0+TtFnVvlGSfpUzQdws6UBJbZLO7ks9zMysefU6QK0iO8TfRMQ5EfGnquIfAP+ds1HsC/ylt/c3M7PBoS8tqJWyQ0g6OK/j9CPyey1JF0vapnJSHj6+SUTMBoiIJRFxW/HCkv5d0i2Srpe0paSRubV1g6RzC/e6SdKtkg6orpwzSZiZNYe+BKjOskN8EfggcDbwri7O2xhY0NVFc2aKffPqu2fka+4KtOd5VJ/Jk3Y/T2p9tQGnVl/HmSTMzJpDrwJUN9khludVdZ+h6yC0gBSkutIC3Je3O4BtSHOm1pD0C+AoYBQp799M4FrS5F+tfCkzMxvoejvMvJIdYhaApKty190aktYj5c/rNAhFxFuS5ksaHxGz80Td3QqHzCNN2oWUPeJxYEhEnJHvdQ/wc+B+YP98vaF9mR9lZmbl19sA1VV2iG8CNwF3Ac93c/6/Af+Vs0GsSeoSXAwQEc/nd023AkuATwEfkPR1YCgwMyKWS/ouMEtS5Puf2NXNnEnCzGzgqlkmCUm/BD7fyUi+unEmCTOz8qtrJglJRwPrNDI4Qe0zSbh1ZmZWOzUJUBFxCXBJf14zLyP/U1asrLshsHteesPMzJrMQEt1NK2yHDzwaqMrY2ZmtTPQApSZmQ0Spc9mXmWypHGs6OZbiaQpwBSAEZuPqFe9zMysnw20FlSli+/Yrg5wJgkzs+Yw0AKUmZkNEg5QZmZWSqVf8n11eKKumVn5dTVR1y0oMzMrpYE2iq9XapVJwhkkzMxqry4tqLys+zJJo/Pn3SWFpBZJwyQtlDS2cHxXS8M/JWlWLj+yHnU3M7PGqGcX3z3AYXn7cNKaTwD7A5fmsoquloafFhETgQOBT0ratdaVNjOzxqhngLoemJi3xwAP5u3DgNOBHaFnS8NHxBvAfwKH1KHeZmbWAPUMUEuAxbkr7+FctiawUUQ8D9wraQyrWBq+4Dk6WV5e0hRJHZI6Fr20qJ+qbmZm9VbvUXzTgfOBy/PnNmC7vIT8BFI336qWhq/YDJhfXehMEmZmzaERAWouMCd//ghwSEQcEBF7A2Mj4i1gvqTxAJKGFgdQ5LJhwMnA7+pXdTMzq6e6BqiIWBQRx0WaHSxgt4h4vHDIQklbkZaGP1FSO3ADsFHeP1nSLGAG8KuIuLuO1TczszpyJgkzM2soZ5IwM7MBxZkkesEZJMzM6qcULShJj0k6Im+355+ZkqZJemcuP1/Svnn7BEmfb2SdzcysthoeoCTtBMzm7ZNuJ0XEJOAnwA9z2RnAGZKGA8eSsk2YmVmTaniAIg01Pw9YV9LaxR0RcT2woaQhEfEicC0wC/heRLxZ/6qamVm9lCFA7RoRc0hDxyd1sv9FYFTevp6UJumari7mTBJmZs2hoQFK0tbADjmTxBHAoZ0cNhp4KW+fAZwDnNLVNZ1JwsysOTS6BfVR4PicSWIfYBNgSGWnpA8Cf46ItyQdQsrh91VgUmXpDjMza06NDlAHAbcWPj8EjANmSpoJnEDKKLEmcBpwds5CcRbwlXpX1szM6seZJMzMrKGcScLMzAYUZ5Ko4mwRZmbl0G8tKEk3Sdqo8Pn7kiZ0clx7fqdkZmbWpf7s4rsaOLjweS/gln68vpmZDSL9GaAuBw4DkLQrcC+wj6Tb88/bJuFKuljSNnm7Pf8+U9KPcx6+8yX933zuGXn/xpKuknSDpPP6se5mZlYy/RagIuIxYLO82u3hwBXAmcB++eesHl7qoZyH7z3AAxExlhUTeE8DvpHnTC2UtGf1yc4kYWbWHPp7FN91pHRFk4CZQETEaxHxGvBW1bHF8e0qbD+Qfz9X2F4kaQiwPXBObnFNBDatroAzSZiZNYf+HqxwOfA94OmIeFPSGjn7OBQyRGSvAptIegbYtlAeXWwLeBT4WUTMBfBgCzOz5tWvX/ARca+kLYAf5aKzSBnIRcqjV3QJaTmNe4Dne3iLrwNTJW0ILCdlmniyq4NHDxntYeNmZgOUM0mYmVlDdZVJoqm7yHoyUdctLDOzcnKqIzMzK6VeBShJbZKeytkgbpG0fS5vl3RjLvtmJ+c5e4SZmfVKX1pQ0yKiDTgV+HShfGJE7A3sImlEf1SuJyS5FWhm1oRW58t9OPBasSAHizWBJd2dKGlDSVfn/H3n5rJLc/kUSVfksmskDZF0cD72VkkH5H23S/oh8J2qa3uirplZE+hLt9vknAR2W1KGiIpZwCigIyJeX8U1pgCXRsQ0SRdI2gO4HRgLtAJLJQ0lTe4N4PPAvqSA+ntgRr7X1yLi2eKFI2IqMBVgy122bN4himZmTa6vXXwTgJ1J85IqJkbEGOAlSeNXcY2tgbvydgewDSmx7F7AOqQ8fv8A3E0KRNuTMlNcS5rcK+DF6uBkZmbNY3W6+BaSuvmq/QUYuYpznwB2y9utwOOkYLQf8AIpWH2etBz8S8D9pADYBuyUl31fvhp1NzOzkutrF984YBhwdqF8lqQAXga+1cl5f8j7nwY+C/xC0gnAfRFxO4CkJaTgdCewHXB7RCyX9N3C9R8CTuxJRZ1Jwsxs4HImCTMzayhnkihwq8rMrPwaMocoT/hdJml0/ry7pJA0QdKsPLH3Vklb5GPPzsdtKemKvP9mScc3ov5mZlZ7jWxB3UNagffHpAUOO4CTgK9HxKy88CGkEX8VFwAnRcQjec7VXvWssJmZ1U8jszBcT1p0EGAM8CDwV6BN0vCIWBwRiysHS9qSNLT8EYCIWB4RN9e70mZmVh+NDFBLgMWSxgIP57JvA+sCcyT9j6T1CsdvCswHkPS+3M3XXn1RZ5IwM2sOjc5jNx04n7QSL8DCiPhcRPwdMBeYXDh2PnmJ94h4KM+JWomXfDczaw5lCFBzgTn585CcJQJgAYX6RcRTwLsKGdTFysvIm5lZk2joMPOIWAQcB5Dj0iTgOEmvkzJVfJIVGSfIx54raTgpk8Slda2wmZnVjSfqmplZQ3U1UbfRXXxmZmadcoAyM7NScoAyM7NScoAyM7NScoAyM7NScoAyM7NScoAyM7NScoAyM7NScoAyM7NScoAyM7NSaupUR5IWAo82uh4lMwp4qdGVKBk/k5X5mazMz2Rl/fVMtoqIjasLG5ostg4e7Sy/02AmqcPP5O38TFbmZ7IyP5OV1fqZuIvPzMxKyQHKzMxKqdkD1NRGV6CE/ExW5meyMj+TlfmZrKymz6SpB0mYmdnA1ewtKDMzG6AcoMzMrJSaNkBJOkDSo5Iek3Rao+vTCJK2kHSDpIclPSjpM7l8pKTrJP1v/j2i0XWtJ0lDJN0t6er8eVA/DwBJG0m6TNIj+f8vew725yLplPzfzQOSfilp2GB7JpIukvSipAcKZV0+A0lfzN+5j0raf3Xv35QBStIQ4L+BA4H3AUdKel9ja9UQy4DPRcT2wFjgxPwcTgNmRcS2wKz8eTD5DPBw4fNgfx4A3wdmRMR2wE6k5zNon4ukzYCTgNaI2AEYAhzB4HsmFwMHVJV1+gzyd8sRwJh8znn5u7jPmjJAAR8AHouIJyJiCfAr4LAG16nuImJ+RNyVtxeSvnQ2Iz2Ln+bDfgp8uDE1rD9JmwMHARcUigft8wCQNByYAFwIEBFLIuIvDPLnQkpksI6kNYF1gecYZM8kIm4CXqkq7uoZHAb8KiLejIgngcdI38V91qwBajPgmcLnZ3PZoCWpBdgFuAN4Z0TMhxTEgNGNq1ndfQ/4ArC8UDaYnwfAe4AFwE9y1+cFktZjED+XiPgT8B3gaWA+8GpEXMsgfiYFXT2Dfv/ebdYApU7KBu14eknrA78BTo6I1xpdn0aRdDDwYkTMbXRdSmZNYFfghxGxC/A6zd911a38XuUw4N3ApsB6ko5qbK1Kr9+/d5s1QD0LbFH4vDmpeT7oSBpKCk4/j4jLc/ELkjbJ+zcBXmxU/epsb+BQSfNI3b77SvoZg/d5VDwLPEYyjAMAAAaESURBVBsRd+TPl5EC1mB+LpOAJyNiQUQsBS4H9mJwP5OKrp5Bv3/vNmuAmgNsK+ndktYivbi7qsF1qjtJIr1XeDgivlvYdRXwqbz9KeC39a5bI0TEFyNi84hoIf1/4vqIOIpB+jwqIuJ54BlJf5eLJgIPMbify9PAWEnr5v+OJpLe4Q7mZ1LR1TO4CjhC0tqS3g1sC9y5Ojdq2kwSkv6e9L5hCHBRRHytwVWqO0njgNnA/ax45/Il0nuoXwNbkv5D/HhEVL8IbWqS2oDPR8TBkt6Bn8fOpIEjawFPAMeS/gE7aJ+LpP8A/oE0GvZu4HhgfQbRM5H0S6CNtKzGC8BXgCvp4hlI+jLwj6RndnJE/H617t+sAcrMzAa2Zu3iMzOzAc4ByszMSskByszMSskByszMSskByszMSskBygYESYdLCknbdbLvFEmLJW1YKGuT9GpO3fOwpK8Uyq9exb0ulvSkpHvyz0l9rPMxkjbty7l9JaldUmud7/mlet7PBg8HKBsojgRuJk2w7WzfHODwqvLZOXVPK3CUpN16cb9TI2Ln/HNun2oMx5DS5PRYTkw6IChZgzS3zqzfOUBZ6eVcgnsDx1EVoCRtTZo8eTopUK0kIl4H5gJbr2Y99pN0m6S7JP1PrheSzpA0J68bNDV/cX+MFBh/nlth60iaJ2lUPqdVUnvePjOfdy1widJ6Vd/O17xP0j/l4zaRdFO+3gOSxq+ivoskfVPSXEkzJX0gt7CekHRoPuYYSb+VNCOv4fOVwvmfzfd5QNLJuawlt0jPA+4iZSpZJ9fp5/mYK/M9H5Q0pao+X5N0r6TbJb0zl79T0hW5/F5Je+XyoyTdma/9o/xchuQW7gOS7pd0yur8b2olFxH+8U+pf4CjgAvz9q3AroV9pwP/l/SPrXnA6FzeBlydt9+R940plndzv4uBJ4F78s+OpJn0NwHr5WP+HTgjb48snDsNOCRvt5PWE6rsmweMytutQHvePpMUQNfJn6cAp+fttYEOUtLSzwFfzuVDgA06qfvf7klK1Hlg3r4CuBYYSlrv6Z5cfgwpW/c7gHWAB3LddiNlIFmP9A+AB0nZ8FtIWUnGFu65qKoOI/PvyvXeUahP5dl8q/A3XkrKOlD5uzYEtgd+BwzN5ecBR+d6XVe410aN/v+nf2r3M2C6E2xQO5KUtgpSktcjSf96h9SiOjwilku6HPg4abFKgPGS7iZ9oZ4TEQ/mFEc9cWpEXFb5oJQJ/X3ALSk1G2sBt+Xd+0j6AmnNoJGkL/Pf9fJvvCoi3sjb+wHvz60wSF/Y25K6MS9SSgB8ZUTcs4prLgFm5O37gTcjYqmk+0mBpuK6iHg5/52XA+NIweSKSK3PSvl4Ur61pyLi9m7ue5KkSnfrFrnuL+f6VN7/zQU+lLf3JQUfIuIt4FVJk0nBaE5+3uuQkpL+DniPpB8A15CCrjUpBygrNaU8efsCO0gK0r+wIweEHUlfftcVgsYTrAhQsyPi4P6qCumL/G3diJKGkf513xoRz0g6ExjWxTWWsaJbvfqY16vu9W8R8YeVKiFNIC24OE3StyPikm7qvDQiKrnMlgNvAuRgXvxvvzrfWdD50gmd1bW6fm2kTOB7RsRfczdm5W8t1uctuv/+EfDTiPhiJ/fYCdgfOBH4BCn3mzUhv4OysvsYcElEbBURLRGxBan7bRypJXVmLm+JiE2BzSRtVYN63A7sLWkbAKUs1+9lxZfvS/md1McK5ywENih8nkdqFQB8tJt7/QH459xSQtJ7Ja2X/64XI+LHpHc/u67m31TxIUkjJa1DWh31FlJ35ofz37keaQDK7C7OX1qpK6m19+ccnLYDxvbg/rOAfwbI75iG57KPSRqdy0dK2iq/w1sjIn5D6trtr2dgJeQWlJXdkcA5VWW/Af4PcABwYNW+K0jdfnfQtYmSni18/nhE3Nbl0UBELJB0DPBLSWvn4tMj4o+SfkzqQptH6oaruBg4X9IbwJ7AfwAXKg3L7q5+F5C64O5SahouIAWONuBUSUuBReRusX5wM+nd2TbALyKiA9Jwe1Ysl3BBRNyttDJztanAfZLuIrVmPi3pPuBRUmBflc8AUyUdR2pZ/XNE3CbpdOBapZGCS0ktpjdIK/9W/nG9UgvLmoezmZsNYjnotkbEvza6LmbV3MVnZmal5BaUmZmVkltQZmZWSg5QZmZWSg5QZmZWSg5QZmZWSg5QZmZWSv8fcVMfRuAiuI8AAAAASUVORK5CYII=\n",
      "text/plain": [
       "<Figure size 432x288 with 1 Axes>"
      ]
     },
     "metadata": {
      "needs_background": "light"
     },
     "output_type": "display_data"
    },
    {
     "name": "stdout",
     "output_type": "stream",
     "text": [
      "\n",
      "AAPL: Confusion Matrix (Signals Only, No Indicators)\n"
     ]
    },
    {
     "data": {
      "text/html": [
       "<div>\n",
       "<style scoped>\n",
       "    .dataframe tbody tr th:only-of-type {\n",
       "        vertical-align: middle;\n",
       "    }\n",
       "\n",
       "    .dataframe tbody tr th {\n",
       "        vertical-align: top;\n",
       "    }\n",
       "\n",
       "    .dataframe thead th {\n",
       "        text-align: right;\n",
       "    }\n",
       "</style>\n",
       "<table border=\"1\" class=\"dataframe\">\n",
       "  <thead>\n",
       "    <tr style=\"text-align: right;\">\n",
       "      <th></th>\n",
       "      <th>Predicted 0</th>\n",
       "      <th>Predicted 1</th>\n",
       "    </tr>\n",
       "  </thead>\n",
       "  <tbody>\n",
       "    <tr>\n",
       "      <th>Actual 0</th>\n",
       "      <td>124</td>\n",
       "      <td>219</td>\n",
       "    </tr>\n",
       "    <tr>\n",
       "      <th>Actual 1</th>\n",
       "      <td>153</td>\n",
       "      <td>249</td>\n",
       "    </tr>\n",
       "  </tbody>\n",
       "</table>\n",
       "</div>"
      ],
      "text/plain": [
       "          Predicted 0  Predicted 1\n",
       "Actual 0          124          219\n",
       "Actual 1          153          249"
      ]
     },
     "metadata": {},
     "output_type": "display_data"
    },
    {
     "name": "stdout",
     "output_type": "stream",
     "text": [
      "Accuracy Score : 0.5006711409395973\n",
      "Classification Report\n",
      "              precision    recall  f1-score   support\n",
      "\n",
      "        -1.0       0.45      0.36      0.40       343\n",
      "         1.0       0.53      0.62      0.57       402\n",
      "\n",
      "    accuracy                           0.50       745\n",
      "   macro avg       0.49      0.49      0.49       745\n",
      "weighted avg       0.49      0.50      0.49       745\n",
      "\n"
     ]
    },
    {
     "data": {
      "image/png": "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\n",
      "text/plain": [
       "<Figure size 432x288 with 1 Axes>"
      ]
     },
     "metadata": {
      "needs_background": "light"
     },
     "output_type": "display_data"
    },
    {
     "data": {
      "text/plain": [
       "<AxesSubplot:xlabel='AAPL Features Importances'>"
       "<matplotlib.axes._subplots.AxesSubplot at 0x16c3e67fd00>"
      ]
     },
     "execution_count": 7,
     "metadata": {},
     "output_type": "execute_result"
    }
   ],
   "source": [
    "file_path = Path(\"Resources/Data/AAPL.csv\")\n",
    "df = pd.read_csv(file_path, index_col=\"Date\")\n",
    "ticker = df.Ticker.unique().tolist()[0]\n",
    "\n",
    "# Calculate indicators and prepare data\n",
    "df = add_indicators_and_signals(df)\n",
    "\n",
    "# Make predictions using indicator values only and display confusion matrix\n",
    "log_reg_model, X_columns, tmp_acc = log_reg_indicators_only(df, ticker)\n",
    "\n",
    "# Display importance features graph\n",
    "features_importances(ticker, log_reg_model, X_columns)\n",
    "\n",
    "# Make predictions using signals only and display confusion matrix\n",
    "log_reg_model, X_columns, tmp_acc = log_reg_signals_only(df, ticker)\n",
    "\n",
    "# Display importance features graph\n",
    "features_importances(ticker, log_reg_model, X_columns)\n"
   ]
  },
  {
   "cell_type": "markdown",
   "metadata": {},
   "source": [
    "\n",
    "### Run the Random Forest Model for All the Data Files in the 'Resources/Data Folder'"
   ]
  },
  {
   "cell_type": "code",
   "execution_count": 8,
   "metadata": {},
   "outputs": [
    {
     "name": "stdout",
     "output_type": "stream",
     "text": [
      "\n",
      "----------------------- AAPL -----------------------\n",
      "\n",
      "\n",
      "AAPL: Confusion Matrix (Indicators Only, No Signals)\n"
     ]
    },
    {
     "data": {
      "text/html": [
       "<div>\n",
       "<style scoped>\n",
       "    .dataframe tbody tr th:only-of-type {\n",
       "        vertical-align: middle;\n",
       "    }\n",
       "\n",
       "    .dataframe tbody tr th {\n",
       "        vertical-align: top;\n",
       "    }\n",
       "\n",
       "    .dataframe thead th {\n",
       "        text-align: right;\n",
       "    }\n",
       "</style>\n",
       "<table border=\"1\" class=\"dataframe\">\n",
       "  <thead>\n",
       "    <tr style=\"text-align: right;\">\n",
       "      <th></th>\n",
       "      <th>Predicted 0</th>\n",
       "      <th>Predicted 1</th>\n",
       "    </tr>\n",
       "  </thead>\n",
       "  <tbody>\n",
       "    <tr>\n",
       "      <th>Actual 0</th>\n",
       "      <td>105</td>\n",
       "      <td>238</td>\n",
       "    </tr>\n",
       "    <tr>\n",
       "      <th>Actual 1</th>\n",
       "      <td>119</td>\n",
       "      <td>283</td>\n",
       "    </tr>\n",
       "  </tbody>\n",
       "</table>\n",
       "</div>"
      ],
      "text/plain": [
       "          Predicted 0  Predicted 1\n",
       "Actual 0          105          238\n",
       "Actual 1          119          283"
      ]
     },
     "metadata": {},
     "output_type": "display_data"
    },
    {
     "name": "stdout",
     "output_type": "stream",
     "text": [
      "Accuracy Score : 0.5208053691275167\n",
      "Classification Report\n",
      "              precision    recall  f1-score   support\n",
      "\n",
      "        -1.0       0.47      0.31      0.37       343\n",
      "         1.0       0.54      0.70      0.61       402\n",
      "\n",
      "    accuracy                           0.52       745\n",
      "   macro avg       0.51      0.51      0.49       745\n",
      "weighted avg       0.51      0.52      0.50       745\n",
      "\n"
     ]
    },
    {
     "data": {
      "image/png": "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\n",
      "text/plain": [
       "<Figure size 432x288 with 1 Axes>"
      ]
     },
     "metadata": {
      "needs_background": "light"
     },
     "output_type": "display_data"
    },
    {
     "name": "stdout",
     "output_type": "stream",
     "text": [
      "-----\n",
      "\n",
      "\n",
      "AAPL: Confusion Matrix (Signals Only, No Indicators)\n"
     ]
    },
    {
     "data": {
      "text/html": [
       "<div>\n",
       "<style scoped>\n",
       "    .dataframe tbody tr th:only-of-type {\n",
       "        vertical-align: middle;\n",
       "    }\n",
       "\n",
       "    .dataframe tbody tr th {\n",
       "        vertical-align: top;\n",
       "    }\n",
       "\n",
       "    .dataframe thead th {\n",
       "        text-align: right;\n",
       "    }\n",
       "</style>\n",
       "<table border=\"1\" class=\"dataframe\">\n",
       "  <thead>\n",
       "    <tr style=\"text-align: right;\">\n",
       "      <th></th>\n",
       "      <th>Predicted 0</th>\n",
       "      <th>Predicted 1</th>\n",
       "    </tr>\n",
       "  </thead>\n",
       "  <tbody>\n",
       "    <tr>\n",
       "      <th>Actual 0</th>\n",
       "      <td>124</td>\n",
       "      <td>219</td>\n",
       "    </tr>\n",
       "    <tr>\n",
       "      <th>Actual 1</th>\n",
       "      <td>153</td>\n",
       "      <td>249</td>\n",
       "    </tr>\n",
       "  </tbody>\n",
       "</table>\n",
       "</div>"
      ],
      "text/plain": [
       "          Predicted 0  Predicted 1\n",
       "Actual 0          124          219\n",
       "Actual 1          153          249"
      ]
     },
     "metadata": {},
     "output_type": "display_data"
    },
    {
     "name": "stdout",
     "output_type": "stream",
     "text": [
      "Accuracy Score : 0.5006711409395973\n",
      "Classification Report\n",
      "              precision    recall  f1-score   support\n",
      "\n",
      "        -1.0       0.45      0.36      0.40       343\n",
      "         1.0       0.53      0.62      0.57       402\n",
      "\n",
      "    accuracy                           0.50       745\n",
      "   macro avg       0.49      0.49      0.49       745\n",
      "weighted avg       0.49      0.50      0.49       745\n",
      "\n"
     ]
    },
    {
     "data": {
      "image/png": "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\n",

      "text/plain": [
       "<Figure size 432x288 with 1 Axes>"
      ]
     },
     "metadata": {
      "needs_background": "light"
     },
     "output_type": "display_data"
    },
    {
     "name": "stdout",
     "output_type": "stream",
     "text": [
      "\n",
      "----------------------- AMZN -----------------------\n",
      "\n",
      "\n",
      "AMZN: Confusion Matrix (Indicators Only, No Signals)\n"
     ]
    },
    {
     "data": {
      "text/html": [
       "<div>\n",
       "<style scoped>\n",
       "    .dataframe tbody tr th:only-of-type {\n",
       "        vertical-align: middle;\n",
       "    }\n",
       "\n",
       "    .dataframe tbody tr th {\n",
       "        vertical-align: top;\n",
       "    }\n",
       "\n",
       "    .dataframe thead th {\n",
       "        text-align: right;\n",
       "    }\n",
       "</style>\n",
       "<table border=\"1\" class=\"dataframe\">\n",
       "  <thead>\n",
       "    <tr style=\"text-align: right;\">\n",
       "      <th></th>\n",
       "      <th>Predicted 0</th>\n",
       "      <th>Predicted 1</th>\n",
       "    </tr>\n",
       "  </thead>\n",
       "  <tbody>\n",
       "    <tr>\n",
       "      <th>Actual 0</th>\n",
       "      <td>80</td>\n",
       "      <td>261</td>\n",
       "    </tr>\n",
       "    <tr>\n",
       "      <th>Actual 1</th>\n",
       "      <td>76</td>\n",
       "      <td>328</td>\n",
       "    </tr>\n",
       "  </tbody>\n",
       "</table>\n",
       "</div>"
      ],
      "text/plain": [
       "          Predicted 0  Predicted 1\n",
       "Actual 0           80          261\n",
       "Actual 1           76          328"
      ]
     },
     "metadata": {},
     "output_type": "display_data"
    },
    {
     "name": "stdout",
     "output_type": "stream",
     "text": [
      "Accuracy Score : 0.5476510067114094\n",
      "Classification Report\n",
      "              precision    recall  f1-score   support\n",
      "\n",
      "        -1.0       0.51      0.23      0.32       341\n",
      "         1.0       0.56      0.81      0.66       404\n",
      "\n",
      "    accuracy                           0.55       745\n",
      "   macro avg       0.53      0.52      0.49       745\n",
      "weighted avg       0.54      0.55      0.51       745\n",
      "\n"
     ]
    },
    {
     "data": {
      "image/png": "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\n",

      "text/plain": [
       "<Figure size 432x288 with 1 Axes>"
      ]
     },
     "metadata": {
      "needs_background": "light"
     },
     "output_type": "display_data"
    },
    {
     "name": "stdout",
     "output_type": "stream",
     "text": [
      "-----\n",
      "\n",
      "\n",
      "AMZN: Confusion Matrix (Signals Only, No Indicators)\n"
     ]
    },
    {
     "data": {
      "text/html": [
       "<div>\n",
       "<style scoped>\n",
       "    .dataframe tbody tr th:only-of-type {\n",
       "        vertical-align: middle;\n",
       "    }\n",
       "\n",
       "    .dataframe tbody tr th {\n",
       "        vertical-align: top;\n",
       "    }\n",
       "\n",
       "    .dataframe thead th {\n",
       "        text-align: right;\n",
       "    }\n",
       "</style>\n",
       "<table border=\"1\" class=\"dataframe\">\n",
       "  <thead>\n",
       "    <tr style=\"text-align: right;\">\n",
       "      <th></th>\n",
       "      <th>Predicted 0</th>\n",
       "      <th>Predicted 1</th>\n",
       "    </tr>\n",
       "  </thead>\n",
       "  <tbody>\n",
       "    <tr>\n",
       "      <th>Actual 0</th>\n",
       "      <td>109</td>\n",
       "      <td>232</td>\n",
       "    </tr>\n",
       "    <tr>\n",
       "      <th>Actual 1</th>\n",
       "      <td>135</td>\n",
       "      <td>269</td>\n",
       "    </tr>\n",
       "  </tbody>\n",
       "</table>\n",
       "</div>"
      ],
      "text/plain": [
       "          Predicted 0  Predicted 1\n",
       "Actual 0          109          232\n",
       "Actual 1          135          269"
      ]
     },
     "metadata": {},
     "output_type": "display_data"
    },
    {
     "name": "stdout",
     "output_type": "stream",
     "text": [
      "Accuracy Score : 0.5073825503355704\n",
      "Classification Report\n",
      "              precision    recall  f1-score   support\n",
      "\n",
      "        -1.0       0.45      0.32      0.37       341\n",
      "         1.0       0.54      0.67      0.59       404\n",
      "\n",
      "    accuracy                           0.51       745\n",
      "   macro avg       0.49      0.49      0.48       745\n",
      "weighted avg       0.50      0.51      0.49       745\n",
      "\n"
     ]
    },
    {
     "data": {
      "image/png": "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\n",

      "text/plain": [
       "<Figure size 432x288 with 1 Axes>"
      ]
     },
     "metadata": {
      "needs_background": "light"
     },
     "output_type": "display_data"
    },
    {
     "name": "stdout",
     "output_type": "stream",
     "text": [
      "\n",
      "----------------------- BABA -----------------------\n",
      "\n",
      "\n",
      "BABA: Confusion Matrix (Indicators Only, No Signals)\n"
     ]
    },
    {
     "data": {
      "text/html": [
       "<div>\n",
       "<style scoped>\n",
       "    .dataframe tbody tr th:only-of-type {\n",
       "        vertical-align: middle;\n",
       "    }\n",
       "\n",
       "    .dataframe tbody tr th {\n",
       "        vertical-align: top;\n",
       "    }\n",
       "\n",
       "    .dataframe thead th {\n",
       "        text-align: right;\n",
       "    }\n",
       "</style>\n",
       "<table border=\"1\" class=\"dataframe\">\n",
       "  <thead>\n",
       "    <tr style=\"text-align: right;\">\n",
       "      <th></th>\n",
       "      <th>Predicted 0</th>\n",
       "      <th>Predicted 1</th>\n",
       "    </tr>\n",
       "  </thead>\n",
       "  <tbody>\n",
       "    <tr>\n",
       "      <th>Actual 0</th>\n",
       "      <td>62</td>\n",
       "      <td>124</td>\n",
       "    </tr>\n",
       "    <tr>\n",
       "      <th>Actual 1</th>\n",
       "      <td>52</td>\n",
       "      <td>151</td>\n",
       "    </tr>\n",
       "  </tbody>\n",
       "</table>\n",
       "</div>"
      ],
      "text/plain": [
       "          Predicted 0  Predicted 1\n",
       "Actual 0           62          124\n",
       "Actual 1           52          151"
      ]
     },
     "metadata": {},
     "output_type": "display_data"
    },
    {
     "name": "stdout",
     "output_type": "stream",
     "text": [
      "Accuracy Score : 0.5475578406169666\n",
      "Classification Report\n",
      "              precision    recall  f1-score   support\n",
      "\n",
      "        -1.0       0.54      0.33      0.41       186\n",
      "         1.0       0.55      0.74      0.63       203\n",
      "\n",
      "    accuracy                           0.55       389\n",
      "   macro avg       0.55      0.54      0.52       389\n",
      "weighted avg       0.55      0.55      0.53       389\n",
      "\n"
     ]
    },
    {
     "data": {
      "image/png": "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\n",

      "text/plain": [
       "<Figure size 432x288 with 1 Axes>"
      ]
     },
     "metadata": {
      "needs_background": "light"
     },
     "output_type": "display_data"
    },
    {
     "name": "stdout",
     "output_type": "stream",
     "text": [
      "-----\n",
      "\n",
      "\n",
      "BABA: Confusion Matrix (Signals Only, No Indicators)\n"
     ]
    },
    {
     "data": {
      "text/html": [
       "<div>\n",
       "<style scoped>\n",
       "    .dataframe tbody tr th:only-of-type {\n",
       "        vertical-align: middle;\n",
       "    }\n",
       "\n",
       "    .dataframe tbody tr th {\n",
       "        vertical-align: top;\n",
       "    }\n",
       "\n",
       "    .dataframe thead th {\n",
       "        text-align: right;\n",
       "    }\n",
       "</style>\n",
       "<table border=\"1\" class=\"dataframe\">\n",
       "  <thead>\n",
       "    <tr style=\"text-align: right;\">\n",
       "      <th></th>\n",
       "      <th>Predicted 0</th>\n",
       "      <th>Predicted 1</th>\n",
       "    </tr>\n",
       "  </thead>\n",
       "  <tbody>\n",
       "    <tr>\n",
       "      <th>Actual 0</th>\n",
       "      <td>95</td>\n",
       "      <td>91</td>\n",
       "    </tr>\n",
       "    <tr>\n",
       "      <th>Actual 1</th>\n",
       "      <td>92</td>\n",
       "      <td>111</td>\n",
       "    </tr>\n",
       "  </tbody>\n",
       "</table>\n",
       "</div>"
      ],
      "text/plain": [
       "          Predicted 0  Predicted 1\n",
       "Actual 0           95           91\n",
       "Actual 1           92          111"
      ]
     },
     "metadata": {},
     "output_type": "display_data"
    },
    {
     "name": "stdout",
     "output_type": "stream",
     "text": [
      "Accuracy Score : 0.5295629820051414\n",
      "Classification Report\n",
      "              precision    recall  f1-score   support\n",
      "\n",
      "        -1.0       0.51      0.51      0.51       186\n",
      "         1.0       0.55      0.55      0.55       203\n",
      "\n",
      "    accuracy                           0.53       389\n",
      "   macro avg       0.53      0.53      0.53       389\n",
      "weighted avg       0.53      0.53      0.53       389\n",
      "\n"
     ]
    },
    {
     "data": {
      "image/png": "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\n",

      "text/plain": [
       "<Figure size 432x288 with 1 Axes>"
      ]
     },
     "metadata": {
      "needs_background": "light"
     },
     "output_type": "display_data"
    },
    {
     "name": "stdout",
     "output_type": "stream",
     "text": [
      "\n",
      "----------------------- BTCUSD=X -----------------------\n",
      "\n",
      "\n",
      "BTCUSD=X: Confusion Matrix (Indicators Only, No Signals)\n"
     ]
    },
    {
     "data": {
      "text/html": [
       "<div>\n",
       "<style scoped>\n",
       "    .dataframe tbody tr th:only-of-type {\n",
       "        vertical-align: middle;\n",
       "    }\n",
       "\n",
       "    .dataframe tbody tr th {\n",
       "        vertical-align: top;\n",
       "    }\n",
       "\n",
       "    .dataframe thead th {\n",
       "        text-align: right;\n",
       "    }\n",
       "</style>\n",
       "<table border=\"1\" class=\"dataframe\">\n",
       "  <thead>\n",
       "    <tr style=\"text-align: right;\">\n",
       "      <th></th>\n",
       "      <th>Predicted 0</th>\n",
       "      <th>Predicted 1</th>\n",
       "    </tr>\n",
       "  </thead>\n",
       "  <tbody>\n",
       "    <tr>\n",
       "      <th>Actual 0</th>\n",
       "      <td>103</td>\n",
       "      <td>226</td>\n",
       "    </tr>\n",
       "    <tr>\n",
       "      <th>Actual 1</th>\n",
       "      <td>88</td>\n",
       "      <td>313</td>\n",
       "    </tr>\n",
       "  </tbody>\n",
       "</table>\n",
       "</div>"
      ],
      "text/plain": [
       "          Predicted 0  Predicted 1\n",
       "Actual 0          103          226\n",
       "Actual 1           88          313"
      ]
     },
     "metadata": {},
     "output_type": "display_data"
    },
    {
     "name": "stdout",
     "output_type": "stream",
     "text": [
      "Accuracy Score : 0.5698630136986301\n",
      "Classification Report\n",
      "              precision    recall  f1-score   support\n",
      "\n",
      "        -1.0       0.54      0.31      0.40       329\n",
      "         1.0       0.58      0.78      0.67       401\n",
      "\n",
      "    accuracy                           0.57       730\n",
      "   macro avg       0.56      0.55      0.53       730\n",
      "weighted avg       0.56      0.57      0.54       730\n",
      "\n"
     ]
    },
    {
     "data": {
      "image/png": "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\n",
      "text/plain": [
       "<Figure size 432x288 with 1 Axes>"
      ]
     },
     "metadata": {
      "needs_background": "light"
     },
     "output_type": "display_data"
    },
    {
     "name": "stdout",
     "output_type": "stream",
     "text": [
      "-----\n",
      "\n",
      "\n",
      "BTCUSD=X: Confusion Matrix (Signals Only, No Indicators)\n"
     ]
    },
    {
     "data": {
      "text/html": [
       "<div>\n",
       "<style scoped>\n",
       "    .dataframe tbody tr th:only-of-type {\n",
       "        vertical-align: middle;\n",
       "    }\n",
       "\n",
       "    .dataframe tbody tr th {\n",
       "        vertical-align: top;\n",
       "    }\n",
       "\n",
       "    .dataframe thead th {\n",
       "        text-align: right;\n",
       "    }\n",
       "</style>\n",
       "<table border=\"1\" class=\"dataframe\">\n",
       "  <thead>\n",
       "    <tr style=\"text-align: right;\">\n",
       "      <th></th>\n",
       "      <th>Predicted 0</th>\n",
       "      <th>Predicted 1</th>\n",
       "    </tr>\n",
       "  </thead>\n",
       "  <tbody>\n",
       "    <tr>\n",
       "      <th>Actual 0</th>\n",
       "      <td>82</td>\n",
       "      <td>247</td>\n",
       "    </tr>\n",
       "    <tr>\n",
       "      <th>Actual 1</th>\n",
       "      <td>91</td>\n",
       "      <td>310</td>\n",
       "    </tr>\n",
       "  </tbody>\n",
       "</table>\n",
       "</div>"
      ],
      "text/plain": [
       "          Predicted 0  Predicted 1\n",
       "Actual 0           82          247\n",
       "Actual 1           91          310"
      ]
     },
     "metadata": {},
     "output_type": "display_data"
    },
    {
     "name": "stdout",
     "output_type": "stream",
     "text": [
      "Accuracy Score : 0.536986301369863\n",
      "Classification Report\n",
      "              precision    recall  f1-score   support\n",
      "\n",
      "        -1.0       0.47      0.25      0.33       329\n",
      "         1.0       0.56      0.77      0.65       401\n",
      "\n",
      "    accuracy                           0.54       730\n",
      "   macro avg       0.52      0.51      0.49       730\n",
      "weighted avg       0.52      0.54      0.50       730\n",
      "\n"
     ]
    },
    {
     "data": {
      "image/png": "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\n",

      "text/plain": [
       "<Figure size 432x288 with 1 Axes>"
      ]
     },
     "metadata": {
      "needs_background": "light"
     },
     "output_type": "display_data"
    },
    {
     "name": "stdout",
     "output_type": "stream",
     "text": [
      "\n",
      "----------------------- EMR -----------------------\n",
      "\n",
      "\n",
      "EMR: Confusion Matrix (Indicators Only, No Signals)\n"
     ]
    },
    {
     "data": {
      "text/html": [
       "<div>\n",
       "<style scoped>\n",
       "    .dataframe tbody tr th:only-of-type {\n",
       "        vertical-align: middle;\n",
       "    }\n",
       "\n",
       "    .dataframe tbody tr th {\n",
       "        vertical-align: top;\n",
       "    }\n",
       "\n",
       "    .dataframe thead th {\n",
       "        text-align: right;\n",
       "    }\n",
       "</style>\n",
       "<table border=\"1\" class=\"dataframe\">\n",
       "  <thead>\n",
       "    <tr style=\"text-align: right;\">\n",
       "      <th></th>\n",
       "      <th>Predicted 0</th>\n",
       "      <th>Predicted 1</th>\n",
       "    </tr>\n",
       "  </thead>\n",
       "  <tbody>\n",
       "    <tr>\n",
       "      <th>Actual 0</th>\n",
       "      <td>75</td>\n",
       "      <td>278</td>\n",
       "    </tr>\n",
       "    <tr>\n",
       "      <th>Actual 1</th>\n",
       "      <td>80</td>\n",
       "      <td>312</td>\n",
       "    </tr>\n",
       "  </tbody>\n",
       "</table>\n",
       "</div>"
      ],
      "text/plain": [
       "          Predicted 0  Predicted 1\n",
       "Actual 0           75          278\n",
       "Actual 1           80          312"
      ]
     },
     "metadata": {},
     "output_type": "display_data"
    },
    {
     "name": "stdout",
     "output_type": "stream",
     "text": [
      "Accuracy Score : 0.5194630872483221\n",
      "Classification Report\n",
      "              precision    recall  f1-score   support\n",
      "\n",
      "        -1.0       0.48      0.21      0.30       353\n",
      "         1.0       0.53      0.80      0.64       392\n",
      "\n",
      "    accuracy                           0.52       745\n",
      "   macro avg       0.51      0.50      0.47       745\n",
      "weighted avg       0.51      0.52      0.47       745\n",
      "\n"
     ]
    },
    {
     "data": {
      "image/png": "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\n",

      "text/plain": [
       "<Figure size 432x288 with 1 Axes>"
      ]
     },
     "metadata": {
      "needs_background": "light"
     },
     "output_type": "display_data"
    },
    {
     "name": "stdout",
     "output_type": "stream",
     "text": [
      "-----\n",
      "\n",
      "\n",
      "EMR: Confusion Matrix (Signals Only, No Indicators)\n"
     ]
    },
    {
     "data": {
      "text/html": [
       "<div>\n",
       "<style scoped>\n",
       "    .dataframe tbody tr th:only-of-type {\n",
       "        vertical-align: middle;\n",
       "    }\n",
       "\n",
       "    .dataframe tbody tr th {\n",
       "        vertical-align: top;\n",
       "    }\n",
       "\n",
       "    .dataframe thead th {\n",
       "        text-align: right;\n",
       "    }\n",
       "</style>\n",
       "<table border=\"1\" class=\"dataframe\">\n",
       "  <thead>\n",
       "    <tr style=\"text-align: right;\">\n",
       "      <th></th>\n",
       "      <th>Predicted 0</th>\n",
       "      <th>Predicted 1</th>\n",
       "    </tr>\n",
       "  </thead>\n",
       "  <tbody>\n",
       "    <tr>\n",
       "      <th>Actual 0</th>\n",
       "      <td>13</td>\n",
       "      <td>340</td>\n",
       "    </tr>\n",
       "    <tr>\n",
       "      <th>Actual 1</th>\n",
       "      <td>20</td>\n",
       "      <td>372</td>\n",
       "    </tr>\n",
       "  </tbody>\n",
       "</table>\n",
       "</div>"
      ],
      "text/plain": [
       "          Predicted 0  Predicted 1\n",
       "Actual 0           13          340\n",
       "Actual 1           20          372"
      ]
     },
     "metadata": {},
     "output_type": "display_data"
    },
    {
     "name": "stdout",
     "output_type": "stream",
     "text": [
      "Accuracy Score : 0.5167785234899329\n",
      "Classification Report\n",
      "              precision    recall  f1-score   support\n",
      "\n",
      "        -1.0       0.39      0.04      0.07       353\n",
      "         1.0       0.52      0.95      0.67       392\n",
      "\n",
      "    accuracy                           0.52       745\n",
      "   macro avg       0.46      0.49      0.37       745\n",
      "weighted avg       0.46      0.52      0.39       745\n",
      "\n"
     ]
    },
    {
     "data": {
      "image/png": "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\n",

      "text/plain": [
       "<Figure size 432x288 with 1 Axes>"
      ]
     },
     "metadata": {
      "needs_background": "light"
     },
     "output_type": "display_data"
    },
    {
     "name": "stdout",
     "output_type": "stream",
     "text": [
      "\n",
      "----------------------- EURUSD=X -----------------------\n",
      "\n",
      "\n",
      "EURUSD=X: Confusion Matrix (Indicators Only, No Signals)\n"
     ]
    },
    {
     "data": {
      "text/html": [
       "<div>\n",
       "<style scoped>\n",
       "    .dataframe tbody tr th:only-of-type {\n",
       "        vertical-align: middle;\n",
       "    }\n",
       "\n",
       "    .dataframe tbody tr th {\n",
       "        vertical-align: top;\n",
       "    }\n",
       "\n",
       "    .dataframe thead th {\n",
       "        text-align: right;\n",
       "    }\n",
       "</style>\n",
       "<table border=\"1\" class=\"dataframe\">\n",
       "  <thead>\n",
       "    <tr style=\"text-align: right;\">\n",
       "      <th></th>\n",
       "      <th>Predicted 0</th>\n",
       "      <th>Predicted 1</th>\n",
       "    </tr>\n",
       "  </thead>\n",
       "  <tbody>\n",
       "    <tr>\n",
       "      <th>Actual 0</th>\n",
       "      <td>258</td>\n",
       "      <td>131</td>\n",
       "    </tr>\n",
       "    <tr>\n",
       "      <th>Actual 1</th>\n",
       "      <td>83</td>\n",
       "      <td>293</td>\n",
       "    </tr>\n",
       "  </tbody>\n",
       "</table>\n",
       "</div>"
      ],
      "text/plain": [
       "          Predicted 0  Predicted 1\n",
       "Actual 0          258          131\n",
       "Actual 1           83          293"
      ]
     },
     "metadata": {},
     "output_type": "display_data"
    },
    {
     "name": "stdout",
     "output_type": "stream",
     "text": [
      "Accuracy Score : 0.7202614379084967\n",
      "Classification Report\n",
      "              precision    recall  f1-score   support\n",
      "\n",
      "        -1.0       0.76      0.66      0.71       389\n",
      "         1.0       0.69      0.78      0.73       376\n",
      "\n",
      "    accuracy                           0.72       765\n",
      "   macro avg       0.72      0.72      0.72       765\n",
      "weighted avg       0.72      0.72      0.72       765\n",
      "\n"
     ]
    },
    {
     "data": {
      "image/png": "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\n",

      "text/plain": [
       "<Figure size 432x288 with 1 Axes>"
      ]
     },
     "metadata": {
      "needs_background": "light"
     },
     "output_type": "display_data"
    },
    {
     "name": "stdout",
     "output_type": "stream",
     "text": [
      "-----\n",
      "\n",
      "\n",
      "EURUSD=X: Confusion Matrix (Signals Only, No Indicators)\n"
     ]
    },
    {
     "data": {
      "text/html": [
       "<div>\n",
       "<style scoped>\n",
       "    .dataframe tbody tr th:only-of-type {\n",
       "        vertical-align: middle;\n",
       "    }\n",
       "\n",
       "    .dataframe tbody tr th {\n",
       "        vertical-align: top;\n",
       "    }\n",
       "\n",
       "    .dataframe thead th {\n",
       "        text-align: right;\n",
       "    }\n",
       "</style>\n",
       "<table border=\"1\" class=\"dataframe\">\n",
       "  <thead>\n",
       "    <tr style=\"text-align: right;\">\n",
       "      <th></th>\n",
       "      <th>Predicted 0</th>\n",
       "      <th>Predicted 1</th>\n",
       "    </tr>\n",
       "  </thead>\n",
       "  <tbody>\n",
       "    <tr>\n",
       "      <th>Actual 0</th>\n",
       "      <td>149</td>\n",
       "      <td>240</td>\n",
       "    </tr>\n",
       "    <tr>\n",
       "      <th>Actual 1</th>\n",
       "      <td>162</td>\n",
       "      <td>214</td>\n",
       "    </tr>\n",
       "  </tbody>\n",
       "</table>\n",
       "</div>"
      ],
      "text/plain": [
       "          Predicted 0  Predicted 1\n",
       "Actual 0          149          240\n",
       "Actual 1          162          214"
      ]
     },
     "metadata": {},
     "output_type": "display_data"
    },
    {
     "name": "stdout",
     "output_type": "stream",
     "text": [
      "Accuracy Score : 0.4745098039215686\n",
      "Classification Report\n",
      "              precision    recall  f1-score   support\n",
      "\n",
      "        -1.0       0.48      0.38      0.43       389\n",
      "         1.0       0.47      0.57      0.52       376\n",
      "\n",
      "    accuracy                           0.47       765\n",
      "   macro avg       0.48      0.48      0.47       765\n",
      "weighted avg       0.48      0.47      0.47       765\n",
      "\n"
     ]
    },
    {
     "data": {
      "image/png": "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\n",

      "text/plain": [
       "<Figure size 432x288 with 1 Axes>"
      ]
     },
     "metadata": {
      "needs_background": "light"
     },
     "output_type": "display_data"
    },
    {
     "name": "stdout",
     "output_type": "stream",
     "text": [
      "\n",
      "----------------------- EXC -----------------------\n",
      "\n",
      "\n",
      "EXC: Confusion Matrix (Indicators Only, No Signals)\n"
     ]
    },
    {
     "data": {
      "text/html": [
       "<div>\n",
       "<style scoped>\n",
       "    .dataframe tbody tr th:only-of-type {\n",
       "        vertical-align: middle;\n",
       "    }\n",
       "\n",
       "    .dataframe tbody tr th {\n",
       "        vertical-align: top;\n",
       "    }\n",
       "\n",
       "    .dataframe thead th {\n",
       "        text-align: right;\n",
       "    }\n",
       "</style>\n",
       "<table border=\"1\" class=\"dataframe\">\n",
       "  <thead>\n",
       "    <tr style=\"text-align: right;\">\n",
       "      <th></th>\n",
       "      <th>Predicted 0</th>\n",
       "      <th>Predicted 1</th>\n",
       "    </tr>\n",
       "  </thead>\n",
       "  <tbody>\n",
       "    <tr>\n",
       "      <th>Actual 0</th>\n",
       "      <td>130</td>\n",
       "      <td>222</td>\n",
       "    </tr>\n",
       "    <tr>\n",
       "      <th>Actual 1</th>\n",
       "      <td>130</td>\n",
       "      <td>263</td>\n",
       "    </tr>\n",
       "  </tbody>\n",
       "</table>\n",
       "</div>"
      ],
      "text/plain": [
       "          Predicted 0  Predicted 1\n",
       "Actual 0          130          222\n",
       "Actual 1          130          263"
      ]
     },
     "metadata": {},
     "output_type": "display_data"
    },
    {
     "name": "stdout",
     "output_type": "stream",
     "text": [
      "Accuracy Score : 0.5275167785234899\n",
      "Classification Report\n",
      "              precision    recall  f1-score   support\n",
      "\n",
      "        -1.0       0.50      0.37      0.42       352\n",
      "         1.0       0.54      0.67      0.60       393\n",
      "\n",
      "    accuracy                           0.53       745\n",
      "   macro avg       0.52      0.52      0.51       745\n",
      "weighted avg       0.52      0.53      0.52       745\n",
      "\n"
     ]
    },
    {
     "data": {
      "image/png": "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\n",

      "text/plain": [
       "<Figure size 432x288 with 1 Axes>"
      ]
     },
     "metadata": {
      "needs_background": "light"
     },
     "output_type": "display_data"
    },
    {
     "name": "stdout",
     "output_type": "stream",
     "text": [
      "-----\n",
      "\n",
      "\n",
      "EXC: Confusion Matrix (Signals Only, No Indicators)\n"
     ]
    },
    {
     "data": {
      "text/html": [
       "<div>\n",
       "<style scoped>\n",
       "    .dataframe tbody tr th:only-of-type {\n",
       "        vertical-align: middle;\n",
       "    }\n",
       "\n",
       "    .dataframe tbody tr th {\n",
       "        vertical-align: top;\n",
       "    }\n",
       "\n",
       "    .dataframe thead th {\n",
       "        text-align: right;\n",
       "    }\n",
       "</style>\n",
       "<table border=\"1\" class=\"dataframe\">\n",
       "  <thead>\n",
       "    <tr style=\"text-align: right;\">\n",
       "      <th></th>\n",
       "      <th>Predicted 0</th>\n",
       "      <th>Predicted 1</th>\n",
       "    </tr>\n",
       "  </thead>\n",
       "  <tbody>\n",
       "    <tr>\n",
       "      <th>Actual 0</th>\n",
       "      <td>66</td>\n",
       "      <td>286</td>\n",
       "    </tr>\n",
       "    <tr>\n",
       "      <th>Actual 1</th>\n",
       "      <td>66</td>\n",
       "      <td>327</td>\n",
       "    </tr>\n",
       "  </tbody>\n",
       "</table>\n",
       "</div>"
      ],
      "text/plain": [
       "          Predicted 0  Predicted 1\n",
       "Actual 0           66          286\n",
       "Actual 1           66          327"
      ]
     },
     "metadata": {},
     "output_type": "display_data"
    },
    {
     "name": "stdout",
     "output_type": "stream",
     "text": [
      "Accuracy Score : 0.5275167785234899\n",
      "Classification Report\n",
      "              precision    recall  f1-score   support\n",
      "\n",
      "        -1.0       0.50      0.19      0.27       352\n",
      "         1.0       0.53      0.83      0.65       393\n",
      "\n",
      "    accuracy                           0.53       745\n",
      "   macro avg       0.52      0.51      0.46       745\n",
      "weighted avg       0.52      0.53      0.47       745\n",
      "\n"
     ]
    },
    {
     "data": {
      "image/png": "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\n",

      "text/plain": [
       "<Figure size 432x288 with 1 Axes>"
      ]
     },
     "metadata": {
      "needs_background": "light"
     },
     "output_type": "display_data"
    },
    {
     "name": "stdout",
     "output_type": "stream",
     "text": [
      "\n",
      "----------------------- F -----------------------\n",
      "\n",
      "\n",
      "F: Confusion Matrix (Indicators Only, No Signals)\n"
     ]
    },
    {
     "data": {
      "text/html": [
       "<div>\n",
       "<style scoped>\n",
       "    .dataframe tbody tr th:only-of-type {\n",
       "        vertical-align: middle;\n",
       "    }\n",
       "\n",
       "    .dataframe tbody tr th {\n",
       "        vertical-align: top;\n",
       "    }\n",
       "\n",
       "    .dataframe thead th {\n",
       "        text-align: right;\n",
       "    }\n",
       "</style>\n",
       "<table border=\"1\" class=\"dataframe\">\n",
       "  <thead>\n",
       "    <tr style=\"text-align: right;\">\n",
       "      <th></th>\n",
       "      <th>Predicted 0</th>\n",
       "      <th>Predicted 1</th>\n",
       "    </tr>\n",
       "  </thead>\n",
       "  <tbody>\n",
       "    <tr>\n",
       "      <th>Actual 0</th>\n",
       "      <td>176</td>\n",
       "      <td>160</td>\n",
       "    </tr>\n",
       "    <tr>\n",
       "      <th>Actual 1</th>\n",
       "      <td>211</td>\n",
       "      <td>198</td>\n",
       "    </tr>\n",
       "  </tbody>\n",
       "</table>\n",
       "</div>"
      ],
      "text/plain": [
       "          Predicted 0  Predicted 1\n",
       "Actual 0          176          160\n",
       "Actual 1          211          198"
      ]
     },
     "metadata": {},
     "output_type": "display_data"
    },
    {
     "name": "stdout",
     "output_type": "stream",
     "text": [
      "Accuracy Score : 0.5020134228187919\n",
      "Classification Report\n",
      "              precision    recall  f1-score   support\n",
      "\n",
      "        -1.0       0.45      0.52      0.49       336\n",
      "         1.0       0.55      0.48      0.52       409\n",
      "\n",
      "    accuracy                           0.50       745\n",
      "   macro avg       0.50      0.50      0.50       745\n",
      "weighted avg       0.51      0.50      0.50       745\n",
      "\n"
     ]
    },
    {
     "data": {
      "image/png": "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\n",

      "text/plain": [
       "<Figure size 432x288 with 1 Axes>"
      ]
     },
     "metadata": {
      "needs_background": "light"
     },
     "output_type": "display_data"
    },
    {
     "name": "stdout",
     "output_type": "stream",
     "text": [
      "-----\n",
      "\n",
      "\n",
      "F: Confusion Matrix (Signals Only, No Indicators)\n"
     ]
    },
    {
     "data": {
      "text/html": [
       "<div>\n",
       "<style scoped>\n",
       "    .dataframe tbody tr th:only-of-type {\n",
       "        vertical-align: middle;\n",
       "    }\n",
       "\n",
       "    .dataframe tbody tr th {\n",
       "        vertical-align: top;\n",
       "    }\n",
       "\n",
       "    .dataframe thead th {\n",
       "        text-align: right;\n",
       "    }\n",
       "</style>\n",
       "<table border=\"1\" class=\"dataframe\">\n",
       "  <thead>\n",
       "    <tr style=\"text-align: right;\">\n",
       "      <th></th>\n",
       "      <th>Predicted 0</th>\n",
       "      <th>Predicted 1</th>\n",
       "    </tr>\n",
       "  </thead>\n",
       "  <tbody>\n",
       "    <tr>\n",
       "      <th>Actual 0</th>\n",
       "      <td>97</td>\n",
       "      <td>239</td>\n",
       "    </tr>\n",
       "    <tr>\n",
       "      <th>Actual 1</th>\n",
       "      <td>121</td>\n",
       "      <td>288</td>\n",
       "    </tr>\n",
       "  </tbody>\n",
       "</table>\n",
       "</div>"
      ],
      "text/plain": [
       "          Predicted 0  Predicted 1\n",
       "Actual 0           97          239\n",
       "Actual 1          121          288"
      ]
     },
     "metadata": {},
     "output_type": "display_data"
    },
    {
     "name": "stdout",
     "output_type": "stream",
     "text": [
      "Accuracy Score : 0.5167785234899329\n",
      "Classification Report\n",
      "              precision    recall  f1-score   support\n",
      "\n",
      "        -1.0       0.44      0.29      0.35       336\n",
      "         1.0       0.55      0.70      0.62       409\n",
      "\n",
      "    accuracy                           0.52       745\n",
      "   macro avg       0.50      0.50      0.48       745\n",
      "weighted avg       0.50      0.52      0.50       745\n",
      "\n"
     ]
    },
    {
     "data": {
      "image/png": "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\n",

      "text/plain": [
       "<Figure size 432x288 with 1 Axes>"
      ]
     },
     "metadata": {
      "needs_background": "light"
     },
     "output_type": "display_data"
    },
    {
     "name": "stdout",
     "output_type": "stream",
     "text": [
      "\n",
      "----------------------- GBPUSD=X -----------------------\n",
      "\n",
      "\n",
      "GBPUSD=X: Confusion Matrix (Indicators Only, No Signals)\n"
     ]
    },
    {
     "data": {
      "text/html": [
       "<div>\n",
       "<style scoped>\n",
       "    .dataframe tbody tr th:only-of-type {\n",
       "        vertical-align: middle;\n",
       "    }\n",
       "\n",
       "    .dataframe tbody tr th {\n",
       "        vertical-align: top;\n",
       "    }\n",
       "\n",
       "    .dataframe thead th {\n",
       "        text-align: right;\n",
       "    }\n",
       "</style>\n",
       "<table border=\"1\" class=\"dataframe\">\n",
       "  <thead>\n",
       "    <tr style=\"text-align: right;\">\n",
       "      <th></th>\n",
       "      <th>Predicted 0</th>\n",
       "      <th>Predicted 1</th>\n",
       "    </tr>\n",
       "  </thead>\n",
       "  <tbody>\n",
       "    <tr>\n",
       "      <th>Actual 0</th>\n",
       "      <td>294</td>\n",
       "      <td>88</td>\n",
       "    </tr>\n",
       "    <tr>\n",
       "      <th>Actual 1</th>\n",
       "      <td>138</td>\n",
       "      <td>245</td>\n",
       "    </tr>\n",
       "  </tbody>\n",
       "</table>\n",
       "</div>"
      ],
      "text/plain": [
       "          Predicted 0  Predicted 1\n",
       "Actual 0          294           88\n",
       "Actual 1          138          245"
      ]
     },
     "metadata": {},
     "output_type": "display_data"
    },
    {
     "name": "stdout",
     "output_type": "stream",
     "text": [
      "Accuracy Score : 0.7045751633986929\n",
      "Classification Report\n",
      "              precision    recall  f1-score   support\n",
      "\n",
      "        -1.0       0.68      0.77      0.72       382\n",
      "         1.0       0.74      0.64      0.68       383\n",
      "\n",
      "    accuracy                           0.70       765\n",
      "   macro avg       0.71      0.70      0.70       765\n",
      "weighted avg       0.71      0.70      0.70       765\n",
      "\n"
     ]
    },
    {
     "data": {
      "image/png": "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\n",

      "text/plain": [
       "<Figure size 432x288 with 1 Axes>"
      ]
     },
     "metadata": {
      "needs_background": "light"
     },
     "output_type": "display_data"
    },
    {
     "name": "stdout",
     "output_type": "stream",
     "text": [
      "-----\n",
      "\n",
      "\n",
      "GBPUSD=X: Confusion Matrix (Signals Only, No Indicators)\n"
     ]
    },
    {
     "data": {
      "text/html": [
       "<div>\n",
       "<style scoped>\n",
       "    .dataframe tbody tr th:only-of-type {\n",
       "        vertical-align: middle;\n",
       "    }\n",
       "\n",
       "    .dataframe tbody tr th {\n",
       "        vertical-align: top;\n",
       "    }\n",
       "\n",
       "    .dataframe thead th {\n",
       "        text-align: right;\n",
       "    }\n",
       "</style>\n",
       "<table border=\"1\" class=\"dataframe\">\n",
       "  <thead>\n",
       "    <tr style=\"text-align: right;\">\n",
       "      <th></th>\n",
       "      <th>Predicted 0</th>\n",
       "      <th>Predicted 1</th>\n",
       "    </tr>\n",
       "  </thead>\n",
       "  <tbody>\n",
       "    <tr>\n",
       "      <th>Actual 0</th>\n",
       "      <td>242</td>\n",
       "      <td>140</td>\n",
       "    </tr>\n",
       "    <tr>\n",
       "      <th>Actual 1</th>\n",
       "      <td>251</td>\n",
       "      <td>132</td>\n",
       "    </tr>\n",
       "  </tbody>\n",
       "</table>\n",
       "</div>"
      ],
      "text/plain": [
       "          Predicted 0  Predicted 1\n",
       "Actual 0          242          140\n",
       "Actual 1          251          132"
      ]
     },
     "metadata": {},
     "output_type": "display_data"
    },
    {
     "name": "stdout",
     "output_type": "stream",
     "text": [
      "Accuracy Score : 0.4888888888888889\n",
      "Classification Report\n",
      "              precision    recall  f1-score   support\n",
      "\n",
      "        -1.0       0.49      0.63      0.55       382\n",
      "         1.0       0.49      0.34      0.40       383\n",
      "\n",
      "    accuracy                           0.49       765\n",
      "   macro avg       0.49      0.49      0.48       765\n",
      "weighted avg       0.49      0.49      0.48       765\n",
      "\n"
     ]
    },
    {
     "data": {
      "image/png": "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\n",

      "text/plain": [
       "<Figure size 432x288 with 1 Axes>"
      ]
     },
     "metadata": {
      "needs_background": "light"
     },
     "output_type": "display_data"
    },
    {
     "name": "stdout",
     "output_type": "stream",
     "text": [
      "\n",
      "----------------------- GOOG -----------------------\n",
      "\n",
      "\n",
      "GOOG: Confusion Matrix (Indicators Only, No Signals)\n"
     ]
    },
    {
     "data": {
      "text/html": [
       "<div>\n",
       "<style scoped>\n",
       "    .dataframe tbody tr th:only-of-type {\n",
       "        vertical-align: middle;\n",
       "    }\n",
       "\n",
       "    .dataframe tbody tr th {\n",
       "        vertical-align: top;\n",
       "    }\n",
       "\n",
       "    .dataframe thead th {\n",
       "        text-align: right;\n",
       "    }\n",
       "</style>\n",
       "<table border=\"1\" class=\"dataframe\">\n",
       "  <thead>\n",
       "    <tr style=\"text-align: right;\">\n",
       "      <th></th>\n",
       "      <th>Predicted 0</th>\n",
       "      <th>Predicted 1</th>\n",
       "    </tr>\n",
       "  </thead>\n",
       "  <tbody>\n",
       "    <tr>\n",
       "      <th>Actual 0</th>\n",
       "      <td>130</td>\n",
       "      <td>209</td>\n",
       "    </tr>\n",
       "    <tr>\n",
       "      <th>Actual 1</th>\n",
       "      <td>152</td>\n",
       "      <td>254</td>\n",
       "    </tr>\n",
       "  </tbody>\n",
       "</table>\n",
       "</div>"
      ],
      "text/plain": [
       "          Predicted 0  Predicted 1\n",
       "Actual 0          130          209\n",
       "Actual 1          152          254"
      ]
     },
     "metadata": {},
     "output_type": "display_data"
    },
    {
     "name": "stdout",
     "output_type": "stream",
     "text": [
      "Accuracy Score : 0.5154362416107383\n",
      "Classification Report\n",
      "              precision    recall  f1-score   support\n",
      "\n",
      "        -1.0       0.46      0.38      0.42       339\n",
      "         1.0       0.55      0.63      0.58       406\n",
      "\n",
      "    accuracy                           0.52       745\n",
      "   macro avg       0.50      0.50      0.50       745\n",
      "weighted avg       0.51      0.52      0.51       745\n",
      "\n"
     ]
    },
    {
     "data": {
      "image/png": "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\n",

      "text/plain": [
       "<Figure size 432x288 with 1 Axes>"
      ]
     },
     "metadata": {
      "needs_background": "light"
     },
     "output_type": "display_data"
    },
    {
     "name": "stdout",
     "output_type": "stream",
     "text": [
      "-----\n",
      "\n",
      "\n",
      "GOOG: Confusion Matrix (Signals Only, No Indicators)\n"
     ]
    },
    {
     "data": {
      "text/html": [
       "<div>\n",
       "<style scoped>\n",
       "    .dataframe tbody tr th:only-of-type {\n",
       "        vertical-align: middle;\n",
       "    }\n",
       "\n",
       "    .dataframe tbody tr th {\n",
       "        vertical-align: top;\n",
       "    }\n",
       "\n",
       "    .dataframe thead th {\n",
       "        text-align: right;\n",
       "    }\n",
       "</style>\n",
       "<table border=\"1\" class=\"dataframe\">\n",
       "  <thead>\n",
       "    <tr style=\"text-align: right;\">\n",
       "      <th></th>\n",
       "      <th>Predicted 0</th>\n",
       "      <th>Predicted 1</th>\n",
       "    </tr>\n",
       "  </thead>\n",
       "  <tbody>\n",
       "    <tr>\n",
       "      <th>Actual 0</th>\n",
       "      <td>84</td>\n",
       "      <td>255</td>\n",
       "    </tr>\n",
       "    <tr>\n",
       "      <th>Actual 1</th>\n",
       "      <td>117</td>\n",
       "      <td>289</td>\n",
       "    </tr>\n",
       "  </tbody>\n",
       "</table>\n",
       "</div>"
      ],
      "text/plain": [
       "          Predicted 0  Predicted 1\n",
       "Actual 0           84          255\n",
       "Actual 1          117          289"
      ]
     },
     "metadata": {},
     "output_type": "display_data"
    },
    {
     "name": "stdout",
     "output_type": "stream",
     "text": [
      "Accuracy Score : 0.5006711409395973\n",
      "Classification Report\n",
      "              precision    recall  f1-score   support\n",
      "\n",
      "        -1.0       0.42      0.25      0.31       339\n",
      "         1.0       0.53      0.71      0.61       406\n",
      "\n",
      "    accuracy                           0.50       745\n",
      "   macro avg       0.47      0.48      0.46       745\n",
      "weighted avg       0.48      0.50      0.47       745\n",
      "\n"
     ]
    },
    {
     "data": {
      "image/png": "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\n",

      "text/plain": [
       "<Figure size 432x288 with 1 Axes>"
      ]
     },
     "metadata": {
      "needs_background": "light"
     },
     "output_type": "display_data"
    },
    {
     "name": "stdout",
     "output_type": "stream",
     "text": [
      "\n",
      "----------------------- Gold -----------------------\n",
      "\n",
      "\n",
      "Gold: Confusion Matrix (Indicators Only, No Signals)\n"
     ]
    },
    {
     "data": {
      "text/html": [
       "<div>\n",
       "<style scoped>\n",
       "    .dataframe tbody tr th:only-of-type {\n",
       "        vertical-align: middle;\n",
       "    }\n",
       "\n",
       "    .dataframe tbody tr th {\n",
       "        vertical-align: top;\n",
       "    }\n",
       "\n",
       "    .dataframe thead th {\n",
       "        text-align: right;\n",
       "    }\n",
       "</style>\n",
       "<table border=\"1\" class=\"dataframe\">\n",
       "  <thead>\n",
       "    <tr style=\"text-align: right;\">\n",
       "      <th></th>\n",
       "      <th>Predicted 0</th>\n",
       "      <th>Predicted 1</th>\n",
       "    </tr>\n",
       "  </thead>\n",
       "  <tbody>\n",
       "    <tr>\n",
       "      <th>Actual 0</th>\n",
       "      <td>143</td>\n",
       "      <td>239</td>\n",
       "    </tr>\n",
       "    <tr>\n",
       "      <th>Actual 1</th>\n",
       "      <td>129</td>\n",
       "      <td>234</td>\n",
       "    </tr>\n",
       "  </tbody>\n",
       "</table>\n",
       "</div>"
      ],
      "text/plain": [
       "          Predicted 0  Predicted 1\n",
       "Actual 0          143          239\n",
       "Actual 1          129          234"
      ]
     },
     "metadata": {},
     "output_type": "display_data"
    },
    {
     "name": "stdout",
     "output_type": "stream",
     "text": [
      "Accuracy Score : 0.5060402684563758\n",
      "Classification Report\n",
      "              precision    recall  f1-score   support\n",
      "\n",
      "        -1.0       0.53      0.37      0.44       382\n",
      "         1.0       0.49      0.64      0.56       363\n",
      "\n",
      "    accuracy                           0.51       745\n",
      "   macro avg       0.51      0.51      0.50       745\n",
      "weighted avg       0.51      0.51      0.50       745\n",
      "\n"
     ]
    },
    {
     "data": {
      "image/png": "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\n",

      "text/plain": [
       "<Figure size 432x288 with 1 Axes>"
      ]
     },
     "metadata": {
      "needs_background": "light"
     },
     "output_type": "display_data"
    },
    {
     "name": "stdout",
     "output_type": "stream",
     "text": [
      "-----\n",
      "\n",
      "\n",
      "Gold: Confusion Matrix (Signals Only, No Indicators)\n"
     ]
    },
    {
     "data": {
      "text/html": [
       "<div>\n",
       "<style scoped>\n",
       "    .dataframe tbody tr th:only-of-type {\n",
       "        vertical-align: middle;\n",
       "    }\n",
       "\n",
       "    .dataframe tbody tr th {\n",
       "        vertical-align: top;\n",
       "    }\n",
       "\n",
       "    .dataframe thead th {\n",
       "        text-align: right;\n",
       "    }\n",
       "</style>\n",
       "<table border=\"1\" class=\"dataframe\">\n",
       "  <thead>\n",
       "    <tr style=\"text-align: right;\">\n",
       "      <th></th>\n",
       "      <th>Predicted 0</th>\n",
       "      <th>Predicted 1</th>\n",
       "    </tr>\n",
       "  </thead>\n",
       "  <tbody>\n",
       "    <tr>\n",
       "      <th>Actual 0</th>\n",
       "      <td>100</td>\n",
       "      <td>282</td>\n",
       "    </tr>\n",
       "    <tr>\n",
       "      <th>Actual 1</th>\n",
       "      <td>102</td>\n",
       "      <td>261</td>\n",
       "    </tr>\n",
       "  </tbody>\n",
       "</table>\n",
       "</div>"
      ],
      "text/plain": [
       "          Predicted 0  Predicted 1\n",
       "Actual 0          100          282\n",
       "Actual 1          102          261"
      ]
     },
     "metadata": {},
     "output_type": "display_data"
    },
    {
     "name": "stdout",
     "output_type": "stream",
     "text": [
      "Accuracy Score : 0.48456375838926175\n",
      "Classification Report\n",
      "              precision    recall  f1-score   support\n",
      "\n",
      "        -1.0       0.50      0.26      0.34       382\n",
      "         1.0       0.48      0.72      0.58       363\n",
      "\n",
      "    accuracy                           0.48       745\n",
      "   macro avg       0.49      0.49      0.46       745\n",
      "weighted avg       0.49      0.48      0.46       745\n",
      "\n"
     ]
    },
    {
     "data": {
      "image/png": "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\n",

      "text/plain": [
       "<Figure size 432x288 with 1 Axes>"
      ]
     },
     "metadata": {
      "needs_background": "light"
     },
     "output_type": "display_data"
    },
    {
     "name": "stdout",
     "output_type": "stream",
     "text": [
      "\n",
      "----------------------- HYG -----------------------\n",
      "\n",
      "\n",
      "HYG: Confusion Matrix (Indicators Only, No Signals)\n"
     ]
    },
    {
     "data": {
      "text/html": [
       "<div>\n",
       "<style scoped>\n",
       "    .dataframe tbody tr th:only-of-type {\n",
       "        vertical-align: middle;\n",
       "    }\n",
       "\n",
       "    .dataframe tbody tr th {\n",
       "        vertical-align: top;\n",
       "    }\n",
       "\n",
       "    .dataframe thead th {\n",
       "        text-align: right;\n",
       "    }\n",
       "</style>\n",
       "<table border=\"1\" class=\"dataframe\">\n",
       "  <thead>\n",
       "    <tr style=\"text-align: right;\">\n",
       "      <th></th>\n",
       "      <th>Predicted 0</th>\n",
       "      <th>Predicted 1</th>\n",
       "    </tr>\n",
       "  </thead>\n",
       "  <tbody>\n",
       "    <tr>\n",
       "      <th>Actual 0</th>\n",
       "      <td>77</td>\n",
       "      <td>272</td>\n",
       "    </tr>\n",
       "    <tr>\n",
       "      <th>Actual 1</th>\n",
       "      <td>81</td>\n",
       "      <td>315</td>\n",
       "    </tr>\n",
       "  </tbody>\n",
       "</table>\n",
       "</div>"
      ],
      "text/plain": [
       "          Predicted 0  Predicted 1\n",
       "Actual 0           77          272\n",
       "Actual 1           81          315"
      ]
     },
     "metadata": {},
     "output_type": "display_data"
    },
    {
     "name": "stdout",
     "output_type": "stream",
     "text": [
      "Accuracy Score : 0.5261744966442953\n",
      "Classification Report\n",
      "              precision    recall  f1-score   support\n",
      "\n",
      "        -1.0       0.49      0.22      0.30       349\n",
      "         1.0       0.54      0.80      0.64       396\n",
      "\n",
      "    accuracy                           0.53       745\n",
      "   macro avg       0.51      0.51      0.47       745\n",
      "weighted avg       0.51      0.53      0.48       745\n",
      "\n"
     ]
    },
    {
     "data": {
      "image/png": "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\n",
      "text/plain": [
       "<Figure size 432x288 with 1 Axes>"
      ]
     },
     "metadata": {
      "needs_background": "light"
     },
     "output_type": "display_data"
    },
    {
     "name": "stdout",
     "output_type": "stream",
     "text": [
      "-----\n",
      "\n",
      "\n",
      "HYG: Confusion Matrix (Signals Only, No Indicators)\n"
     ]
    },
    {
     "data": {
      "text/html": [
       "<div>\n",
       "<style scoped>\n",
       "    .dataframe tbody tr th:only-of-type {\n",
       "        vertical-align: middle;\n",
       "    }\n",
       "\n",
       "    .dataframe tbody tr th {\n",
       "        vertical-align: top;\n",
       "    }\n",
       "\n",
       "    .dataframe thead th {\n",
       "        text-align: right;\n",
       "    }\n",
       "</style>\n",
       "<table border=\"1\" class=\"dataframe\">\n",
       "  <thead>\n",
       "    <tr style=\"text-align: right;\">\n",
       "      <th></th>\n",
       "      <th>Predicted 0</th>\n",
       "      <th>Predicted 1</th>\n",
       "    </tr>\n",
       "  </thead>\n",
       "  <tbody>\n",
       "    <tr>\n",
       "      <th>Actual 0</th>\n",
       "      <td>55</td>\n",
       "      <td>294</td>\n",
       "    </tr>\n",
       "    <tr>\n",
       "      <th>Actual 1</th>\n",
       "      <td>54</td>\n",
       "      <td>342</td>\n",
       "    </tr>\n",
       "  </tbody>\n",
       "</table>\n",
       "</div>"
      ],
      "text/plain": [
       "          Predicted 0  Predicted 1\n",
       "Actual 0           55          294\n",
       "Actual 1           54          342"
      ]
     },
     "metadata": {},
     "output_type": "display_data"
    },
    {
     "name": "stdout",
     "output_type": "stream",
     "text": [
      "Accuracy Score : 0.5328859060402684\n",
      "Classification Report\n",
      "              precision    recall  f1-score   support\n",
      "\n",
      "        -1.0       0.50      0.16      0.24       349\n",
      "         1.0       0.54      0.86      0.66       396\n",
      "\n",
      "    accuracy                           0.53       745\n",
      "   macro avg       0.52      0.51      0.45       745\n",
      "weighted avg       0.52      0.53      0.46       745\n",
      "\n"
     ]
    },
    {
     "data": {
      "image/png": "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\n",

      "text/plain": [
       "<Figure size 432x288 with 1 Axes>"
      ]
     },
     "metadata": {
      "needs_background": "light"
     },
     "output_type": "display_data"
    },
    {
     "name": "stdout",
     "output_type": "stream",
     "text": [
      "\n",
      "----------------------- JPM -----------------------\n",
      "\n",
      "\n",
      "JPM: Confusion Matrix (Indicators Only, No Signals)\n"
     ]
    },
    {
     "data": {
      "text/html": [
       "<div>\n",
       "<style scoped>\n",
       "    .dataframe tbody tr th:only-of-type {\n",
       "        vertical-align: middle;\n",
       "    }\n",
       "\n",
       "    .dataframe tbody tr th {\n",
       "        vertical-align: top;\n",
       "    }\n",
       "\n",
       "    .dataframe thead th {\n",
       "        text-align: right;\n",
       "    }\n",
       "</style>\n",
       "<table border=\"1\" class=\"dataframe\">\n",
       "  <thead>\n",
       "    <tr style=\"text-align: right;\">\n",
       "      <th></th>\n",
       "      <th>Predicted 0</th>\n",
       "      <th>Predicted 1</th>\n",
       "    </tr>\n",
       "  </thead>\n",
       "  <tbody>\n",
       "    <tr>\n",
       "      <th>Actual 0</th>\n",
       "      <td>158</td>\n",
       "      <td>184</td>\n",
       "    </tr>\n",
       "    <tr>\n",
       "      <th>Actual 1</th>\n",
       "      <td>177</td>\n",
       "      <td>226</td>\n",
       "    </tr>\n",
       "  </tbody>\n",
       "</table>\n",
       "</div>"
      ],
      "text/plain": [
       "          Predicted 0  Predicted 1\n",
       "Actual 0          158          184\n",
       "Actual 1          177          226"
      ]
     },
     "metadata": {},
     "output_type": "display_data"
    },
    {
     "name": "stdout",
     "output_type": "stream",
     "text": [
      "Accuracy Score : 0.5154362416107383\n",
      "Classification Report\n",
      "              precision    recall  f1-score   support\n",
      "\n",
      "        -1.0       0.47      0.46      0.47       342\n",
      "         1.0       0.55      0.56      0.56       403\n",
      "\n",
      "    accuracy                           0.52       745\n",
      "   macro avg       0.51      0.51      0.51       745\n",
      "weighted avg       0.51      0.52      0.52       745\n",
      "\n"
     ]
    },
    {
     "data": {
      "image/png": "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\n",

      "text/plain": [
       "<Figure size 432x288 with 1 Axes>"
      ]
     },
     "metadata": {
      "needs_background": "light"
     },
     "output_type": "display_data"
    },
    {
     "name": "stdout",
     "output_type": "stream",
     "text": [
      "-----\n",
      "\n",
      "\n",
      "JPM: Confusion Matrix (Signals Only, No Indicators)\n"
     ]
    },
    {
     "data": {
      "text/html": [
       "<div>\n",
       "<style scoped>\n",
       "    .dataframe tbody tr th:only-of-type {\n",
       "        vertical-align: middle;\n",
       "    }\n",
       "\n",
       "    .dataframe tbody tr th {\n",
       "        vertical-align: top;\n",
       "    }\n",
       "\n",
       "    .dataframe thead th {\n",
       "        text-align: right;\n",
       "    }\n",
       "</style>\n",
       "<table border=\"1\" class=\"dataframe\">\n",
       "  <thead>\n",
       "    <tr style=\"text-align: right;\">\n",
       "      <th></th>\n",
       "      <th>Predicted 0</th>\n",
       "      <th>Predicted 1</th>\n",
       "    </tr>\n",
       "  </thead>\n",
       "  <tbody>\n",
       "    <tr>\n",
       "      <th>Actual 0</th>\n",
       "      <td>85</td>\n",
       "      <td>257</td>\n",
       "    </tr>\n",
       "    <tr>\n",
       "      <th>Actual 1</th>\n",
       "      <td>120</td>\n",
       "      <td>283</td>\n",
       "    </tr>\n",
       "  </tbody>\n",
       "</table>\n",
       "</div>"
      ],
      "text/plain": [
       "          Predicted 0  Predicted 1\n",
       "Actual 0           85          257\n",
       "Actual 1          120          283"
      ]
     },
     "metadata": {},
     "output_type": "display_data"
    },
    {
     "name": "stdout",
     "output_type": "stream",
     "text": [
      "Accuracy Score : 0.49395973154362416\n",
      "Classification Report\n",
      "              precision    recall  f1-score   support\n",
      "\n",
      "        -1.0       0.41      0.25      0.31       342\n",
      "         1.0       0.52      0.70      0.60       403\n",
      "\n",
      "    accuracy                           0.49       745\n",
      "   macro avg       0.47      0.48      0.46       745\n",
      "weighted avg       0.47      0.49      0.47       745\n",
      "\n"
     ]
    },
    {
     "data": {
      "image/png": "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\n",

      "text/plain": [
       "<Figure size 432x288 with 1 Axes>"
      ]
     },
     "metadata": {
      "needs_background": "light"
     },
     "output_type": "display_data"
    },
    {
     "name": "stdout",
     "output_type": "stream",
     "text": [
      "\n",
      "----------------------- KO -----------------------\n",
      "\n",
      "\n",
      "KO: Confusion Matrix (Indicators Only, No Signals)\n"
     ]
    },
    {
     "data": {
      "text/html": [
       "<div>\n",
       "<style scoped>\n",
       "    .dataframe tbody tr th:only-of-type {\n",
       "        vertical-align: middle;\n",
       "    }\n",
       "\n",
       "    .dataframe tbody tr th {\n",
       "        vertical-align: top;\n",
       "    }\n",
       "\n",
       "    .dataframe thead th {\n",
       "        text-align: right;\n",
       "    }\n",
       "</style>\n",
       "<table border=\"1\" class=\"dataframe\">\n",
       "  <thead>\n",
       "    <tr style=\"text-align: right;\">\n",
       "      <th></th>\n",
       "      <th>Predicted 0</th>\n",
       "      <th>Predicted 1</th>\n",
       "    </tr>\n",
       "  </thead>\n",
       "  <tbody>\n",
       "    <tr>\n",
       "      <th>Actual 0</th>\n",
       "      <td>90</td>\n",
       "      <td>258</td>\n",
       "    </tr>\n",
       "    <tr>\n",
       "      <th>Actual 1</th>\n",
       "      <td>93</td>\n",
       "      <td>304</td>\n",
       "    </tr>\n",
       "  </tbody>\n",
       "</table>\n",
       "</div>"
      ],
      "text/plain": [
       "          Predicted 0  Predicted 1\n",
       "Actual 0           90          258\n",
       "Actual 1           93          304"
      ]
     },
     "metadata": {},
     "output_type": "display_data"
    },
    {
     "name": "stdout",
     "output_type": "stream",
     "text": [
      "Accuracy Score : 0.5288590604026846\n",
      "Classification Report\n",
      "              precision    recall  f1-score   support\n",
      "\n",
      "        -1.0       0.49      0.26      0.34       348\n",
      "         1.0       0.54      0.77      0.63       397\n",
      "\n",
      "    accuracy                           0.53       745\n",
      "   macro avg       0.52      0.51      0.49       745\n",
      "weighted avg       0.52      0.53      0.50       745\n",
      "\n"
     ]
    },
    {
     "data": {
      "image/png": "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\n",

      "text/plain": [
       "<Figure size 432x288 with 1 Axes>"
      ]
     },
     "metadata": {
      "needs_background": "light"
     },
     "output_type": "display_data"
    },
    {
     "name": "stdout",
     "output_type": "stream",
     "text": [
      "-----\n",
      "\n",
      "\n",
      "KO: Confusion Matrix (Signals Only, No Indicators)\n"
     ]
    },
    {
     "data": {
      "text/html": [
       "<div>\n",
       "<style scoped>\n",
       "    .dataframe tbody tr th:only-of-type {\n",
       "        vertical-align: middle;\n",
       "    }\n",
       "\n",
       "    .dataframe tbody tr th {\n",
       "        vertical-align: top;\n",
       "    }\n",
       "\n",
       "    .dataframe thead th {\n",
       "        text-align: right;\n",
       "    }\n",
       "</style>\n",
       "<table border=\"1\" class=\"dataframe\">\n",
       "  <thead>\n",
       "    <tr style=\"text-align: right;\">\n",
       "      <th></th>\n",
       "      <th>Predicted 0</th>\n",
       "      <th>Predicted 1</th>\n",
       "    </tr>\n",
       "  </thead>\n",
       "  <tbody>\n",
       "    <tr>\n",
       "      <th>Actual 0</th>\n",
       "      <td>46</td>\n",
       "      <td>302</td>\n",
       "    </tr>\n",
       "    <tr>\n",
       "      <th>Actual 1</th>\n",
       "      <td>65</td>\n",
       "      <td>332</td>\n",
       "    </tr>\n",
       "  </tbody>\n",
       "</table>\n",
       "</div>"
      ],
      "text/plain": [
       "          Predicted 0  Predicted 1\n",
       "Actual 0           46          302\n",
       "Actual 1           65          332"
      ]
     },
     "metadata": {},
     "output_type": "display_data"
    },
    {
     "name": "stdout",
     "output_type": "stream",
     "text": [
      "Accuracy Score : 0.5073825503355704\n",
      "Classification Report\n",
      "              precision    recall  f1-score   support\n",
      "\n",
      "        -1.0       0.41      0.13      0.20       348\n",
      "         1.0       0.52      0.84      0.64       397\n",
      "\n",
      "    accuracy                           0.51       745\n",
      "   macro avg       0.47      0.48      0.42       745\n",
      "weighted avg       0.47      0.51      0.44       745\n",
      "\n"
     ]
    },
    {
     "data": {
      "image/png": "iVBORw0KGgoAAAANSUhEUgAAAagAAAEYCAYAAAAJeGK1AAAABHNCSVQICAgIfAhkiAAAAAlwSFlzAAALEgAACxIB0t1+/AAAADh0RVh0U29mdHdhcmUAbWF0cGxvdGxpYiB2ZXJzaW9uMy4xLjMsIGh0dHA6Ly9tYXRwbG90bGliLm9yZy+AADFEAAAerUlEQVR4nO3de5xdZX3v8c+XcJWIBGIEqRAsoVguXhjlTgdBQOUm9XigQhsVQ315NHgQSy1aen1ZbauprZeIFU2tqIhchBPuKUFAM8EICCIg4A0MkbRkACEJ3/PHeqYsd3eSSTIz+2Hm+3695pW1fuv2rEXY3zxrP7OWbBMREVGbTXrdgIiIiG4SUBERUaUEVEREVCkBFRERVUpARURElTbtdQNqMnXqVE+fPr3XzYiImFAWL168zPYLO+sJqJbp06czMDDQ62ZEREwokh7sVs8tvoiIqFICKiIiqpSAioiIKiWgIiKiSgmoiIioUgIqIiKqlICKiIgqJaAiIqJKCaiIiKhSniTRsnT1UuYsn9PrZkREPGfMnjJ71PadHlRERFQpARUREVVKQEVERJUSUBERUaUEVEREVCkBFRERVUpARUREldYaUJK2kXS5pAWSbpbUJ2m6JEvqK+u8SNIqSf2t7e6VdFKX/b1Y0q2Sfi1p01b9v8oxFkjarlW/sBzvl2XZVV32eURp2w2SLiu1mZL23aArEhERVVjXL+r+IXCR7c+XQNkK2B5YDLwJGACOB743tIGklwMLgWOBCzr29yhwOPDNjvrttvvbBUnTgfvL7NW2T1lDGz8EHGl7haQpALbPX8d5RURE5dZ1i+8J4ABJU22vsr2i1H8IvKxMHwFc09rmROBTwPMkbdHeme1f217e5Tgvk7RQ0kckqdSOBK4u04eV5e/rsq2BfkmbDe1b0rmlZ7WFpEslzZd0gaSZ6zjfiIioxLoCah7wE+B6SddI2qG17IeS9gOeBJ5q1V9lexEwnya8hmMGcCgwhabnBXAITU/sIWB34DDgCEn7dGz7TuBk4G5J53YsOwG4yfbRQLdgRNIsSQOSBgaXDQ6zuRERMdrWGlC2V9r+S9t7A58Hzmgtvhj4LHD5UEHSbwN7SZoPnAQcN5xG2H7Utss+95K0CbC57SdtP2X7cdurgG8Be3Vse4/tP6AJsT5Je7QW7wrcVqaXrOHYc2332e6bPHXycJobERFjYF2DJHaRtFmZXdqx/iKa76KuaNV+HzjN9tG2DwN2lDRpHcfYurXOQcB9QF/ZN5Ke31p9aHl7+xkAJcCWd7TxfmDvMt3Z84qIiIqt6xbfK4AbJS0Azgb+aWiBG++w3b4v9kbgptb8ncDBQzOSNpN0DfBy4Mpyi3AGsEjSQuAlwIXA64ChEXuHSFos6SbgF7a/09HGD0i6qWz/sO07W8suBg6SdCWwA7ByHecbERGVUHNnrS6S3gx8wyPQOEmb2l4l6dPAl2zfvKZ1d37lzj7zujM39pARERPGSLxuQ9Ji232d9SrfB2X7whHc3eWSJgP3ri2cIiKiLlUG1EiyfVSv2xAREesvjzqKiIgqJaAiIqJKCaiIiKhSAioiIqo07gdJrI9pk6aNyJDJiIjYeOlBRURElRJQERFRpQRURERUKQEVERFVSkBFRESVMoqvZenqpcxZPqfXzYiICmREb++lBxUREVVKQEVERJUSUBERUaUEVEREVCkBFRERVUpARURElRJQERFRpbUGlKR+SQ9KWlB+jiu1VZKmlXVeLcmSppf5LSWtkLR/l/29UtLtkh5o1aZL+mXZ/1Wt+uaSvtzRhi912edbJd0iaaGkuaV2tqSdNvCaREREBYbzi7rzbJ8zNCOpH1gCHA98DngTMNBa/yjgq6V+S8e+7gX2B67sqF9t+5SO2oHATd3a0GE2cKDtVZKmANj+yDDOKyIiKraht/iuAw4v03sCP2gtOx44B9i7cyPbK2w/3mV/h5Ue0PtatSOBq8v0yWX5yV223RrYT9ImtpcDSDpf0m6Stpd0vaQrJF1SwjUiIp4DhhNQp7Zu8b2m1J4Gfl1u4901tKKkTYFtbT8MfF/SnsPY/0PA7sBhwBGS9in13W3/iKZ3tgdwNPBeSS/s2H4mcBZwj6TTO5adBnzW9huAzbsdXNIsSQOSBgaXDQ6juRERMRaGE1DzbPeXn++26lcAnwEuatX6gT0kzQcOpbnNt1a2n7L9uO1VwLeAvSRtB/yqLB+0vbL0vG4AZnRsv8j2CTQ9trdLmtxavCtwW5lesobjz7XdZ7tv8tTJ3VaJiIge2JhRfFcAi4FFrdqJwLG2j7Z9EM33TWsl6fmt2YOA+4AjgGvL8m3Kn5OAVwMPdGw/A8D2E8CTHbu/n2dvNe5DREQ8Z6zvLb5Th4qlZ/MO2y4lAfvavq+17QpJuwzNSHqJpGtoeknXlJF/h0haLOkm4Be2v0Pz/da1ZbO3SPou8G3gEtu/6GjfxyV9W9LQ8vZ9uvOAd5UenYCVwzjfiIiogJ7Nl3pIeovtr43AfjYBsP2MpMuBWbZ/vqb1d37lzj7zujM39rARMQ7kdRtjR9Ji232d9SrfBzUS4VRMBi6XtDlwzdrCKSIi6lJlQI0U248Bh/S6HRERsf7yqKOIiKhSAioiIqqUgIqIiCqN6++g1te0SdMyciciohLpQUVERJUSUBERUaUEVEREVCkBFRERVUpARURElTKKr2Xp6qXMWT6n182I2GgZjRrjQXpQERFRpQRURERUKQEVERFVSkBFRESVElAREVGlBFRERFQpARUREVXqeUBJ6pf0oKTrJV0taftSf6ukWyQtlDS31M6XtFvH9u+XdLOkGyWdW2qfkDRpzE8mIiJGTC2/qDvP9jmSTgFOBv4ZmA0caHuVpCndNpK0DXCM7QPK/BQA22eMUbsjImKU9LwH1WHb1vTWwH6SNrG9fA3rrwZ2kPRygKH1JC2QtKmk35b0HUmXSLpW0vTRbHxERIycWgLqVEnfB04H5pXaTOAs4B5Jp3fbyPbjND2tj0n6kaQTOlZ5f1l+IjCt2z4kzZI0IGlgcNngxp9JRESMiFoCah7wKmAA2BnA9iLbJwB7A2+XNLnbhravtH0kcADwoY7FuwK32V4N3LGG7efa7rPdN3lq10NEREQP1BJQlBD5CPBBAEkzSv0J4Mlu20jaStJOZfYxYGXHKvcDe5cBE3uORrsjImJ01DJIAgDbd0t6oaQdgI+3BkdcaHtQUucmWwBfkrQFTdh+omP53wNfBpYCy/mfARYREZXqeUDZXgAsaM0fUSaP6bLuzI75/wQO77JeP4CkB23vX3pQ3wZ+OULNjoiIUVbNLb5R8lJJNwDfBb5ke1WvGxQREcPT8x7UaLL9I+DQXrcjIiLW33jvQUVExHNUAioiIqqUgIqIiColoCIiokrjepDE+po2aRqzp8zudTMiIoL0oCIiolIJqIiIqFICKiIiqpSAioiIKmWQRMvS1UuZs3xOr5sRPZaBMhF1SA8qIiKqlICKiIgqJaAiIqJKCaiIiKhSAioiIqqUgIqIiColoCIiokoJqIiIqFI1ASWpX9KDkhZI+rakl5X6Akn/UWp/12W7t0q6RdJCSXNL7WxJO431OURExMip7UkS82yfI+lA4I+BoV/pP9z2KklXSZpie3lrm9nAgWX5FADbHxnjdkdExAirpgfVYRvgsXZB0iY0gfp0x7pbA/tJ2mQouCSdL2k3SdtLul7SFZIukdTfeSBJsyQNSBoYXDY4OmcTERHrrbaAOlXSDcAXgK+16tcCtwM/tf14xzYzgbOAeySd3rHsNOCztt8AbN7tgLbn2u6z3Td56uSROIeIiBgBtQXUPNuHAq8A/rZVP9z2nsAySYe0N7C9yPYJwN7A2yW1U2ZX4LYyvWQU2x0RESOstoAasoLmNl+n/wS2axckzQCw/QTwZMf699MEF8A+I9zGiIgYRbUNkjhV0sHAlsBft+rXSjLwK+CjHdt8fGhwBHCh7UFJQ8vOA74h6W3AM8DK0Wt6RESMpGoCyvYCYJcu9f51bHdMl9pM+O+BFa+1/Yyky4EHRqCpERExBqoJqFEyGbhc0ubANbZ/3usGRUTE8IzrgLL9GHDIOleMiIjq1DpIIiIiJrgEVEREVCkBFRERVRrX30Gtr2mTpjF7yux1rxgREaMuPaiIiKhSAioiIqqUgIqIiColoCIiokoJqIiIqFJG8bUsXb2UOcvn9LoZ1cnIxojohfSgIiKiSgmoiIioUgIqIiKqlICKiIgqJaAiIqJKCaiIiKhSAioiIqq0UQElqV/SKknTyvyrJVnS9DK/paQVkvZvbTNV0gWSFki6UdLry34elHRtqZ9c1p0u6d9a254r6YiONrxV0i2SFkqaW2pnS9ppY84tIiJ6ayR+UXcJcDzwOeBNwEBr2VHAV0v9llL7JPAvthdK2hzYF9gCmGf7HElbAV+XdDfw6DCOPxs40PYqSVMAbH9kBM4rIiJ6aCRu8V0HHF6m9wR+0Fp2PHAOsDeApEnAjrYXAth+2vbN7Z3ZfhL4B+DYYR5/a2A/SZvYXl6Oc76k3SRtL+l6SVdIukRS/4adYkREjLWRCKingV+X23h3DRUlbQpsa/th4PuS9gReCDwyjH3+AtihTL+u3PZbAMzssu5M4CzgHkmndyw7Dfis7TcAm3c7kKRZkgYkDQwuGxxG0yIiYiyM1CCJK4DPABe1av3AHpLmA4fS3OZ7hCak1mUn4KEyfbXtftv9wPmdK9peZPsEml7a2yVNbi3eFbitTC/pdiDbc2332e6bPHVyt1UiIqIHRjKgFgOLWrUTgWNtH237IGB/26uBhyQdAiBps/YAilLbEjgDuGw4B5Y0A8D2E8CTHYvvp9xeBPZZv1OKiIheGpGnmdseBN4BIAlAwL6272uttkLSLsB7gH+W9Ffl+H8N/Bo4VdIBwCRgru3vDY0GXIePDw2OAC60PVjaAHAe8A1JbwOeAVZu+FlGRMRYku1et2HUSNoEwPYzki4HZtn++ZrW3/mVO/vM684cs/Y9V+R1GxExmiQttt3XWR/v74OaDFxehrNfs7ZwioiIuozrgLL9GHBIr9sRERHrL486ioiIKiWgIiKiSgmoiIioUgIqIiKqNK4HSayvaZOmZUh1REQl0oOKiIgqJaAiIqJKCaiIiKhSAioiIqqUQRItS1cvZc7yOb1uRnUycCQieiE9qIiIqFICKiIiqpSAioiIKiWgIiKiSgmoiIioUgIqIiKqlICKiIgqJaAiIqJKoxJQkvolrZI0rcy/WpIlTS/zW0paIWn/1jZTJV0gaYGkGyW9vuznQUnXlvrJXY51hKSbJd0g6bJSmylp39E4t4iIGBuj+SSJJcDxwOeANwEDrWVHAV8t9VtK7ZPAv9heKGlzYF9gC2Ce7XMkbQV8XdLdtm9t7etDwJG2V0iaAmD7/FE8r4iIGAOjeYvvOuDwMr0n8IPWsuOBc4C9ASRNAna0vRDA9tO2b27vzPaTwD8Ax3Ycx0C/pM1sLy/7O7f0rLaQdKmk+aV3NrOzkZJmSRqQNDC4bHBjzzkiIkbIaAbU08Cvy228u4aKkjYFtrX9MPB9SXsCLwQeGcY+fwHs0FF7J3AycLekczuWnQDcZPtoYHm3Hdqea7vPdt/kqZOH0YSIiBgLoz1I4grgM8BFrVo/sIek+cChNLf5HqEJqXXZCXioXbB9j+0/AHYH+iTt0Vq8K3BbmV6yIScQERG9MRYBtRhY1KqdCBxr+2jbBwH7214NPCTpEABJm7UHUJTalsAZwGUd9RkAtlfR9JLa53Q/5TYisM+InVVERIy6UQ0o24O232HbpSRgX9v3tVZbIWkX4D3AuyUtAK4Hti3LT5V0LTAfuMD29zoO8wFJN0laCDxs+87WsouBgyRdSXNrcOWInmBERIyaURnFZ3sBsKCjNrNM7tdRbw8dP6nL7nZZx7He2aV27tC0pBNtr5L0aeDHa9tXRETUYyK8sPBySZOBeztHBkZERL3GfUDZPqrXbYiIiPWXRx1FRESVElAREVGlBFRERFRp3H8HtT6mTZrG7Cmze92MiIggPaiIiKhUAioiIqqUgIqIiColoCIiokoJqIiIqFJG8bUsXb2UOcvnDGvdjPaLiBhd6UFFRESVElAREVGlBFRERFQpARUREVVKQEVERJUSUBERUaUEVEREVKlnASXpXkknteYXlJ9rJM2T9KJS/4yk15bpd0p6f8d+jpB0s6QbJF1WajMl7TuW5xMRESOrJ7+oK+nlwELgWOCC1qIjbK8qgfRp4ETgw8DXJA0AbwMO69jdh4Ajba+QNAXA9vmjfAoRETHKetWDOhH4FPA8SVt0LrR9HfACSZNsLwWuAq4FPmH7qc7VgX5Jm9leDiDp3NKz2kLSpZLmS7pA0sxRPauIiBgxvQqoV9leBMwHjljDOkuBqWX6OmBP4PIu670TOBm4W9K5HctOAG6yfTSwvNtBJM2SNCBpYHDZ4PqdRUREjJoxDyhJvw3sJWk+cBJw3BpWnQYsK9MfBj4CvK9zJdv32P4DYHegT9IercW7AreV6SXdDmJ7ru0+232Tp05e7/OJiIjR0Yse1O8Dp9k+2vZhwI6SJrVXkPR7wHLbqyUdC9wF/BVwhKRpHevOALC9iqaX1D6n+4G9y/Q+o3I2ERExKnoxSOKNwCdb83cCB5fpayStAh4G3i1pU+Bs4BjblvSXwJ8D725t/wFJewKrgVts3ylpaNnFwNclXQkMAitH66QiImJkjXlA2f69jvmzy2T/GjY5qLXudTTfR7W3f2eXY5w7NC3pxDIy8NPAjzes1RERMdYmwvugLpc0GbjX9s29bkxERAzPuA8o20f1ug0REbH+8qijiIioUgIqIiKqlICKiIgqJaAiIqJK436QxPqYNmkas6fM7nUzIiKC9KAiIqJSCaiIiKhSAioiIqqUgIqIiCplkETL0tVLmbN8zlrXySCKiIixkR5URERUKQEVERFVSkBFRESVElAREVGlBFRERFQpARUREVVKQEVERJWqCShJ/ZIelLSg/BzXpfaC8uemHdt+XNKNkm6SNKvUPtmbM4mIiJFQ2y/qzrN9ztCMpP4utd/YQNJewFTbB5f5KQC23zMWDY6IiNFRTQ9qIzwJ/I6k3QBsLweQdGP5cz9Jt0r6iqRbe9jOiIhYD7UF1Kmt23mv6ah9odsGtu8DPgF8QdIdkg7sWOVDwHHAacDOndtLmiVpQNLA4LLBETyViIjYGLUF1Dzb/eXnux21t61pI9v/bvsQ4FjgbzoWb2P7Z7YfB+7psu1c2322+yZPnTxiJxIRERuntoBab5K2G/reCXgUcMcqj0l6saTnAbuNbesiImJD1TZI4lRJB5fpzwM/HcY229Hc3jNN4H64Y/lfAZcB9w5zfxERUYFqAsr2AmCXLosWdKzX3zF/L3BIl/0NBd1i2/tK2hq4aiTaGhERo+85f4tvGA6S9B/AQuBjvW5MREQMTzU9qNFi+z+A3+t1OyIiYv1MhB5UREQ8ByWgIiKiSgmoiIioUgIqIiKqNO4HSayPaZOmMXvK7F43IyIiSA8qIiIqlYCKiIgqJaAiIqJKCaiIiKhSAioiIqqUgIqIiColoCIiokoJqIiIqFICKiIiqpSAioiIKsl2r9tQDUkrgLt73Y5KTAWW9boRlci1aOQ6PCvX4lkjcS12sf3CzmKexfeb7rbd1+tG1EDSQK5FI9eikevwrFyLZ43mtcgtvoiIqFICKiIiqpSA+k1ze92AiuRaPCvXopHr8Kxci2eN2rXIIImIiKhSelAREVGlBFRERFQpAVVIOlrS3ZLulXR2r9szViS9RNL1ku6S9ANJs0t9O0lXS7qn/Dml120dK5ImSfqepG+V+Ql5LSRtK+lCST8sfz8OmIjXQtL7yv8bd0j6iqQtJ8p1kPSvkpZKuqNVW+O5S/rT8hl6t6SjNvb4CSiaDyTgX4DXA78LnCzpd3vbqjGzCjjT9suA/YF3l3M/G7jW9gzg2jI/UcwG7mrNT9RrMQeYb3sP4OU012RCXQtJOwHvBfps7wVMAk5i4lyH84GjO2pdz718bpwE7Fm2+VT5bN1gCajGa4B7bf/Y9tPABcDxPW7TmLD9kO1by/QKmg+hnWjO/4tltS8CJ/SmhWNL0m8BbwTOa5Un3LWQtA1wKPB5ANtP2/5PJuC1oHmgwVaSNgWeB/yCCXIdbN8APNpRXtO5Hw9cYPsp2/cD99J8tm6wBFRjJ+CnrfmfldqEImk68ErgO8CLbD8ETYgB03rXsjH1CeADwDOt2kS8Fi8FHgG+UG53nidpaybYtbD9c+DvgZ8ADwH/ZfsqJth16LCmcx/xz9EEVENdahNq/L2kycA3gDNsP9br9vSCpGOApbYX97otFdgUeBXwaduvBB5n/N7GWqPy/crxwK7Ai4GtJZ3S21ZVa8Q/RxNQjZ8BL2nN/xZNN35CkLQZTTh92fZFpfxLSTuW5TsCS3vVvjF0EHCcpAdobvO+VtK/MTGvxc+An9n+Tpm/kCawJtq1OAK43/YjtlcCFwEHMvGuQ9uazn3EP0cTUI1FwAxJu0ranOaLvkt73KYxIUk03zPcZfsfW4suBf6oTP8RcMlYt22s2f5T279lezrN34HrbJ/CxLwWDwM/lfQ7pXQ4cCcT71r8BNhf0vPK/yuH03xPO9GuQ9uazv1S4CRJW0jaFZgBfHdjDpQnSRSS3kDz/cMk4F9t/02PmzQmJB0MLARu59nvXT5I8z3U14Cdaf4n/V+2O78sHbck9QPvt32MpO2ZgNdC0itoBotsDvwYeBvNP2on1LWQ9BfA/6YZ8fo94DRgMhPgOkj6CtBP80qNXwJ/DlzMGs5d0p8Bb6e5VmfY/n8bdfwEVERE1Ci3+CIiokoJqIiIqFICKiIiqpSAioiIKiWgIiKiSgmoGFckDbam31CeuLxzmZ9Vnsz9Q0nfLUPsu+3jfEn3S1pSft67gW2ZKenFG3YmG0bSAkl9Y3zMD47l8WLiSEDFuCTpcOCTwNG2f1IeY3Q6cHB5OvcfA/8uaYc17OIs268oP/+0gc2YSfN4nPVp96YbeKwxp8YmNL83FzHiElAx7kg6BPgc8Ebb95Xyn9CEzjKA8gT3LwLvXo/9HinpZkm3Svp6eX4hkj4saVF5X9Dc8sH9ZqAP+HLphW0l6QFJU8s2fZIWlOlzy3ZXAV9S8z6qj5V93ibp9LLejpJuKPu7o5zn2to7KOnvJC2WdI2k15Qe1o8lHVfWmSnpEknzyzt8/ry1/f8tx7lD0hmlNl3Nu6E+BdxK8xSSrUqbvlzWubgc8weSZnW0528kfV/SLZJeVOovkvTNUv++pANL/ZTS010i6bPlukwqPdw7JN0u6X3D/e8Xz0G285OfcfMDrKR5PcA+HfVHgRd01I4HLuqyj/OB+4El5Wdvmt+kvwHYuqzzJ8CHy/R2rW3nAceW6QU07xEaWvYAMLVM9wELyvS5wGJgqzI/CzinTG8BDNA8rPRM4M9KfRLw/C5t/+9j0jyo8/Vl+pvAVcBmNO92WlLqM2me0r09sBVwR2nbvjRPF9ma5qkJP6B50v10mieO7N865mBHG7Yrfw7tb/tWe4auzUdb5/hVmqcODJ3XC4CXAZcBm5X6p4A/LO26unWsbXv9dy4/o/fznLmdEDFMK4GbgHfQvHhwbcSan7Z8lu0L/3vF5hbh7wLfbh7JxubAzWXxYZI+QPOuoO1oPswvW892X2r7yTJ9JLBP6YVB84E9g+aZkf+q5uG+F9teso59Pg3ML9O3A0/ZXinpdpqgGXK17V+V87wIOJjmunzT9uOt+iE0z1t70PYtaznueyW9qUy/pLT9V6U93yr1xcDryvRracIH26uB/5J0Kk0YLSrXeyuah5JeBrxU0ieBy2lCN8apBFSMN88AbwGukfRB239b6nfSfOBd11r3VaU+HKL5ID/5N4rSljT/uu+z/VNJ5wJbrmEfq3j2tnrnOo93HOs9tq/8H42QDqV5oeI8SR+z/aW1tHml7aEAfgZ4CsD2Mx3fdXWGtOn+6oRube1sXz/NE8APsP1EuY05dK7t9qxm7Z8/Ar5o+0+7HOPlwFE0t2ffQvPstxiH8h1UjDu2nwCOAd4q6R2l/FHg79Q8+HXoQagzacJlOG4BDpK0W9n+eZJ259kP32XlO6k3t7ZZATy/Nf8ATUgC/P5ajnUl8K7SU0LS7pK2lrQLzfuqPkfz3c+rhtn2dXmdpO0kbUXzdtRv09zOPKGc59bAm2geKtzNyqG20vT2lpdw2gPYfxjHvxZ4F0D5jmmbUnuzpGmlvp2kXcp3eJvY/gbwIUbuGkSF0oOKccn2o5KOBm6QtMz2JZJ2Am6SZJrwOMXlzaDD2N8jkmYCX5G0RSmfY/tHkj5HcwvtAZrbcEPOBz4j6UngAOAvgM+rGZb9HdbsPJpbcLequb/1CE1w9ANnSVoJDFJui42AG2m+O9sN+HfbA9AMt+fZ1yWcZ/t7at663GkucJukW2l6M38s6TbgbppgX5fZwNzyj4nVwLts3yzpHOAqNSMFV9L0mJ6kecvv0D+u/0cPK8aPPM08YgIrodtn+//0ui0RnXKLLyIiqpQeVEREVCk9qIiIqFICKiIiqpSAioiIKiWgIiKiSgmoiIio0v8HOms6z3ToGiAAAAAASUVORK5CYII=\n",

      "text/plain": [
       "<Figure size 432x288 with 1 Axes>"
      ]
     },
     "metadata": {
      "needs_background": "light"
     },
     "output_type": "display_data"
    },
    {
     "name": "stdout",
     "output_type": "stream",
     "text": [
      "\n",
      "----------------------- LQD -----------------------\n",
      "\n",
      "\n",
      "LQD: Confusion Matrix (Indicators Only, No Signals)\n"
     ]
    },
    {
     "data": {
      "text/html": [
       "<div>\n",
       "<style scoped>\n",
       "    .dataframe tbody tr th:only-of-type {\n",
       "        vertical-align: middle;\n",
       "    }\n",
       "\n",
       "    .dataframe tbody tr th {\n",
       "        vertical-align: top;\n",
       "    }\n",
       "\n",
       "    .dataframe thead th {\n",
       "        text-align: right;\n",
       "    }\n",
       "</style>\n",
       "<table border=\"1\" class=\"dataframe\">\n",
       "  <thead>\n",
       "    <tr style=\"text-align: right;\">\n",
       "      <th></th>\n",
       "      <th>Predicted 0</th>\n",
       "      <th>Predicted 1</th>\n",
       "    </tr>\n",
       "  </thead>\n",
       "  <tbody>\n",
       "    <tr>\n",
       "      <th>Actual 0</th>\n",
       "      <td>42</td>\n",
       "      <td>288</td>\n",
       "    </tr>\n",
       "    <tr>\n",
       "      <th>Actual 1</th>\n",
       "      <td>49</td>\n",
       "      <td>366</td>\n",
       "    </tr>\n",
       "  </tbody>\n",
       "</table>\n",
       "</div>"
      ],
      "text/plain": [
       "          Predicted 0  Predicted 1\n",
       "Actual 0           42          288\n",
       "Actual 1           49          366"
      ]
     },
     "metadata": {},
     "output_type": "display_data"
    },
    {
     "name": "stdout",
     "output_type": "stream",
     "text": [
      "Accuracy Score : 0.5476510067114094\n",
      "Classification Report\n",
      "              precision    recall  f1-score   support\n",
      "\n",
      "        -1.0       0.46      0.13      0.20       330\n",
      "         1.0       0.56      0.88      0.68       415\n",
      "\n",
      "    accuracy                           0.55       745\n",
      "   macro avg       0.51      0.50      0.44       745\n",
      "weighted avg       0.52      0.55      0.47       745\n",
      "\n"
     ]
    },
    {
     "data": {
      "image/png": "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\n",

      "text/plain": [
       "<Figure size 432x288 with 1 Axes>"
      ]
     },
     "metadata": {
      "needs_background": "light"
     },
     "output_type": "display_data"
    },
    {
     "name": "stdout",
     "output_type": "stream",
     "text": [
      "-----\n",
      "\n",
      "\n",
      "LQD: Confusion Matrix (Signals Only, No Indicators)\n"
     ]
    },
    {
     "data": {
      "text/html": [
       "<div>\n",
       "<style scoped>\n",
       "    .dataframe tbody tr th:only-of-type {\n",
       "        vertical-align: middle;\n",
       "    }\n",
       "\n",
       "    .dataframe tbody tr th {\n",
       "        vertical-align: top;\n",
       "    }\n",
       "\n",
       "    .dataframe thead th {\n",
       "        text-align: right;\n",
       "    }\n",
       "</style>\n",
       "<table border=\"1\" class=\"dataframe\">\n",
       "  <thead>\n",
       "    <tr style=\"text-align: right;\">\n",
       "      <th></th>\n",
       "      <th>Predicted 0</th>\n",
       "      <th>Predicted 1</th>\n",
       "    </tr>\n",
       "  </thead>\n",
       "  <tbody>\n",
       "    <tr>\n",
       "      <th>Actual 0</th>\n",
       "      <td>0</td>\n",
       "      <td>330</td>\n",
       "    </tr>\n",
       "    <tr>\n",
       "      <th>Actual 1</th>\n",
       "      <td>4</td>\n",
       "      <td>411</td>\n",
       "    </tr>\n",
       "  </tbody>\n",
       "</table>\n",
       "</div>"
      ],
      "text/plain": [
       "          Predicted 0  Predicted 1\n",
       "Actual 0            0          330\n",
       "Actual 1            4          411"
      ]
     },
     "metadata": {},
     "output_type": "display_data"
    },
    {
     "name": "stdout",
     "output_type": "stream",
     "text": [
      "Accuracy Score : 0.5516778523489932\n",
      "Classification Report\n",
      "              precision    recall  f1-score   support\n",
      "\n",
      "        -1.0       0.00      0.00      0.00       330\n",
      "         1.0       0.55      0.99      0.71       415\n",
      "\n",
      "    accuracy                           0.55       745\n",
      "   macro avg       0.28      0.50      0.36       745\n",
      "weighted avg       0.31      0.55      0.40       745\n",
      "\n"
     ]
    },
    {
     "data": {
      "image/png": "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\n",

      "text/plain": [
       "<Figure size 432x288 with 1 Axes>"
      ]
     },
     "metadata": {
      "needs_background": "light"
     },
     "output_type": "display_data"
    },
    {
     "name": "stdout",
     "output_type": "stream",
     "text": [
      "\n",
      "----------------------- MMM -----------------------\n",
      "\n",
      "\n",
      "MMM: Confusion Matrix (Indicators Only, No Signals)\n"
     ]
    },
    {
     "data": {
      "text/html": [
       "<div>\n",
       "<style scoped>\n",
       "    .dataframe tbody tr th:only-of-type {\n",
       "        vertical-align: middle;\n",
       "    }\n",
       "\n",
       "    .dataframe tbody tr th {\n",
       "        vertical-align: top;\n",
       "    }\n",
       "\n",
       "    .dataframe thead th {\n",
       "        text-align: right;\n",
       "    }\n",
       "</style>\n",
       "<table border=\"1\" class=\"dataframe\">\n",
       "  <thead>\n",
       "    <tr style=\"text-align: right;\">\n",
       "      <th></th>\n",
       "      <th>Predicted 0</th>\n",
       "      <th>Predicted 1</th>\n",
       "    </tr>\n",
       "  </thead>\n",
       "  <tbody>\n",
       "    <tr>\n",
       "      <th>Actual 0</th>\n",
       "      <td>28</td>\n",
       "      <td>322</td>\n",
       "    </tr>\n",
       "    <tr>\n",
       "      <th>Actual 1</th>\n",
       "      <td>25</td>\n",
       "      <td>370</td>\n",
       "    </tr>\n",
       "  </tbody>\n",
       "</table>\n",
       "</div>"
      ],
      "text/plain": [
       "          Predicted 0  Predicted 1\n",
       "Actual 0           28          322\n",
       "Actual 1           25          370"
      ]
     },
     "metadata": {},
     "output_type": "display_data"
    },
    {
     "name": "stdout",
     "output_type": "stream",
     "text": [
      "Accuracy Score : 0.5342281879194631\n",
      "Classification Report\n",
      "              precision    recall  f1-score   support\n",
      "\n",
      "        -1.0       0.53      0.08      0.14       350\n",
      "         1.0       0.53      0.94      0.68       395\n",
      "\n",
      "    accuracy                           0.53       745\n",
      "   macro avg       0.53      0.51      0.41       745\n",
      "weighted avg       0.53      0.53      0.43       745\n",
      "\n"
     ]
    },
    {
     "data": {
      "image/png": "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\n",

      "text/plain": [
       "<Figure size 432x288 with 1 Axes>"
      ]
     },
     "metadata": {
      "needs_background": "light"
     },
     "output_type": "display_data"
    },
    {
     "name": "stdout",
     "output_type": "stream",
     "text": [
      "-----\n",
      "\n",
      "\n",
      "MMM: Confusion Matrix (Signals Only, No Indicators)\n"
     ]
    },
    {
     "data": {
      "text/html": [
       "<div>\n",
       "<style scoped>\n",
       "    .dataframe tbody tr th:only-of-type {\n",
       "        vertical-align: middle;\n",
       "    }\n",
       "\n",
       "    .dataframe tbody tr th {\n",
       "        vertical-align: top;\n",
       "    }\n",
       "\n",
       "    .dataframe thead th {\n",
       "        text-align: right;\n",
       "    }\n",
       "</style>\n",
       "<table border=\"1\" class=\"dataframe\">\n",
       "  <thead>\n",
       "    <tr style=\"text-align: right;\">\n",
       "      <th></th>\n",
       "      <th>Predicted 0</th>\n",
       "      <th>Predicted 1</th>\n",
       "    </tr>\n",
       "  </thead>\n",
       "  <tbody>\n",
       "    <tr>\n",
       "      <th>Actual 0</th>\n",
       "      <td>17</td>\n",
       "      <td>333</td>\n",
       "    </tr>\n",
       "    <tr>\n",
       "      <th>Actual 1</th>\n",
       "      <td>15</td>\n",
       "      <td>380</td>\n",
       "    </tr>\n",
       "  </tbody>\n",
       "</table>\n",
       "</div>"
      ],
      "text/plain": [
       "          Predicted 0  Predicted 1\n",
       "Actual 0           17          333\n",
       "Actual 1           15          380"
      ]
     },
     "metadata": {},
     "output_type": "display_data"
    },
    {
     "name": "stdout",
     "output_type": "stream",
     "text": [
      "Accuracy Score : 0.5328859060402684\n",
      "Classification Report\n",
      "              precision    recall  f1-score   support\n",
      "\n",
      "        -1.0       0.53      0.05      0.09       350\n",
      "         1.0       0.53      0.96      0.69       395\n",
      "\n",
      "    accuracy                           0.53       745\n",
      "   macro avg       0.53      0.51      0.39       745\n",
      "weighted avg       0.53      0.53      0.41       745\n",
      "\n"
     ]
    },
    {
     "data": {
      "image/png": "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\n",

      "text/plain": [
       "<Figure size 432x288 with 1 Axes>"
      ]
     },
     "metadata": {
      "needs_background": "light"
     },
     "output_type": "display_data"
    },
    {
     "name": "stdout",
     "output_type": "stream",
     "text": [
      "\n",
      "----------------------- MSCI Europe -----------------------\n",
      "\n",
      "\n",
      "MSCI Europe: Confusion Matrix (Indicators Only, No Signals)\n"
     ]
    },
    {
     "data": {
      "text/html": [
       "<div>\n",
       "<style scoped>\n",
       "    .dataframe tbody tr th:only-of-type {\n",
       "        vertical-align: middle;\n",
       "    }\n",
       "\n",
       "    .dataframe tbody tr th {\n",
       "        vertical-align: top;\n",
       "    }\n",
       "\n",
       "    .dataframe thead th {\n",
       "        text-align: right;\n",
       "    }\n",
       "</style>\n",
       "<table border=\"1\" class=\"dataframe\">\n",
       "  <thead>\n",
       "    <tr style=\"text-align: right;\">\n",
       "      <th></th>\n",
       "      <th>Predicted 0</th>\n",
       "      <th>Predicted 1</th>\n",
       "    </tr>\n",
       "  </thead>\n",
       "  <tbody>\n",
       "    <tr>\n",
       "      <th>Actual 0</th>\n",
       "      <td>148</td>\n",
       "      <td>1667</td>\n",
       "    </tr>\n",
       "    <tr>\n",
       "      <th>Actual 1</th>\n",
       "      <td>147</td>\n",
       "      <td>1904</td>\n",
       "    </tr>\n",
       "  </tbody>\n",
       "</table>\n",
       "</div>"
      ],
      "text/plain": [
       "          Predicted 0  Predicted 1\n",
       "Actual 0          148         1667\n",
       "Actual 1          147         1904"
      ]
     },
     "metadata": {},
     "output_type": "display_data"
    },
    {
     "name": "stdout",
     "output_type": "stream",
     "text": [
      "Accuracy Score : 0.5307811691670977\n",
      "Classification Report\n",
      "              precision    recall  f1-score   support\n",
      "\n",
      "        -1.0       0.50      0.08      0.14      1815\n",
      "         1.0       0.53      0.93      0.68      2051\n",
      "\n",
      "    accuracy                           0.53      3866\n",
      "   macro avg       0.52      0.50      0.41      3866\n",
      "weighted avg       0.52      0.53      0.43      3866\n",
      "\n"
     ]
  }
 ],
 "metadata": {
  "kernelspec": {
   "display_name": "Python 3",
   "language": "python",
   "name": "python3"
  },
  "language_info": {
   "codemirror_mode": {
    "name": "ipython",
    "version": 3
   },
   "file_extension": ".py",
   "mimetype": "text/x-python",
   "name": "python",
   "nbconvert_exporter": "python",
   "pygments_lexer": "ipython3",
   "version": "3.8.3"
  }
 },
 "nbformat": 4,
 "nbformat_minor": 4
}
