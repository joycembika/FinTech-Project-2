{
 "cells": [
  {
   "cell_type": "markdown",
   "metadata": {},
   "source": [
    "# Fetch Data from Data Sources"
   ]
  },
  {
   "cell_type": "markdown",
   "metadata": {},
   "source": [
    "---"
   ]
  },
  {
   "cell_type": "markdown",
   "metadata": {},
   "source": [
    "### Import Libraries and Dependencies"
   ]
  },
  {
   "cell_type": "code",
   "execution_count": 1,
   "metadata": {},
   "outputs": [],
   "source": [
    "# Initial imports\n",
    "import pandas as pd\n",
    "from pathlib import Path\n",
    "import datetime as dt\n",
    "import pandas_datareader as pdr\n"
   ]
  },
  {
   "cell_type": "markdown",
   "metadata": {},
   "source": [
    "### Get data directly from Yahoo from Yahoo Finance API"
   ]
  },
  {
   "cell_type": "code",
   "execution_count": 18,
   "metadata": {},
   "outputs": [
    {
     "name": "stdout",
     "output_type": "stream",
     "text": [
      "Fetching AAPL data from Yahoo Finance\n",
      "Fetching AMZN data from Yahoo Finance\n",
      "Fetching BABA data from Yahoo Finance\n",
      "Fetching EMR data from Yahoo Finance\n",
      "Fetching EURUSD=X data from Yahoo Finance\n",
      "Fetching EXC data from Yahoo Finance\n",
      "Fetching F data from Yahoo Finance\n",
      "Fetching GBPUSD=X data from Yahoo Finance\n",
      "Fetching Gold data from Yahoo Finance\n",
      "Fetching GOOG data from Yahoo Finance\n",
      "Fetching JPM data from Yahoo Finance\n",
      "Fetching KO data from Yahoo Finance\n",
      "Fetching MMM data from Yahoo Finance\n",
      "Fetching Oil data from Yahoo Finance\n",
      "Fetching PFE data from Yahoo Finance\n",
      "Fetching SSNLF data from Yahoo Finance\n",
      "Fetching SIEGY data from Yahoo Finance\n",
      "Fetching SPG data from Yahoo Finance\n",
      "Fetching TSLA data from Yahoo Finance\n"
     ]
    },
    {
     "data": {
      "text/html": [
       "<div>\n",
       "<style scoped>\n",
       "    .dataframe tbody tr th:only-of-type {\n",
       "        vertical-align: middle;\n",
       "    }\n",
       "\n",
       "    .dataframe tbody tr th {\n",
       "        vertical-align: top;\n",
       "    }\n",
       "\n",
       "    .dataframe thead th {\n",
       "        text-align: right;\n",
       "    }\n",
       "</style>\n",
       "<table border=\"1\" class=\"dataframe\">\n",
       "  <thead>\n",
       "    <tr style=\"text-align: right;\">\n",
       "      <th></th>\n",
       "      <th>High</th>\n",
       "      <th>Low</th>\n",
       "      <th>Open</th>\n",
       "      <th>Close</th>\n",
       "      <th>Volume</th>\n",
       "      <th>Adj Close</th>\n",
       "      <th>Ticker</th>\n",
       "    </tr>\n",
       "    <tr>\n",
       "      <th>Date</th>\n",
       "      <th></th>\n",
       "      <th></th>\n",
       "      <th></th>\n",
       "      <th></th>\n",
       "      <th></th>\n",
       "      <th></th>\n",
       "      <th></th>\n",
       "    </tr>\n",
       "  </thead>\n",
       "  <tbody>\n",
       "    <tr>\n",
       "      <th>2010-01-04</th>\n",
       "      <td>7.660714</td>\n",
       "      <td>7.585000</td>\n",
       "      <td>7.622500</td>\n",
       "      <td>7.643214</td>\n",
       "      <td>493729600.0</td>\n",
       "      <td>6.593423</td>\n",
       "      <td>AAPL</td>\n",
       "    </tr>\n",
       "    <tr>\n",
       "      <th>2010-01-05</th>\n",
       "      <td>7.699643</td>\n",
       "      <td>7.616071</td>\n",
       "      <td>7.664286</td>\n",
       "      <td>7.656429</td>\n",
       "      <td>601904800.0</td>\n",
       "      <td>6.604822</td>\n",
       "      <td>AAPL</td>\n",
       "    </tr>\n",
       "    <tr>\n",
       "      <th>2010-01-06</th>\n",
       "      <td>7.686786</td>\n",
       "      <td>7.526786</td>\n",
       "      <td>7.656429</td>\n",
       "      <td>7.534643</td>\n",
       "      <td>552160000.0</td>\n",
       "      <td>6.499765</td>\n",
       "      <td>AAPL</td>\n",
       "    </tr>\n",
       "    <tr>\n",
       "      <th>2010-01-07</th>\n",
       "      <td>7.571429</td>\n",
       "      <td>7.466071</td>\n",
       "      <td>7.562500</td>\n",
       "      <td>7.520714</td>\n",
       "      <td>477131200.0</td>\n",
       "      <td>6.487749</td>\n",
       "      <td>AAPL</td>\n",
       "    </tr>\n",
       "    <tr>\n",
       "      <th>2010-01-08</th>\n",
       "      <td>7.571429</td>\n",
       "      <td>7.466429</td>\n",
       "      <td>7.510714</td>\n",
       "      <td>7.570714</td>\n",
       "      <td>447610800.0</td>\n",
       "      <td>6.530882</td>\n",
       "      <td>AAPL</td>\n",
       "    </tr>\n",
       "    <tr>\n",
       "      <th>...</th>\n",
       "      <td>...</td>\n",
       "      <td>...</td>\n",
       "      <td>...</td>\n",
       "      <td>...</td>\n",
       "      <td>...</td>\n",
       "      <td>...</td>\n",
       "      <td>...</td>\n",
       "    </tr>\n",
       "    <tr>\n",
       "      <th>2019-12-24</th>\n",
       "      <td>85.094002</td>\n",
       "      <td>82.538002</td>\n",
       "      <td>83.671997</td>\n",
       "      <td>85.050003</td>\n",
       "      <td>40273500.0</td>\n",
       "      <td>85.050003</td>\n",
       "      <td>TSLA</td>\n",
       "    </tr>\n",
       "    <tr>\n",
       "      <th>2019-12-26</th>\n",
       "      <td>86.695999</td>\n",
       "      <td>85.269997</td>\n",
       "      <td>85.582001</td>\n",
       "      <td>86.188004</td>\n",
       "      <td>53169500.0</td>\n",
       "      <td>86.188004</td>\n",
       "      <td>TSLA</td>\n",
       "    </tr>\n",
       "    <tr>\n",
       "      <th>2019-12-27</th>\n",
       "      <td>87.061996</td>\n",
       "      <td>85.222000</td>\n",
       "      <td>87.000000</td>\n",
       "      <td>86.075996</td>\n",
       "      <td>49728500.0</td>\n",
       "      <td>86.075996</td>\n",
       "      <td>TSLA</td>\n",
       "    </tr>\n",
       "    <tr>\n",
       "      <th>2019-12-30</th>\n",
       "      <td>85.800003</td>\n",
       "      <td>81.851997</td>\n",
       "      <td>85.758003</td>\n",
       "      <td>82.940002</td>\n",
       "      <td>62932000.0</td>\n",
       "      <td>82.940002</td>\n",
       "      <td>TSLA</td>\n",
       "    </tr>\n",
       "    <tr>\n",
       "      <th>2019-12-31</th>\n",
       "      <td>84.258003</td>\n",
       "      <td>80.416000</td>\n",
       "      <td>81.000000</td>\n",
       "      <td>83.666000</td>\n",
       "      <td>51428500.0</td>\n",
       "      <td>83.666000</td>\n",
       "      <td>TSLA</td>\n",
       "    </tr>\n",
       "  </tbody>\n",
       "</table>\n",
       "<p>44729 rows × 7 columns</p>\n",
       "</div>"
      ],
      "text/plain": [
       "                 High        Low       Open      Close       Volume  \\\n",
       "Date                                                                  \n",
       "2010-01-04   7.660714   7.585000   7.622500   7.643214  493729600.0   \n",
       "2010-01-05   7.699643   7.616071   7.664286   7.656429  601904800.0   \n",
       "2010-01-06   7.686786   7.526786   7.656429   7.534643  552160000.0   \n",
       "2010-01-07   7.571429   7.466071   7.562500   7.520714  477131200.0   \n",
       "2010-01-08   7.571429   7.466429   7.510714   7.570714  447610800.0   \n",
       "...               ...        ...        ...        ...          ...   \n",
       "2019-12-24  85.094002  82.538002  83.671997  85.050003   40273500.0   \n",
       "2019-12-26  86.695999  85.269997  85.582001  86.188004   53169500.0   \n",
       "2019-12-27  87.061996  85.222000  87.000000  86.075996   49728500.0   \n",
       "2019-12-30  85.800003  81.851997  85.758003  82.940002   62932000.0   \n",
       "2019-12-31  84.258003  80.416000  81.000000  83.666000   51428500.0   \n",
       "\n",
       "            Adj Close Ticker  \n",
       "Date                          \n",
       "2010-01-04   6.593423   AAPL  \n",
       "2010-01-05   6.604822   AAPL  \n",
       "2010-01-06   6.499765   AAPL  \n",
       "2010-01-07   6.487749   AAPL  \n",
       "2010-01-08   6.530882   AAPL  \n",
       "...               ...    ...  \n",
       "2019-12-24  85.050003   TSLA  \n",
       "2019-12-26  86.188004   TSLA  \n",
       "2019-12-27  86.075996   TSLA  \n",
       "2019-12-30  82.940002   TSLA  \n",
       "2019-12-31  83.666000   TSLA  \n",
       "\n",
       "[44729 rows x 7 columns]"
      ]
     },
     "execution_count": 18,
     "metadata": {},
     "output_type": "execute_result"
    }
   ],
   "source": [
    "# Fetch historical data from Yahoo Finance for the specified date range \n",
    "# and save it to respective CSV files in the Resources folder\n",
    "\n",
    "\n",
    "# Date Range\n",
    "start_date = dt.datetime(2010,1,1)\n",
    "end_date = dt.datetime(2020,1,1)\n",
    "\n",
    "# Tickers\n",
    "tickers = ['AAPL', 'AMZN', 'BABA', 'EMR', 'EURUSD=X', 'EXC', 'F', 'GBPUSD=X', \n",
    "           'Gold', 'GOOG', 'JPM', 'KO', 'MMM', 'Oil', 'PFE', 'SSNLF', 'SIEGY', 'SPG', 'TSLA']\n",
    "\n",
    "# 'iShares Corporate Bond', 'iShares High Yield Bond', 'MSCI Europe', 'Russell 2000', 'Samsung', 'Siemens'\n",
    "\n",
    "all_data = pd.DataFrame()\n",
    "tickers_no_data_found = []\n",
    "\n",
    "for ticker in tickers:\n",
    "    print(f\"Fetching {ticker} data from Yahoo Finance\")\n",
    "    try:\n",
    "        #tmp_data = pd.DataFrame()\n",
    "        tmp_data = pdr.get_data_yahoo(ticker, start = start_date, end = end_date)\n",
    "        tmp_data['Ticker'] = ticker\n",
    "        tmp_data.to_csv(f\"Resources/Yahoo Finance/{ticker}.csv\")\n",
    "        all_data = all_data.append(tmp_data)\n",
    "    except:\n",
    "        print(f\" > No data found for {ticker}\")\n",
    "        tickers_no_data_found.append(ticker)\n",
    "        \n",
    "all_data.to_csv(f\"Resources/Yahoo Finance/All Yahoo Data.csv\")"
   ]
  },
  {
   "cell_type": "markdown",
   "metadata": {},
   "source": [
    "### Preparing Data"
   ]
  },
  {
   "cell_type": "code",
   "execution_count": null,
   "metadata": {},
   "outputs": [],
   "source": [
    "# Define features set\n",
    "X = df_AAPL.drop([\"Open\", \"High\", \"Low\", \"Adj Close\"], axis=1)\n",
    "X.head()"
   ]
  },
  {
   "cell_type": "markdown",
   "metadata": {},
   "source": [
    "### Calculate trading signals"
   ]
  },
  {
   "cell_type": "code",
   "execution_count": null,
   "metadata": {},
   "outputs": [],
   "source": [
    "# Calculate daily return\n",
    "X['Return'] = X['Close'].pct_change()\n",
    "\n",
    "# Calculate 50 day simple movering average\n",
    "X['MA 50'] = X['Close'].transform(lambda x: x.rolling(window = 50).mean())\n",
    "\n",
    "# Calculate 100 day simple movering average\n",
    "X['MA 100'] = X['Close'].transform(lambda x: x.rolling(window = 100).mean())\n",
    "\n",
    "# Calculate simple moving average ratio to capture the relationship between the two moving averages\n",
    "X['MA Ratio'] = X['MA 100'] / X['MA 50']\n",
    "\n",
    "X.tail()"
   ]
  },
  {
   "cell_type": "markdown",
   "metadata": {},
   "source": [
    "### Create Machine Learning Model"
   ]
  },
  {
   "cell_type": "code",
   "execution_count": null,
   "metadata": {},
   "outputs": [],
   "source": []
  },
  {
   "cell_type": "markdown",
   "metadata": {},
   "source": [
    "### Train Model"
   ]
  },
  {
   "cell_type": "code",
   "execution_count": null,
   "metadata": {},
   "outputs": [],
   "source": []
  },
  {
   "cell_type": "markdown",
   "metadata": {},
   "source": [
    "### Backtest/Tweak Model"
   ]
  },
  {
   "cell_type": "code",
   "execution_count": null,
   "metadata": {},
   "outputs": [],
   "source": []
  },
  {
   "cell_type": "markdown",
   "metadata": {},
   "source": [
    "### Make Predictions"
   ]
  },
  {
   "cell_type": "code",
   "execution_count": null,
   "metadata": {},
   "outputs": [],
   "source": []
  },
  {
   "cell_type": "markdown",
   "metadata": {},
   "source": [
    "### Evaluate & Plot"
   ]
  },
  {
   "cell_type": "code",
   "execution_count": null,
   "metadata": {},
   "outputs": [],
   "source": []
  }
 ],
 "metadata": {
  "kernelspec": {
   "display_name": "Python 3",
   "language": "python",
   "name": "python3"
  },
  "language_info": {
   "codemirror_mode": {
    "name": "ipython",
    "version": 3
   },
   "file_extension": ".py",
   "mimetype": "text/x-python",
   "name": "python",
   "nbconvert_exporter": "python",
   "pygments_lexer": "ipython3",
   "version": "3.8.3"
  }
 },
 "nbformat": 4,
 "nbformat_minor": 4
}
