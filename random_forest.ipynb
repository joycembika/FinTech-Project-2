{
 "cells": [
  {
   "cell_type": "markdown",
   "metadata": {},
   "source": [
    "# Predict Future Price"
   ]
  },
  {
   "cell_type": "markdown",
   "metadata": {},
   "source": [
    "---"
   ]
  },
  {
   "cell_type": "markdown",
   "metadata": {},
   "source": [
    "### Import Libraries and Dependencies"
   ]
  },
  {
   "cell_type": "code",
   "execution_count": 1,
   "metadata": {},
   "outputs": [],
   "source": [
    "# Initial imports\n",
    "import os\n",
    "import pandas as pd\n",
    "from pathlib import Path\n",
    "import datetime as dt\n",
    "import numpy as np\n",
    "from sklearn.ensemble import RandomForestClassifier\n",
    "from sklearn.preprocessing import StandardScaler\n",
    "from sklearn.model_selection import train_test_split\n",
    "from sklearn.metrics import confusion_matrix, accuracy_score, classification_report\n",
    "\n",
    "import matplotlib.pyplot as plt\n",
    "%matplotlib inline\n",
    "\n",
    "import talib"
   ]
  },
  {
   "cell_type": "markdown",
   "metadata": {},
   "source": [
    "### Read CSV / API into Pandas DataFrame"
   ]
  },
  {
   "cell_type": "code",
   "execution_count": 2,
   "metadata": {},
   "outputs": [
    {
     "data": {
      "text/plain": [
       "['Resources/Data/AAPL.csv',\n",
       " 'Resources/Data/AMZN.csv',\n",
       " 'Resources/Data/BABA.csv',\n",
       " 'Resources/Data/BTCUSD=X.csv',\n",
       " 'Resources/Data/EMR.csv',\n",
       " 'Resources/Data/EURUSD=X.csv',\n",
       " 'Resources/Data/EXC.csv',\n",
       " 'Resources/Data/F.csv',\n",
       " 'Resources/Data/GBPUSD=X.csv',\n",
       " 'Resources/Data/GOOG.csv',\n",
       " 'Resources/Data/Gold.csv',\n",
       " 'Resources/Data/HYG.csv',\n",
       " 'Resources/Data/JPM.csv',\n",
       " 'Resources/Data/KO.csv',\n",
       " 'Resources/Data/LQD.csv',\n",
       " 'Resources/Data/MMM.csv',\n",
       " 'Resources/Data/MSCI Europe.csv',\n",
       " 'Resources/Data/Nikkei Index.csv',\n",
       " 'Resources/Data/Oil.csv',\n",
       " 'Resources/Data/PFE.csv',\n",
       " 'Resources/Data/Russell 2000.csv',\n",
       " 'Resources/Data/SIEGY.csv',\n",
       " 'Resources/Data/SPG.csv',\n",
       " 'Resources/Data/SSNLF.csv',\n",
       " 'Resources/Data/TSLA.csv']"
      ]
     },
     "execution_count": 2,
     "metadata": {},
     "output_type": "execute_result"
    }
   ],
   "source": [
    "# Loading data\n",
    "# Create a list of all csv files in the data directory\n",
    "data_dir = \"Resources/Data/\"\n",
    "dir_content = os.listdir(data_dir)\n",
    "data_files = [data_dir + x for x in dir_content if x.lower().endswith('.csv')]\n",
    "data_files.sort()\n",
    "data_files"
   ]
  },
  {
   "cell_type": "markdown",
   "metadata": {},
   "source": [
    "### Calculate Indicators and Prepare Data"
   ]
  },
  {
   "cell_type": "code",
   "execution_count": 3,
   "metadata": {},
   "outputs": [],
   "source": [
    "def add_indicators_and_signals(df):\n",
    "\n",
    "    #df = df.drop([\"Adj Close\", \"Ticker\"], axis=1)\n",
    "    \n",
    "    if 'High' in df.columns:\n",
    "        stock_high = df['High']\n",
    "    else:\n",
    "        stock_high = None\n",
    "        \n",
    "    if 'Low' in df.columns:\n",
    "        stock_low = df['Low']\n",
    "    else:\n",
    "        stock_low = None\n",
    "            \n",
    "    if 'Open' in df.columns:\n",
    "        stock_open = df['Open']\n",
    "    else:\n",
    "        stock_open = None\n",
    "        \n",
    "    if 'Volume' in df.columns:\n",
    "        stock_volume = df['Volume']\n",
    "    else:\n",
    "        stock_volume = None\n",
    "        \n",
    "    if 'Adj Close' in df.columns:\n",
    "        stock_close = df['Adj Close']\n",
    "    else:\n",
    "        stock_close = df['Close']\n",
    "    \n",
    "    # MACD, MACD Histogram\n",
    "    df['MACD'], df['MSIG'], df['MACDH'] = talib.MACD(stock_close, fastperiod=12, slowperiod=26, signalperiod=9)\n",
    "\n",
    "    # MACD > MSIG: Buy\n",
    "    # MACD < MSIG: Sell\n",
    "    df['MACD Sig'] = np.where(df['MACD'] > df['MSIG'], 1, 0) + np.where(df['MACD'] < df['MSIG'], -1, 0)\n",
    "\n",
    "    # MACD Histogram (MACDH) \n",
    "    df['MACDH Sig'] = np.where(df['MACDH'] > 0, 1, 0) + np.where(df['MACDH'] < 0, -1, 0)\n",
    "    \n",
    "    # ---------------------------------------------\n",
    "    \n",
    "    # Compute Average Directional Index (ADX)\n",
    "    if stock_low is not None and stock_high is not None:\n",
    "        df['ADX'] = talib.ADX(stock_high, stock_low, stock_close, timeperiod=14)\n",
    "\n",
    "        # ADX > 25: Strong Trend Strength \n",
    "        # ADX < 20: Weak Trend Strength\n",
    "        df['ADX Sig'] = np.where(df['ADX'] > 25, 1, 0) + np.where(df['ADX'] < 20, -1, 0)\n",
    "    \n",
    "    # ---------------------------------------------\n",
    "    \n",
    "    # Compute Relative Strength Index (RSI)\n",
    "    df['RSI'] = talib.RSI(stock_close, timeperiod=14)\n",
    "\n",
    "    # RSI < 30: Over sold -> Buy\n",
    "    # RSI > 70: Over bought -> Sell\n",
    "    df['RSI Sig'] = np.where(df['RSI'] < 30, 1, 0) + np.where(df['RSI'] > 70, -1, 0)\n",
    "    \n",
    "    # ---------------------------------------------\n",
    "    \n",
    "    # Compute Bollinger Bands\n",
    "    df['BB Upper'], df['BB middle'], df['BB Lower'] = talib.BBANDS(stock_close, timeperiod=26)\n",
    "    df['BB Sig'] = np.where(stock_close < df['BB Lower'], 1, 0) + np.where(stock_close > df['BB Upper'], -1, 0)\n",
    "    \n",
    "    # ---------------------------------------------\n",
    "    \n",
    "    # Compute Force Index\n",
    "    if stock_volume is not None:\n",
    "        #df['FI'] = stock_volume * (stock_close - stock_close.shift(1))\n",
    "        df['FI'] = stock_volume * stock_close.diff()\n",
    "        df['EFI'] = talib.EMA(df['FI'], timeperiod=13)\n",
    "\n",
    "        # Remove Scientific Notation from columns FI and EFI\n",
    "        pd.options.display.float_format = '{:.2f}'.format\n",
    "\n",
    "        df['EFI Sig'] = np.where(df['EFI'] > 0, 1, -1)\n",
    "    \n",
    "    # ---------------------------------------------\n",
    "    \n",
    "    # Calculate 5 day simple movering average\n",
    "    df['SMA 5'] = stock_close.transform(lambda x: x.rolling(window = 5).mean())\n",
    "\n",
    "    # Calculate 15 day simple movering average\n",
    "    df['SMA 15'] = stock_close.transform(lambda x: x.rolling(window = 15).mean())\n",
    "\n",
    "    # Calculate simple moving average ratio to capture the relationship between the two moving averages\n",
    "    df['SMA 15/5'] = df['SMA 15'] / df['SMA 5']\n",
    "\n",
    "    # Calculate Signal for SMA 200/50\n",
    "    df['SMA 15/5 Sig'] = np.where(df['SMA 5'] > df['SMA 15'], 1.0, 0.0) + np.where(df['SMA 5'] < df['SMA 15'], -1.0, 0.0)\n",
    "    \n",
    "    # --------------------------------------------\n",
    "    \n",
    "    # Calculate 5 day exp movering average\n",
    "    df['EMA 5'] = talib.EMA(stock_close, timeperiod=5)\n",
    "\n",
    "    # Calculate 10 day exp movering average\n",
    "    df['EMA 15'] = talib.EMA(stock_close, timeperiod=15)\n",
    "\n",
    "    # Calculate exp moving average ratio to capture the relationship between the two moving averages\n",
    "    df['EMA 15/5'] = df['EMA 15'] / df['EMA 5']\n",
    "\n",
    "    # Calculate Signal for SMA 200/50\n",
    "    df['EMA 15/5 Sig'] = np.where(df['EMA 5'] > df['SMA 15'], 1.0, 0.0) + np.where(df['SMA 5'] < df['SMA 15'], -1.0, 0.0)\n",
    "    \n",
    "    ##############################################################\n",
    "    \n",
    "    # Calculate daily return\n",
    "    df['Returns'] = df['Close'].pct_change()\n",
    "    # Create Target column\n",
    "    df['Target'] = np.where(df['Returns'] >= 0, 1.0, -1)\n",
    "    \n",
    "    # Shift Target column by index -1 (compare today's values with tomorrow's trend)\n",
    "    df['Target'] = df['Target'].shift(-1)\n",
    "\n",
    "    # Replacing infinite with nan \n",
    "    df.replace([np.inf, -np.inf], np.nan, inplace=True) \n",
    "\n",
    "    # Dropping all the rows with nan values \n",
    "    df.dropna(inplace=True) \n",
    "    \n",
    "    return df"
   ]
  },
  {
   "cell_type": "code",
   "execution_count": 4,
   "metadata": {},
   "outputs": [],
   "source": [
    "def random_forest_indicators_only(df, ticker):\n",
    "    # Define features set\n",
    "    X = df.copy()\n",
    "    \n",
    "    # Drop useless columns\n",
    "    signal_columns = [col for col in X.columns if col.endswith(' Sig')]\n",
    "    X.drop(signal_columns, axis=1, inplace=True)\n",
    "    X.drop(['Ticker', 'Returns', 'Target'], axis=1, inplace=True)\n",
    "\n",
    "    # Some tickers do not have these indicators\n",
    "    if 'ADX Sig' in X.columns:\n",
    "        X.drop('ADX Sig', axis=1, inplace=True)\n",
    "\n",
    "    if 'EFI Sig' in X.columns:\n",
    "        X.drop('EFI Sig', axis=1, inplace=True)\n",
    "    \n",
    "    # Define target vector\n",
    "    y = df[\"Target\"].ravel()\n",
    "    \n",
    "    # Splitting into Train and Test sets\n",
    "    X_train, X_test, y_train, y_test = train_test_split(X, y, random_state=1, test_size=0.3)\n",
    "    \n",
    "    # Creating StandardScaler instance\n",
    "    scaler = StandardScaler()\n",
    "    \n",
    "    # Fitting Standard Scaller\n",
    "    X_scaler = scaler.fit(X_train)\n",
    "    \n",
    "    # Scaling data\n",
    "    X_train_scaled = X_scaler.transform(X_train)\n",
    "    X_test_scaled = X_scaler.transform(X_test)\n",
    "    \n",
    "    # Create a random forest classifier\n",
    "    rf_model = RandomForestClassifier(n_estimators=500, random_state=1)\n",
    "    \n",
    "    # Fitting the model\n",
    "    rf_model = rf_model.fit(X_train_scaled, y_train)\n",
    "    \n",
    "    # Making predictions using the testing data\n",
    "    predictions = rf_model.predict(X_test_scaled)\n",
    "    \n",
    "    # Calculating the confusion matrix\n",
    "    cm = confusion_matrix(y_test, predictions)\n",
    "    cm_df = pd.DataFrame(\n",
    "        cm, index=[\"Actual 0\", \"Actual 1\"], columns=[\"Predicted 0\", \"Predicted 1\"]\n",
    "    )\n",
    "\n",
    "    # Calculating the accuracy score\n",
    "    acc_score = accuracy_score(y_test, predictions)\n",
    "    \n",
    "    # Displaying results\n",
    "    print(f'\\n{ticker}: Confusion Matrix (Indicators Only, No Signals)')\n",
    "    display(cm_df)\n",
    "    print(f\"Accuracy Score : {acc_score}\")\n",
    "    print(\"Classification Report\")\n",
    "    print(classification_report(y_test, predictions))\n",
    "    \n",
    "    return rf_model, X.columns, acc_score"
   ]
  },
  {
   "cell_type": "code",
   "execution_count": 5,
   "metadata": {},
   "outputs": [],
   "source": [
    "def random_forest_signals_only(df, ticker):\n",
    "    # Define features set\n",
    "    X = df.copy()\n",
    "    \n",
    "    # Only keep signal columns\n",
    "    column_to_keep = [col for col in X.columns if col.endswith(' Sig')]\n",
    "    X = X[column_to_keep]\n",
    "    \n",
    "    # Define target vector\n",
    "    y = df[\"Target\"].ravel()\n",
    "    \n",
    "    # Splitting into Train and Test sets\n",
    "    X_train, X_test, y_train, y_test = train_test_split(X, y, random_state=1, test_size=0.3)\n",
    "    \n",
    "    # Creating StandardScaler instance\n",
    "    scaler = StandardScaler()\n",
    "    \n",
    "    # Fitting Standard Scaller\n",
    "    X_scaler = scaler.fit(X_train)\n",
    "    \n",
    "    # Scaling data\n",
    "    X_train_scaled = X_scaler.transform(X_train)\n",
    "    X_test_scaled = X_scaler.transform(X_test)\n",
    "    \n",
    "    # Create a random forest classifier\n",
    "    rf_model = RandomForestClassifier(n_estimators=500, random_state=1)\n",
    "    \n",
    "    # Fitting the model\n",
    "    rf_model = rf_model.fit(X_train_scaled, y_train)\n",
    "    \n",
    "    # Making predictions using the testing data\n",
    "    predictions = rf_model.predict(X_test_scaled)\n",
    "    \n",
    "    # Calculating the confusion matrix\n",
    "    cm = confusion_matrix(y_test, predictions)\n",
    "    cm_df = pd.DataFrame(\n",
    "        cm, index=[\"Actual 0\", \"Actual 1\"], columns=[\"Predicted 0\", \"Predicted 1\"]\n",
    "    )\n",
    "\n",
    "    # Calculating the accuracy score\n",
    "    acc_score = accuracy_score(y_test, predictions)\n",
    "    \n",
    "    # Displaying results\n",
    "    print(f'\\n{ticker}: Confusion Matrix (Signals Only, No Indicators)')\n",
    "    display(cm_df)\n",
    "    print(f\"Accuracy Score : {acc_score}\")\n",
    "    print(\"Classification Report\")\n",
    "    print(classification_report(y_test, predictions))\n",
    "    \n",
    "    return rf_model, X.columns, acc_score"
   ]
  },
  {
   "cell_type": "code",
   "execution_count": 6,
   "metadata": {},
   "outputs": [],
   "source": [
    "def features_importances(ticker, rf_model, X_columns):\n",
    "    # Random Forests in sklearn will automatically calculate feature importance\n",
    "    importances = rf_model.feature_importances_\n",
    "    \n",
    "    # We can sort the features by their importance\n",
    "    sorted(zip(rf_model.feature_importances_, X_columns), reverse=True)\n",
    "    \n",
    "    # Visualize the features by importance\n",
    "    importances_df = pd.DataFrame(sorted(zip(rf_model.feature_importances_, X_columns), reverse=True))\n",
    "    importances_df.set_index(importances_df[1], inplace=True)\n",
    "    importances_df.drop(columns=1, inplace=True)\n",
    "    importances_df.rename(columns={0: 'Feature Importances'}, inplace=True)\n",
    "    importances_sorted = importances_df.sort_values(by='Feature Importances')\n",
    "    \n",
    "    chart = importances_sorted.plot(kind='barh', color='lightgreen', title= f'{ticker} Features Importances', legend=False) \n",
    "    plt.show()\n",
    "    plt.close()\n",
    "    return chart\n"
   ]
  },
  {
   "cell_type": "markdown",
   "metadata": {},
   "source": [
    "### Run the Random Forest Model for only 1 ticker"
   ]
  },
  {
   "cell_type": "code",
   "execution_count": 7,
   "metadata": {},
   "outputs": [
    {
     "name": "stdout",
     "output_type": "stream",
     "text": [
      "\n",
      "AAPL: Confusion Matrix (Indicators Only, No Signals)\n"
     ]
    },
    {
     "data": {
      "text/html": [
       "<div>\n",
       "<style scoped>\n",
       "    .dataframe tbody tr th:only-of-type {\n",
       "        vertical-align: middle;\n",
       "    }\n",
       "\n",
       "    .dataframe tbody tr th {\n",
       "        vertical-align: top;\n",
       "    }\n",
       "\n",
       "    .dataframe thead th {\n",
       "        text-align: right;\n",
       "    }\n",
       "</style>\n",
       "<table border=\"1\" class=\"dataframe\">\n",
       "  <thead>\n",
       "    <tr style=\"text-align: right;\">\n",
       "      <th></th>\n",
       "      <th>Predicted 0</th>\n",
       "      <th>Predicted 1</th>\n",
       "    </tr>\n",
       "  </thead>\n",
       "  <tbody>\n",
       "    <tr>\n",
       "      <th>Actual 0</th>\n",
       "      <td>165</td>\n",
       "      <td>178</td>\n",
       "    </tr>\n",
       "    <tr>\n",
       "      <th>Actual 1</th>\n",
       "      <td>179</td>\n",
       "      <td>223</td>\n",
       "    </tr>\n",
       "  </tbody>\n",
       "</table>\n",
       "</div>"
      ],
      "text/plain": [
       "          Predicted 0  Predicted 1\n",
       "Actual 0          165          178\n",
       "Actual 1          179          223"
      ]
     },
     "metadata": {},
     "output_type": "display_data"
    },
    {
     "name": "stdout",
     "output_type": "stream",
     "text": [
      "Accuracy Score : 0.5208053691275167\n",
      "Classification Report\n",
      "              precision    recall  f1-score   support\n",
      "\n",
      "        -1.0       0.48      0.48      0.48       343\n",
      "         1.0       0.56      0.55      0.56       402\n",
      "\n",
      "    accuracy                           0.52       745\n",
      "   macro avg       0.52      0.52      0.52       745\n",
      "weighted avg       0.52      0.52      0.52       745\n",
      "\n"
     ]
    },
    {
     "data": {
      "image/png": "[encoded data removed]",
      "text/plain": [
       "<Figure size 432x288 with 1 Axes>"
      ]
     },
     "metadata": {
      "needs_background": "light"
     },
     "output_type": "display_data"
    },
    {
     "name": "stdout",
     "output_type": "stream",
     "text": [
      "\n",
      "AAPL: Confusion Matrix (Signals Only, No Indicators)\n"
     ]
    },
    {
     "data": {
      "text/html": [
       "<div>\n",
       "<style scoped>\n",
       "    .dataframe tbody tr th:only-of-type {\n",
       "        vertical-align: middle;\n",
       "    }\n",
       "\n",
       "    .dataframe tbody tr th {\n",
       "        vertical-align: top;\n",
       "    }\n",
       "\n",
       "    .dataframe thead th {\n",
       "        text-align: right;\n",
       "    }\n",
       "</style>\n",
       "<table border=\"1\" class=\"dataframe\">\n",
       "  <thead>\n",
       "    <tr style=\"text-align: right;\">\n",
       "      <th></th>\n",
       "      <th>Predicted 0</th>\n",
       "      <th>Predicted 1</th>\n",
       "    </tr>\n",
       "  </thead>\n",
       "  <tbody>\n",
       "    <tr>\n",
       "      <th>Actual 0</th>\n",
       "      <td>149</td>\n",
       "      <td>194</td>\n",
       "    </tr>\n",
       "    <tr>\n",
       "      <th>Actual 1</th>\n",
       "      <td>170</td>\n",
       "      <td>232</td>\n",
       "    </tr>\n",
       "  </tbody>\n",
       "</table>\n",
       "</div>"
      ],
      "text/plain": [
       "          Predicted 0  Predicted 1\n",
       "Actual 0          149          194\n",
       "Actual 1          170          232"
      ]
     },
     "metadata": {},
     "output_type": "display_data"
    },
    {
     "name": "stdout",
     "output_type": "stream",
     "text": [
      "Accuracy Score : 0.5114093959731544\n",
      "Classification Report\n",
      "              precision    recall  f1-score   support\n",
      "\n",
      "        -1.0       0.47      0.43      0.45       343\n",
      "         1.0       0.54      0.58      0.56       402\n",
      "\n",
      "    accuracy                           0.51       745\n",
      "   macro avg       0.51      0.51      0.51       745\n",
      "weighted avg       0.51      0.51      0.51       745\n",
      "\n"
     ]
    },
    {
     "data": {
      "image/png": "[encoded data removed]",
      "text/plain": [
       "<Figure size 432x288 with 1 Axes>"
      ]
     },
     "metadata": {
      "needs_background": "light"
     },
     "output_type": "display_data"
    },
    {
     "data": {
      "text/plain": [
       "<matplotlib.axes._subplots.AxesSubplot at 0x17a7f5b82b0>"
      ]
     },
     "execution_count": 7,
     "metadata": {},
     "output_type": "execute_result"
    }
   ],
   "source": [
    "file_path = Path(\"Resources/Data/AAPL.csv\")\n",
    "df = pd.read_csv(file_path, index_col=\"Date\")\n",
    "ticker = df.Ticker.unique().tolist()[0]\n",
    "\n",
    "# Calculate indicators and prepare data\n",
    "df = add_indicators_and_signals(df)\n",
    "\n",
    "# Make predictions using indicator values only and display confusion matrix\n",
    "rf_model, X_columns, tmp_acc = random_forest_indicators_only(df, ticker)\n",
    "\n",
    "# Display importance features graph\n",
    "features_importances(ticker, rf_model, X_columns)\n",
    "\n",
    "# Make predictions using signals only and display confusion matrix\n",
    "rf_model, X_columns, tmp_acc = random_forest_signals_only(df, ticker)\n",
    "\n",
    "# Display importance features graph\n",
    "features_importances(ticker, rf_model, X_columns)"
   ]
  },
  {
   "cell_type": "markdown",
   "metadata": {},
   "source": [
    "### Run the Random Forest Model for All the Data Files in the 'Resources/Data Folder'"
   ]
  },
  {
   "cell_type": "code",
   "execution_count": null,
   "metadata": {},
   "outputs": [
    {
     "name": "stdout",
     "output_type": "stream",
     "text": [
      "\n",
      "----------------------- AAPL -----------------------\n",
      "\n",
      "\n",
      "AAPL: Confusion Matrix (Indicators Only, No Signals)\n"
     ]
    },
    {
     "data": {
      "text/html": [
       "<div>\n",
       "<style scoped>\n",
       "    .dataframe tbody tr th:only-of-type {\n",
       "        vertical-align: middle;\n",
       "    }\n",
       "\n",
       "    .dataframe tbody tr th {\n",
       "        vertical-align: top;\n",
       "    }\n",
       "\n",
       "    .dataframe thead th {\n",
       "        text-align: right;\n",
       "    }\n",
       "</style>\n",
       "<table border=\"1\" class=\"dataframe\">\n",
       "  <thead>\n",
       "    <tr style=\"text-align: right;\">\n",
       "      <th></th>\n",
       "      <th>Predicted 0</th>\n",
       "      <th>Predicted 1</th>\n",
       "    </tr>\n",
       "  </thead>\n",
       "  <tbody>\n",
       "    <tr>\n",
       "      <th>Actual 0</th>\n",
       "      <td>165</td>\n",
       "      <td>178</td>\n",
       "    </tr>\n",
       "    <tr>\n",
       "      <th>Actual 1</th>\n",
       "      <td>179</td>\n",
       "      <td>223</td>\n",
       "    </tr>\n",
       "  </tbody>\n",
       "</table>\n",
       "</div>"
      ],
      "text/plain": [
       "          Predicted 0  Predicted 1\n",
       "Actual 0          165          178\n",
       "Actual 1          179          223"
      ]
     },
     "metadata": {},
     "output_type": "display_data"
    },
    {
     "name": "stdout",
     "output_type": "stream",
     "text": [
      "Accuracy Score : 0.5208053691275167\n",
      "Classification Report\n",
      "              precision    recall  f1-score   support\n",
      "\n",
      "        -1.0       0.48      0.48      0.48       343\n",
      "         1.0       0.56      0.55      0.56       402\n",
      "\n",
      "    accuracy                           0.52       745\n",
      "   macro avg       0.52      0.52      0.52       745\n",
      "weighted avg       0.52      0.52      0.52       745\n",
      "\n"
     ]
    },
    {
     "data": {
      "image/png": "[encoded data removed]",
      "text/plain": [
       "<Figure size 432x288 with 1 Axes>"
      ]
     },
     "metadata": {
      "needs_background": "light"
     },
     "output_type": "display_data"
    },
    {
     "name": "stdout",
     "output_type": "stream",
     "text": [
      "-----\n",
      "\n",
      "\n",
      "AAPL: Confusion Matrix (Signals Only, No Indicators)\n"
     ]
    },
    {
     "data": {
      "text/html": [
       "<div>\n",
       "<style scoped>\n",
       "    .dataframe tbody tr th:only-of-type {\n",
       "        vertical-align: middle;\n",
       "    }\n",
       "\n",
       "    .dataframe tbody tr th {\n",
       "        vertical-align: top;\n",
       "    }\n",
       "\n",
       "    .dataframe thead th {\n",
       "        text-align: right;\n",
       "    }\n",
       "</style>\n",
       "<table border=\"1\" class=\"dataframe\">\n",
       "  <thead>\n",
       "    <tr style=\"text-align: right;\">\n",
       "      <th></th>\n",
       "      <th>Predicted 0</th>\n",
       "      <th>Predicted 1</th>\n",
       "    </tr>\n",
       "  </thead>\n",
       "  <tbody>\n",
       "    <tr>\n",
       "      <th>Actual 0</th>\n",
       "      <td>149</td>\n",
       "      <td>194</td>\n",
       "    </tr>\n",
       "    <tr>\n",
       "      <th>Actual 1</th>\n",
       "      <td>170</td>\n",
       "      <td>232</td>\n",
       "    </tr>\n",
       "  </tbody>\n",
       "</table>\n",
       "</div>"
      ],
      "text/plain": [
       "          Predicted 0  Predicted 1\n",
       "Actual 0          149          194\n",
       "Actual 1          170          232"
      ]
     },
     "metadata": {},
     "output_type": "display_data"
    },
    {
     "name": "stdout",
     "output_type": "stream",
     "text": [
      "Accuracy Score : 0.5114093959731544\n",
      "Classification Report\n",
      "              precision    recall  f1-score   support\n",
      "\n",
      "        -1.0       0.47      0.43      0.45       343\n",
      "         1.0       0.54      0.58      0.56       402\n",
      "\n",
      "    accuracy                           0.51       745\n",
      "   macro avg       0.51      0.51      0.51       745\n",
      "weighted avg       0.51      0.51      0.51       745\n",
      "\n"
     ]
    },
    {
     "data": {
      "image/png": "[encoded data removed]",
      "text/plain": [
       "<Figure size 432x288 with 1 Axes>"
      ]
     },
     "metadata": {
      "needs_background": "light"
     },
     "output_type": "display_data"
    },
    {
     "name": "stdout",
     "output_type": "stream",
     "text": [
      "\n",
      "----------------------- AMZN -----------------------\n",
      "\n",
      "\n",
      "AMZN: Confusion Matrix (Indicators Only, No Signals)\n"
     ]
    },
    {
     "data": {
      "text/html": [
       "<div>\n",
       "<style scoped>\n",
       "    .dataframe tbody tr th:only-of-type {\n",
       "        vertical-align: middle;\n",
       "    }\n",
       "\n",
       "    .dataframe tbody tr th {\n",
       "        vertical-align: top;\n",
       "    }\n",
       "\n",
       "    .dataframe thead th {\n",
       "        text-align: right;\n",
       "    }\n",
       "</style>\n",
       "<table border=\"1\" class=\"dataframe\">\n",
       "  <thead>\n",
       "    <tr style=\"text-align: right;\">\n",
       "      <th></th>\n",
       "      <th>Predicted 0</th>\n",
       "      <th>Predicted 1</th>\n",
       "    </tr>\n",
       "  </thead>\n",
       "  <tbody>\n",
       "    <tr>\n",
       "      <th>Actual 0</th>\n",
       "      <td>161</td>\n",
       "      <td>180</td>\n",
       "    </tr>\n",
       "    <tr>\n",
       "      <th>Actual 1</th>\n",
       "      <td>166</td>\n",
       "      <td>238</td>\n",
       "    </tr>\n",
       "  </tbody>\n",
       "</table>\n",
       "</div>"
      ],
      "text/plain": [
       "          Predicted 0  Predicted 1\n",
       "Actual 0          161          180\n",
       "Actual 1          166          238"
      ]
     },
     "metadata": {},
     "output_type": "display_data"
    },
    {
     "name": "stdout",
     "output_type": "stream",
     "text": [
      "Accuracy Score : 0.5355704697986577\n",
      "Classification Report\n",
      "              precision    recall  f1-score   support\n",
      "\n",
      "        -1.0       0.49      0.47      0.48       341\n",
      "         1.0       0.57      0.59      0.58       404\n",
      "\n",
      "    accuracy                           0.54       745\n",
      "   macro avg       0.53      0.53      0.53       745\n",
      "weighted avg       0.53      0.54      0.53       745\n",
      "\n"
     ]
    },
    {
     "data": {
      "image/png": "[encoded data removed]",
      "text/plain": [
       "<Figure size 432x288 with 1 Axes>"
      ]
     },
     "metadata": {
      "needs_background": "light"
     },
     "output_type": "display_data"
    },
    {
     "name": "stdout",
     "output_type": "stream",
     "text": [
      "-----\n",
      "\n",
      "\n",
      "AMZN: Confusion Matrix (Signals Only, No Indicators)\n"
     ]
    },
    {
     "data": {
      "text/html": [
       "<div>\n",
       "<style scoped>\n",
       "    .dataframe tbody tr th:only-of-type {\n",
       "        vertical-align: middle;\n",
       "    }\n",
       "\n",
       "    .dataframe tbody tr th {\n",
       "        vertical-align: top;\n",
       "    }\n",
       "\n",
       "    .dataframe thead th {\n",
       "        text-align: right;\n",
       "    }\n",
       "</style>\n",
       "<table border=\"1\" class=\"dataframe\">\n",
       "  <thead>\n",
       "    <tr style=\"text-align: right;\">\n",
       "      <th></th>\n",
       "      <th>Predicted 0</th>\n",
       "      <th>Predicted 1</th>\n",
       "    </tr>\n",
       "  </thead>\n",
       "  <tbody>\n",
       "    <tr>\n",
       "      <th>Actual 0</th>\n",
       "      <td>126</td>\n",
       "      <td>215</td>\n",
       "    </tr>\n",
       "    <tr>\n",
       "      <th>Actual 1</th>\n",
       "      <td>139</td>\n",
       "      <td>265</td>\n",
       "    </tr>\n",
       "  </tbody>\n",
       "</table>\n",
       "</div>"
      ],
      "text/plain": [
       "          Predicted 0  Predicted 1\n",
       "Actual 0          126          215\n",
       "Actual 1          139          265"
      ]
     },
     "metadata": {},
     "output_type": "display_data"
    },
    {
     "name": "stdout",
     "output_type": "stream",
     "text": [
      "Accuracy Score : 0.5248322147651007\n",
      "Classification Report\n",
      "              precision    recall  f1-score   support\n",
      "\n",
      "        -1.0       0.48      0.37      0.42       341\n",
      "         1.0       0.55      0.66      0.60       404\n",
      "\n",
      "    accuracy                           0.52       745\n",
      "   macro avg       0.51      0.51      0.51       745\n",
      "weighted avg       0.52      0.52      0.52       745\n",
      "\n"
     ]
    },
    {
     "data": {
      "image/png": "[encoded data removed]",
      "text/plain": [
       "<Figure size 432x288 with 1 Axes>"
      ]
     },
     "metadata": {
      "needs_background": "light"
     },
     "output_type": "display_data"
    },
    {
     "name": "stdout",
     "output_type": "stream",
     "text": [
      "\n",
      "----------------------- BABA -----------------------\n",
      "\n",
      "\n",
      "BABA: Confusion Matrix (Indicators Only, No Signals)\n"
     ]
    },
    {
     "data": {
      "text/html": [
       "<div>\n",
       "<style scoped>\n",
       "    .dataframe tbody tr th:only-of-type {\n",
       "        vertical-align: middle;\n",
       "    }\n",
       "\n",
       "    .dataframe tbody tr th {\n",
       "        vertical-align: top;\n",
       "    }\n",
       "\n",
       "    .dataframe thead th {\n",
       "        text-align: right;\n",
       "    }\n",
       "</style>\n",
       "<table border=\"1\" class=\"dataframe\">\n",
       "  <thead>\n",
       "    <tr style=\"text-align: right;\">\n",
       "      <th></th>\n",
       "      <th>Predicted 0</th>\n",
       "      <th>Predicted 1</th>\n",
       "    </tr>\n",
       "  </thead>\n",
       "  <tbody>\n",
       "    <tr>\n",
       "      <th>Actual 0</th>\n",
       "      <td>89</td>\n",
       "      <td>97</td>\n",
       "    </tr>\n",
       "    <tr>\n",
       "      <th>Actual 1</th>\n",
       "      <td>76</td>\n",
       "      <td>127</td>\n",
       "    </tr>\n",
       "  </tbody>\n",
       "</table>\n",
       "</div>"
      ],
      "text/plain": [
       "          Predicted 0  Predicted 1\n",
       "Actual 0           89           97\n",
       "Actual 1           76          127"
      ]
     },
     "metadata": {},
     "output_type": "display_data"
    },
    {
     "name": "stdout",
     "output_type": "stream",
     "text": [
      "Accuracy Score : 0.5552699228791774\n",
      "Classification Report\n",
      "              precision    recall  f1-score   support\n",
      "\n",
      "        -1.0       0.54      0.48      0.51       186\n",
      "         1.0       0.57      0.63      0.59       203\n",
      "\n",
      "    accuracy                           0.56       389\n",
      "   macro avg       0.55      0.55      0.55       389\n",
      "weighted avg       0.55      0.56      0.55       389\n",
      "\n"
     ]
    },
    {
     "data": {
      "image/png": "[encoded data removed]",
      "text/plain": [
       "<Figure size 432x288 with 1 Axes>"
      ]
     },
     "metadata": {
      "needs_background": "light"
     },
     "output_type": "display_data"
    },
    {
     "name": "stdout",
     "output_type": "stream",
     "text": [
      "-----\n",
      "\n",
      "\n",
      "BABA: Confusion Matrix (Signals Only, No Indicators)\n"
     ]
    },
    {
     "data": {
      "text/html": [
       "<div>\n",
       "<style scoped>\n",
       "    .dataframe tbody tr th:only-of-type {\n",
       "        vertical-align: middle;\n",
       "    }\n",
       "\n",
       "    .dataframe tbody tr th {\n",
       "        vertical-align: top;\n",
       "    }\n",
       "\n",
       "    .dataframe thead th {\n",
       "        text-align: right;\n",
       "    }\n",
       "</style>\n",
       "<table border=\"1\" class=\"dataframe\">\n",
       "  <thead>\n",
       "    <tr style=\"text-align: right;\">\n",
       "      <th></th>\n",
       "      <th>Predicted 0</th>\n",
       "      <th>Predicted 1</th>\n",
       "    </tr>\n",
       "  </thead>\n",
       "  <tbody>\n",
       "    <tr>\n",
       "      <th>Actual 0</th>\n",
       "      <td>83</td>\n",
       "      <td>103</td>\n",
       "    </tr>\n",
       "    <tr>\n",
       "      <th>Actual 1</th>\n",
       "      <td>98</td>\n",
       "      <td>105</td>\n",
       "    </tr>\n",
       "  </tbody>\n",
       "</table>\n",
       "</div>"
      ],
      "text/plain": [
       "          Predicted 0  Predicted 1\n",
       "Actual 0           83          103\n",
       "Actual 1           98          105"
      ]
     },
     "metadata": {},
     "output_type": "display_data"
    },
    {
     "name": "stdout",
     "output_type": "stream",
     "text": [
      "Accuracy Score : 0.4832904884318766\n",
      "Classification Report\n",
      "              precision    recall  f1-score   support\n",
      "\n",
      "        -1.0       0.46      0.45      0.45       186\n",
      "         1.0       0.50      0.52      0.51       203\n",
      "\n",
      "    accuracy                           0.48       389\n",
      "   macro avg       0.48      0.48      0.48       389\n",
      "weighted avg       0.48      0.48      0.48       389\n",
      "\n"
     ]
    },
    {
     "data": {
      "image/png": "[encoded data removed]",
      "text/plain": [
       "<Figure size 432x288 with 1 Axes>"
      ]
     },
     "metadata": {
      "needs_background": "light"
     },
     "output_type": "display_data"
    },
    {
     "name": "stdout",
     "output_type": "stream",
     "text": [
      "\n",
      "----------------------- BTCUSD=X -----------------------\n",
      "\n",
      "\n",
      "BTCUSD=X: Confusion Matrix (Indicators Only, No Signals)\n"
     ]
    },
    {
     "data": {
      "text/html": [
       "<div>\n",
       "<style scoped>\n",
       "    .dataframe tbody tr th:only-of-type {\n",
       "        vertical-align: middle;\n",
       "    }\n",
       "\n",
       "    .dataframe tbody tr th {\n",
       "        vertical-align: top;\n",
       "    }\n",
       "\n",
       "    .dataframe thead th {\n",
       "        text-align: right;\n",
       "    }\n",
       "</style>\n",
       "<table border=\"1\" class=\"dataframe\">\n",
       "  <thead>\n",
       "    <tr style=\"text-align: right;\">\n",
       "      <th></th>\n",
       "      <th>Predicted 0</th>\n",
       "      <th>Predicted 1</th>\n",
       "    </tr>\n",
       "  </thead>\n",
       "  <tbody>\n",
       "    <tr>\n",
       "      <th>Actual 0</th>\n",
       "      <td>151</td>\n",
       "      <td>178</td>\n",
       "    </tr>\n",
       "    <tr>\n",
       "      <th>Actual 1</th>\n",
       "      <td>158</td>\n",
       "      <td>243</td>\n",
       "    </tr>\n",
       "  </tbody>\n",
       "</table>\n",
       "</div>"
      ],
      "text/plain": [
       "          Predicted 0  Predicted 1\n",
       "Actual 0          151          178\n",
       "Actual 1          158          243"
      ]
     },
     "metadata": {},
     "output_type": "display_data"
    },
    {
     "name": "stdout",
     "output_type": "stream",
     "text": [
      "Accuracy Score : 0.5397260273972603\n",
      "Classification Report\n",
      "              precision    recall  f1-score   support\n",
      "\n",
      "        -1.0       0.49      0.46      0.47       329\n",
      "         1.0       0.58      0.61      0.59       401\n",
      "\n",
      "    accuracy                           0.54       730\n",
      "   macro avg       0.53      0.53      0.53       730\n",
      "weighted avg       0.54      0.54      0.54       730\n",
      "\n"
     ]
    },
    {
     "data": {
      "image/png": "[encoded data removed]",
      "text/plain": [
       "<Figure size 432x288 with 1 Axes>"
      ]
     },
     "metadata": {
      "needs_background": "light"
     },
     "output_type": "display_data"
    },
    {
     "name": "stdout",
     "output_type": "stream",
     "text": [
      "-----\n",
      "\n",
      "\n",
      "BTCUSD=X: Confusion Matrix (Signals Only, No Indicators)\n"
     ]
    },
    {
     "data": {
      "text/html": [
       "<div>\n",
       "<style scoped>\n",
       "    .dataframe tbody tr th:only-of-type {\n",
       "        vertical-align: middle;\n",
       "    }\n",
       "\n",
       "    .dataframe tbody tr th {\n",
       "        vertical-align: top;\n",
       "    }\n",
       "\n",
       "    .dataframe thead th {\n",
       "        text-align: right;\n",
       "    }\n",
       "</style>\n",
       "<table border=\"1\" class=\"dataframe\">\n",
       "  <thead>\n",
       "    <tr style=\"text-align: right;\">\n",
       "      <th></th>\n",
       "      <th>Predicted 0</th>\n",
       "      <th>Predicted 1</th>\n",
       "    </tr>\n",
       "  </thead>\n",
       "  <tbody>\n",
       "    <tr>\n",
       "      <th>Actual 0</th>\n",
       "      <td>98</td>\n",
       "      <td>231</td>\n",
       "    </tr>\n",
       "    <tr>\n",
       "      <th>Actual 1</th>\n",
       "      <td>113</td>\n",
       "      <td>288</td>\n",
       "    </tr>\n",
       "  </tbody>\n",
       "</table>\n",
       "</div>"
      ],
      "text/plain": [
       "          Predicted 0  Predicted 1\n",
       "Actual 0           98          231\n",
       "Actual 1          113          288"
      ]
     },
     "metadata": {},
     "output_type": "display_data"
    },
    {
     "name": "stdout",
     "output_type": "stream",
     "text": [
      "Accuracy Score : 0.5287671232876713\n",
      "Classification Report\n",
      "              precision    recall  f1-score   support\n",
      "\n",
      "        -1.0       0.46      0.30      0.36       329\n",
      "         1.0       0.55      0.72      0.63       401\n",
      "\n",
      "    accuracy                           0.53       730\n",
      "   macro avg       0.51      0.51      0.49       730\n",
      "weighted avg       0.51      0.53      0.51       730\n",
      "\n"
     ]
    },
    {
     "data": {
      "image/png": "[encoded data removed]",
      "text/plain": [
       "<Figure size 432x288 with 1 Axes>"
      ]
     },
     "metadata": {
      "needs_background": "light"
     },
     "output_type": "display_data"
    },
    {
     "name": "stdout",
     "output_type": "stream",
     "text": [
      "\n",
      "----------------------- EMR -----------------------\n",
      "\n",
      "\n",
      "EMR: Confusion Matrix (Indicators Only, No Signals)\n"
     ]
    },
    {
     "data": {
      "text/html": [
       "<div>\n",
       "<style scoped>\n",
       "    .dataframe tbody tr th:only-of-type {\n",
       "        vertical-align: middle;\n",
       "    }\n",
       "\n",
       "    .dataframe tbody tr th {\n",
       "        vertical-align: top;\n",
       "    }\n",
       "\n",
       "    .dataframe thead th {\n",
       "        text-align: right;\n",
       "    }\n",
       "</style>\n",
       "<table border=\"1\" class=\"dataframe\">\n",
       "  <thead>\n",
       "    <tr style=\"text-align: right;\">\n",
       "      <th></th>\n",
       "      <th>Predicted 0</th>\n",
       "      <th>Predicted 1</th>\n",
       "    </tr>\n",
       "  </thead>\n",
       "  <tbody>\n",
       "    <tr>\n",
       "      <th>Actual 0</th>\n",
       "      <td>155</td>\n",
       "      <td>198</td>\n",
       "    </tr>\n",
       "    <tr>\n",
       "      <th>Actual 1</th>\n",
       "      <td>157</td>\n",
       "      <td>235</td>\n",
       "    </tr>\n",
       "  </tbody>\n",
       "</table>\n",
       "</div>"
      ],
      "text/plain": [
       "          Predicted 0  Predicted 1\n",
       "Actual 0          155          198\n",
       "Actual 1          157          235"
      ]
     },
     "metadata": {},
     "output_type": "display_data"
    },
    {
     "name": "stdout",
     "output_type": "stream",
     "text": [
      "Accuracy Score : 0.5234899328859061\n",
      "Classification Report\n",
      "              precision    recall  f1-score   support\n",
      "\n",
      "        -1.0       0.50      0.44      0.47       353\n",
      "         1.0       0.54      0.60      0.57       392\n",
      "\n",
      "    accuracy                           0.52       745\n",
      "   macro avg       0.52      0.52      0.52       745\n",
      "weighted avg       0.52      0.52      0.52       745\n",
      "\n"
     ]
    },
    {
     "data": {
      "image/png": "[encoded data removed]",
      "text/plain": [
       "<Figure size 432x288 with 1 Axes>"
      ]
     },
     "metadata": {
      "needs_background": "light"
     },
     "output_type": "display_data"
    },
    {
     "name": "stdout",
     "output_type": "stream",
     "text": [
      "-----\n",
      "\n",
      "\n",
      "EMR: Confusion Matrix (Signals Only, No Indicators)\n"
     ]
    },
    {
     "data": {
      "text/html": [
       "<div>\n",
       "<style scoped>\n",
       "    .dataframe tbody tr th:only-of-type {\n",
       "        vertical-align: middle;\n",
       "    }\n",
       "\n",
       "    .dataframe tbody tr th {\n",
       "        vertical-align: top;\n",
       "    }\n",
       "\n",
       "    .dataframe thead th {\n",
       "        text-align: right;\n",
       "    }\n",
       "</style>\n",
       "<table border=\"1\" class=\"dataframe\">\n",
       "  <thead>\n",
       "    <tr style=\"text-align: right;\">\n",
       "      <th></th>\n",
       "      <th>Predicted 0</th>\n",
       "      <th>Predicted 1</th>\n",
       "    </tr>\n",
       "  </thead>\n",
       "  <tbody>\n",
       "    <tr>\n",
       "      <th>Actual 0</th>\n",
       "      <td>61</td>\n",
       "      <td>292</td>\n",
       "    </tr>\n",
       "    <tr>\n",
       "      <th>Actual 1</th>\n",
       "      <td>67</td>\n",
       "      <td>325</td>\n",
       "    </tr>\n",
       "  </tbody>\n",
       "</table>\n",
       "</div>"
      ],
      "text/plain": [
       "          Predicted 0  Predicted 1\n",
       "Actual 0           61          292\n",
       "Actual 1           67          325"
      ]
     },
     "metadata": {},
     "output_type": "display_data"
    },
    {
     "name": "stdout",
     "output_type": "stream",
     "text": [
      "Accuracy Score : 0.5181208053691275\n",
      "Classification Report\n",
      "              precision    recall  f1-score   support\n",
      "\n",
      "        -1.0       0.48      0.17      0.25       353\n",
      "         1.0       0.53      0.83      0.64       392\n",
      "\n",
      "    accuracy                           0.52       745\n",
      "   macro avg       0.50      0.50      0.45       745\n",
      "weighted avg       0.50      0.52      0.46       745\n",
      "\n"
     ]
    },
    {
     "data": {
      "image/png": "[encoded data removed]",
      "text/plain": [
       "<Figure size 432x288 with 1 Axes>"
      ]
     },
     "metadata": {
      "needs_background": "light"
     },
     "output_type": "display_data"
    },
    {
     "name": "stdout",
     "output_type": "stream",
     "text": [
      "\n",
      "----------------------- EURUSD=X -----------------------\n",
      "\n",
      "\n",
      "EURUSD=X: Confusion Matrix (Indicators Only, No Signals)\n"
     ]
    },
    {
     "data": {
      "text/html": [
       "<div>\n",
       "<style scoped>\n",
       "    .dataframe tbody tr th:only-of-type {\n",
       "        vertical-align: middle;\n",
       "    }\n",
       "\n",
       "    .dataframe tbody tr th {\n",
       "        vertical-align: top;\n",
       "    }\n",
       "\n",
       "    .dataframe thead th {\n",
       "        text-align: right;\n",
       "    }\n",
       "</style>\n",
       "<table border=\"1\" class=\"dataframe\">\n",
       "  <thead>\n",
       "    <tr style=\"text-align: right;\">\n",
       "      <th></th>\n",
       "      <th>Predicted 0</th>\n",
       "      <th>Predicted 1</th>\n",
       "    </tr>\n",
       "  </thead>\n",
       "  <tbody>\n",
       "    <tr>\n",
       "      <th>Actual 0</th>\n",
       "      <td>220</td>\n",
       "      <td>169</td>\n",
       "    </tr>\n",
       "    <tr>\n",
       "      <th>Actual 1</th>\n",
       "      <td>168</td>\n",
       "      <td>208</td>\n",
       "    </tr>\n",
       "  </tbody>\n",
       "</table>\n",
       "</div>"
      ],
      "text/plain": [
       "          Predicted 0  Predicted 1\n",
       "Actual 0          220          169\n",
       "Actual 1          168          208"
      ]
     },
     "metadata": {},
     "output_type": "display_data"
    },
    {
     "name": "stdout",
     "output_type": "stream",
     "text": [
      "Accuracy Score : 0.5594771241830065\n",
      "Classification Report\n",
      "              precision    recall  f1-score   support\n",
      "\n",
      "        -1.0       0.57      0.57      0.57       389\n",
      "         1.0       0.55      0.55      0.55       376\n",
      "\n",
      "    accuracy                           0.56       765\n",
      "   macro avg       0.56      0.56      0.56       765\n",
      "weighted avg       0.56      0.56      0.56       765\n",
      "\n"
     ]
    },
    {
     "data": {
      "image/png": "[encoded data removed]",
      "text/plain": [
       "<Figure size 432x288 with 1 Axes>"
      ]
     },
     "metadata": {
      "needs_background": "light"
     },
     "output_type": "display_data"
    },
    {
     "name": "stdout",
     "output_type": "stream",
     "text": [
      "-----\n",
      "\n",
      "\n",
      "EURUSD=X: Confusion Matrix (Signals Only, No Indicators)\n"
     ]
    },
    {
     "data": {
      "text/html": [
       "<div>\n",
       "<style scoped>\n",
       "    .dataframe tbody tr th:only-of-type {\n",
       "        vertical-align: middle;\n",
       "    }\n",
       "\n",
       "    .dataframe tbody tr th {\n",
       "        vertical-align: top;\n",
       "    }\n",
       "\n",
       "    .dataframe thead th {\n",
       "        text-align: right;\n",
       "    }\n",
       "</style>\n",
       "<table border=\"1\" class=\"dataframe\">\n",
       "  <thead>\n",
       "    <tr style=\"text-align: right;\">\n",
       "      <th></th>\n",
       "      <th>Predicted 0</th>\n",
       "      <th>Predicted 1</th>\n",
       "    </tr>\n",
       "  </thead>\n",
       "  <tbody>\n",
       "    <tr>\n",
       "      <th>Actual 0</th>\n",
       "      <td>150</td>\n",
       "      <td>239</td>\n",
       "    </tr>\n",
       "    <tr>\n",
       "      <th>Actual 1</th>\n",
       "      <td>157</td>\n",
       "      <td>219</td>\n",
       "    </tr>\n",
       "  </tbody>\n",
       "</table>\n",
       "</div>"
      ],
      "text/plain": [
       "          Predicted 0  Predicted 1\n",
       "Actual 0          150          239\n",
       "Actual 1          157          219"
      ]
     },
     "metadata": {},
     "output_type": "display_data"
    },
    {
     "name": "stdout",
     "output_type": "stream",
     "text": [
      "Accuracy Score : 0.4823529411764706\n",
      "Classification Report\n",
      "              precision    recall  f1-score   support\n",
      "\n",
      "        -1.0       0.49      0.39      0.43       389\n",
      "         1.0       0.48      0.58      0.53       376\n",
      "\n",
      "    accuracy                           0.48       765\n",
      "   macro avg       0.48      0.48      0.48       765\n",
      "weighted avg       0.48      0.48      0.48       765\n",
      "\n"
     ]
    },
    {
     "data": {
      "image/png": "[encoded data removed]",
      "text/plain": [
       "<Figure size 432x288 with 1 Axes>"
      ]
     },
     "metadata": {
      "needs_background": "light"
     },
     "output_type": "display_data"
    },
    {
     "name": "stdout",
     "output_type": "stream",
     "text": [
      "\n",
      "----------------------- EXC -----------------------\n",
      "\n",
      "\n",
      "EXC: Confusion Matrix (Indicators Only, No Signals)\n"
     ]
    },
    {
     "data": {
      "text/html": [
       "<div>\n",
       "<style scoped>\n",
       "    .dataframe tbody tr th:only-of-type {\n",
       "        vertical-align: middle;\n",
       "    }\n",
       "\n",
       "    .dataframe tbody tr th {\n",
       "        vertical-align: top;\n",
       "    }\n",
       "\n",
       "    .dataframe thead th {\n",
       "        text-align: right;\n",
       "    }\n",
       "</style>\n",
       "<table border=\"1\" class=\"dataframe\">\n",
       "  <thead>\n",
       "    <tr style=\"text-align: right;\">\n",
       "      <th></th>\n",
       "      <th>Predicted 0</th>\n",
       "      <th>Predicted 1</th>\n",
       "    </tr>\n",
       "  </thead>\n",
       "  <tbody>\n",
       "    <tr>\n",
       "      <th>Actual 0</th>\n",
       "      <td>182</td>\n",
       "      <td>170</td>\n",
       "    </tr>\n",
       "    <tr>\n",
       "      <th>Actual 1</th>\n",
       "      <td>163</td>\n",
       "      <td>230</td>\n",
       "    </tr>\n",
       "  </tbody>\n",
       "</table>\n",
       "</div>"
      ],
      "text/plain": [
       "          Predicted 0  Predicted 1\n",
       "Actual 0          182          170\n",
       "Actual 1          163          230"
      ]
     },
     "metadata": {},
     "output_type": "display_data"
    },
    {
     "name": "stdout",
     "output_type": "stream",
     "text": [
      "Accuracy Score : 0.553020134228188\n",
      "Classification Report\n",
      "              precision    recall  f1-score   support\n",
      "\n",
      "        -1.0       0.53      0.52      0.52       352\n",
      "         1.0       0.57      0.59      0.58       393\n",
      "\n",
      "    accuracy                           0.55       745\n",
      "   macro avg       0.55      0.55      0.55       745\n",
      "weighted avg       0.55      0.55      0.55       745\n",
      "\n"
     ]
    },
    {
     "data": {
      "image/png": "[encoded data removed]",
      "text/plain": [
       "<Figure size 432x288 with 1 Axes>"
      ]
     },
     "metadata": {
      "needs_background": "light"
     },
     "output_type": "display_data"
    },
    {
     "name": "stdout",
     "output_type": "stream",
     "text": [
      "-----\n",
      "\n",
      "\n",
      "EXC: Confusion Matrix (Signals Only, No Indicators)\n"
     ]
    },
    {
     "data": {
      "text/html": [
       "<div>\n",
       "<style scoped>\n",
       "    .dataframe tbody tr th:only-of-type {\n",
       "        vertical-align: middle;\n",
       "    }\n",
       "\n",
       "    .dataframe tbody tr th {\n",
       "        vertical-align: top;\n",
       "    }\n",
       "\n",
       "    .dataframe thead th {\n",
       "        text-align: right;\n",
       "    }\n",
       "</style>\n",
       "<table border=\"1\" class=\"dataframe\">\n",
       "  <thead>\n",
       "    <tr style=\"text-align: right;\">\n",
       "      <th></th>\n",
       "      <th>Predicted 0</th>\n",
       "      <th>Predicted 1</th>\n",
       "    </tr>\n",
       "  </thead>\n",
       "  <tbody>\n",
       "    <tr>\n",
       "      <th>Actual 0</th>\n",
       "      <td>120</td>\n",
       "      <td>232</td>\n",
       "    </tr>\n",
       "    <tr>\n",
       "      <th>Actual 1</th>\n",
       "      <td>143</td>\n",
       "      <td>250</td>\n",
       "    </tr>\n",
       "  </tbody>\n",
       "</table>\n",
       "</div>"
      ],
      "text/plain": [
       "          Predicted 0  Predicted 1\n",
       "Actual 0          120          232\n",
       "Actual 1          143          250"
      ]
     },
     "metadata": {},
     "output_type": "display_data"
    },
    {
     "name": "stdout",
     "output_type": "stream",
     "text": [
      "Accuracy Score : 0.4966442953020134\n",
      "Classification Report\n",
      "              precision    recall  f1-score   support\n",
      "\n",
      "        -1.0       0.46      0.34      0.39       352\n",
      "         1.0       0.52      0.64      0.57       393\n",
      "\n",
      "    accuracy                           0.50       745\n",
      "   macro avg       0.49      0.49      0.48       745\n",
      "weighted avg       0.49      0.50      0.49       745\n",
      "\n"
     ]
    },
    {
     "data": {
      "image/png": "[encoded data removed]",
      "text/plain": [
       "<Figure size 432x288 with 1 Axes>"
      ]
     },
     "metadata": {
      "needs_background": "light"
     },
     "output_type": "display_data"
    },
    {
     "name": "stdout",
     "output_type": "stream",
     "text": [
      "\n",
      "----------------------- F -----------------------\n",
      "\n",
      "\n",
      "F: Confusion Matrix (Indicators Only, No Signals)\n"
     ]
    },
    {
     "data": {
      "text/html": [
       "<div>\n",
       "<style scoped>\n",
       "    .dataframe tbody tr th:only-of-type {\n",
       "        vertical-align: middle;\n",
       "    }\n",
       "\n",
       "    .dataframe tbody tr th {\n",
       "        vertical-align: top;\n",
       "    }\n",
       "\n",
       "    .dataframe thead th {\n",
       "        text-align: right;\n",
       "    }\n",
       "</style>\n",
       "<table border=\"1\" class=\"dataframe\">\n",
       "  <thead>\n",
       "    <tr style=\"text-align: right;\">\n",
       "      <th></th>\n",
       "      <th>Predicted 0</th>\n",
       "      <th>Predicted 1</th>\n",
       "    </tr>\n",
       "  </thead>\n",
       "  <tbody>\n",
       "    <tr>\n",
       "      <th>Actual 0</th>\n",
       "      <td>176</td>\n",
       "      <td>160</td>\n",
       "    </tr>\n",
       "    <tr>\n",
       "      <th>Actual 1</th>\n",
       "      <td>206</td>\n",
       "      <td>203</td>\n",
       "    </tr>\n",
       "  </tbody>\n",
       "</table>\n",
       "</div>"
      ],
      "text/plain": [
       "          Predicted 0  Predicted 1\n",
       "Actual 0          176          160\n",
       "Actual 1          206          203"
      ]
     },
     "metadata": {},
     "output_type": "display_data"
    },
    {
     "name": "stdout",
     "output_type": "stream",
     "text": [
      "Accuracy Score : 0.508724832214765\n",
      "Classification Report\n",
      "              precision    recall  f1-score   support\n",
      "\n",
      "        -1.0       0.46      0.52      0.49       336\n",
      "         1.0       0.56      0.50      0.53       409\n",
      "\n",
      "    accuracy                           0.51       745\n",
      "   macro avg       0.51      0.51      0.51       745\n",
      "weighted avg       0.51      0.51      0.51       745\n",
      "\n"
     ]
    },
    {
     "data": {
      "image/png": "[encoded data removed]",
      "text/plain": [
       "<Figure size 432x288 with 1 Axes>"
      ]
     },
     "metadata": {
      "needs_background": "light"
     },
     "output_type": "display_data"
    },
    {
     "name": "stdout",
     "output_type": "stream",
     "text": [
      "-----\n",
      "\n",
      "\n",
      "F: Confusion Matrix (Signals Only, No Indicators)\n"
     ]
    },
    {
     "data": {
      "text/html": [
       "<div>\n",
       "<style scoped>\n",
       "    .dataframe tbody tr th:only-of-type {\n",
       "        vertical-align: middle;\n",
       "    }\n",
       "\n",
       "    .dataframe tbody tr th {\n",
       "        vertical-align: top;\n",
       "    }\n",
       "\n",
       "    .dataframe thead th {\n",
       "        text-align: right;\n",
       "    }\n",
       "</style>\n",
       "<table border=\"1\" class=\"dataframe\">\n",
       "  <thead>\n",
       "    <tr style=\"text-align: right;\">\n",
       "      <th></th>\n",
       "      <th>Predicted 0</th>\n",
       "      <th>Predicted 1</th>\n",
       "    </tr>\n",
       "  </thead>\n",
       "  <tbody>\n",
       "    <tr>\n",
       "      <th>Actual 0</th>\n",
       "      <td>112</td>\n",
       "      <td>224</td>\n",
       "    </tr>\n",
       "    <tr>\n",
       "      <th>Actual 1</th>\n",
       "      <td>126</td>\n",
       "      <td>283</td>\n",
       "    </tr>\n",
       "  </tbody>\n",
       "</table>\n",
       "</div>"
      ],
      "text/plain": [
       "          Predicted 0  Predicted 1\n",
       "Actual 0          112          224\n",
       "Actual 1          126          283"
      ]
     },
     "metadata": {},
     "output_type": "display_data"
    },
    {
     "name": "stdout",
     "output_type": "stream",
     "text": [
      "Accuracy Score : 0.5302013422818792\n",
      "Classification Report\n",
      "              precision    recall  f1-score   support\n",
      "\n",
      "        -1.0       0.47      0.33      0.39       336\n",
      "         1.0       0.56      0.69      0.62       409\n",
      "\n",
      "    accuracy                           0.53       745\n",
      "   macro avg       0.51      0.51      0.50       745\n",
      "weighted avg       0.52      0.53      0.52       745\n",
      "\n"
     ]
    },
    {
     "data": {
      "image/png": "[encoded data removed]",
      "text/plain": [
       "<Figure size 432x288 with 1 Axes>"
      ]
     },
     "metadata": {
      "needs_background": "light"
     },
     "output_type": "display_data"
    },
    {
     "name": "stdout",
     "output_type": "stream",
     "text": [
      "\n",
      "----------------------- GBPUSD=X -----------------------\n",
      "\n",
      "\n",
      "GBPUSD=X: Confusion Matrix (Indicators Only, No Signals)\n"
     ]
    },
    {
     "data": {
      "text/html": [
       "<div>\n",
       "<style scoped>\n",
       "    .dataframe tbody tr th:only-of-type {\n",
       "        vertical-align: middle;\n",
       "    }\n",
       "\n",
       "    .dataframe tbody tr th {\n",
       "        vertical-align: top;\n",
       "    }\n",
       "\n",
       "    .dataframe thead th {\n",
       "        text-align: right;\n",
       "    }\n",
       "</style>\n",
       "<table border=\"1\" class=\"dataframe\">\n",
       "  <thead>\n",
       "    <tr style=\"text-align: right;\">\n",
       "      <th></th>\n",
       "      <th>Predicted 0</th>\n",
       "      <th>Predicted 1</th>\n",
       "    </tr>\n",
       "  </thead>\n",
       "  <tbody>\n",
       "    <tr>\n",
       "      <th>Actual 0</th>\n",
       "      <td>223</td>\n",
       "      <td>159</td>\n",
       "    </tr>\n",
       "    <tr>\n",
       "      <th>Actual 1</th>\n",
       "      <td>178</td>\n",
       "      <td>205</td>\n",
       "    </tr>\n",
       "  </tbody>\n",
       "</table>\n",
       "</div>"
      ],
      "text/plain": [
       "          Predicted 0  Predicted 1\n",
       "Actual 0          223          159\n",
       "Actual 1          178          205"
      ]
     },
     "metadata": {},
     "output_type": "display_data"
    },
    {
     "name": "stdout",
     "output_type": "stream",
     "text": [
      "Accuracy Score : 0.5594771241830065\n",
      "Classification Report\n",
      "              precision    recall  f1-score   support\n",
      "\n",
      "        -1.0       0.56      0.58      0.57       382\n",
      "         1.0       0.56      0.54      0.55       383\n",
      "\n",
      "    accuracy                           0.56       765\n",
      "   macro avg       0.56      0.56      0.56       765\n",
      "weighted avg       0.56      0.56      0.56       765\n",
      "\n"
     ]
    },
    {
     "data": {
      "image/png": "[encoded data removed]",
      "text/plain": [
       "<Figure size 432x288 with 1 Axes>"
      ]
     },
     "metadata": {
      "needs_background": "light"
     },
     "output_type": "display_data"
    },
    {
     "name": "stdout",
     "output_type": "stream",
     "text": [
      "-----\n",
      "\n",
      "\n",
      "GBPUSD=X: Confusion Matrix (Signals Only, No Indicators)\n"
     ]
    },
    {
     "data": {
      "text/html": [
       "<div>\n",
       "<style scoped>\n",
       "    .dataframe tbody tr th:only-of-type {\n",
       "        vertical-align: middle;\n",
       "    }\n",
       "\n",
       "    .dataframe tbody tr th {\n",
       "        vertical-align: top;\n",
       "    }\n",
       "\n",
       "    .dataframe thead th {\n",
       "        text-align: right;\n",
       "    }\n",
       "</style>\n",
       "<table border=\"1\" class=\"dataframe\">\n",
       "  <thead>\n",
       "    <tr style=\"text-align: right;\">\n",
       "      <th></th>\n",
       "      <th>Predicted 0</th>\n",
       "      <th>Predicted 1</th>\n",
       "    </tr>\n",
       "  </thead>\n",
       "  <tbody>\n",
       "    <tr>\n",
       "      <th>Actual 0</th>\n",
       "      <td>197</td>\n",
       "      <td>185</td>\n",
       "    </tr>\n",
       "    <tr>\n",
       "      <th>Actual 1</th>\n",
       "      <td>188</td>\n",
       "      <td>195</td>\n",
       "    </tr>\n",
       "  </tbody>\n",
       "</table>\n",
       "</div>"
      ],
      "text/plain": [
       "          Predicted 0  Predicted 1\n",
       "Actual 0          197          185\n",
       "Actual 1          188          195"
      ]
     },
     "metadata": {},
     "output_type": "display_data"
    },
    {
     "name": "stdout",
     "output_type": "stream",
     "text": [
      "Accuracy Score : 0.5124183006535947\n",
      "Classification Report\n",
      "              precision    recall  f1-score   support\n",
      "\n",
      "        -1.0       0.51      0.52      0.51       382\n",
      "         1.0       0.51      0.51      0.51       383\n",
      "\n",
      "    accuracy                           0.51       765\n",
      "   macro avg       0.51      0.51      0.51       765\n",
      "weighted avg       0.51      0.51      0.51       765\n",
      "\n"
     ]
    },
    {
     "data": {
      "image/png": "[encoded data removed]",
      "text/plain": [
       "<Figure size 432x288 with 1 Axes>"
      ]
     },
     "metadata": {
      "needs_background": "light"
     },
     "output_type": "display_data"
    },
    {
     "name": "stdout",
     "output_type": "stream",
     "text": [
      "\n",
      "----------------------- GOOG -----------------------\n",
      "\n",
      "\n",
      "GOOG: Confusion Matrix (Indicators Only, No Signals)\n"
     ]
    },
    {
     "data": {
      "text/html": [
       "<div>\n",
       "<style scoped>\n",
       "    .dataframe tbody tr th:only-of-type {\n",
       "        vertical-align: middle;\n",
       "    }\n",
       "\n",
       "    .dataframe tbody tr th {\n",
       "        vertical-align: top;\n",
       "    }\n",
       "\n",
       "    .dataframe thead th {\n",
       "        text-align: right;\n",
       "    }\n",
       "</style>\n",
       "<table border=\"1\" class=\"dataframe\">\n",
       "  <thead>\n",
       "    <tr style=\"text-align: right;\">\n",
       "      <th></th>\n",
       "      <th>Predicted 0</th>\n",
       "      <th>Predicted 1</th>\n",
       "    </tr>\n",
       "  </thead>\n",
       "  <tbody>\n",
       "    <tr>\n",
       "      <th>Actual 0</th>\n",
       "      <td>182</td>\n",
       "      <td>157</td>\n",
       "    </tr>\n",
       "    <tr>\n",
       "      <th>Actual 1</th>\n",
       "      <td>195</td>\n",
       "      <td>211</td>\n",
       "    </tr>\n",
       "  </tbody>\n",
       "</table>\n",
       "</div>"
      ],
      "text/plain": [
       "          Predicted 0  Predicted 1\n",
       "Actual 0          182          157\n",
       "Actual 1          195          211"
      ]
     },
     "metadata": {},
     "output_type": "display_data"
    },
    {
     "name": "stdout",
     "output_type": "stream",
     "text": [
      "Accuracy Score : 0.5275167785234899\n",
      "Classification Report\n",
      "              precision    recall  f1-score   support\n",
      "\n",
      "        -1.0       0.48      0.54      0.51       339\n",
      "         1.0       0.57      0.52      0.55       406\n",
      "\n",
      "    accuracy                           0.53       745\n",
      "   macro avg       0.53      0.53      0.53       745\n",
      "weighted avg       0.53      0.53      0.53       745\n",
      "\n"
     ]
    },
    {
     "data": {
      "image/png": "[encoded data removed]",
      "text/plain": [
       "<Figure size 432x288 with 1 Axes>"
      ]
     },
     "metadata": {
      "needs_background": "light"
     },
     "output_type": "display_data"
    },
    {
     "name": "stdout",
     "output_type": "stream",
     "text": [
      "-----\n",
      "\n",
      "\n",
      "GOOG: Confusion Matrix (Signals Only, No Indicators)\n"
     ]
    },
    {
     "data": {
      "text/html": [
       "<div>\n",
       "<style scoped>\n",
       "    .dataframe tbody tr th:only-of-type {\n",
       "        vertical-align: middle;\n",
       "    }\n",
       "\n",
       "    .dataframe tbody tr th {\n",
       "        vertical-align: top;\n",
       "    }\n",
       "\n",
       "    .dataframe thead th {\n",
       "        text-align: right;\n",
       "    }\n",
       "</style>\n",
       "<table border=\"1\" class=\"dataframe\">\n",
       "  <thead>\n",
       "    <tr style=\"text-align: right;\">\n",
       "      <th></th>\n",
       "      <th>Predicted 0</th>\n",
       "      <th>Predicted 1</th>\n",
       "    </tr>\n",
       "  </thead>\n",
       "  <tbody>\n",
       "    <tr>\n",
       "      <th>Actual 0</th>\n",
       "      <td>177</td>\n",
       "      <td>162</td>\n",
       "    </tr>\n",
       "    <tr>\n",
       "      <th>Actual 1</th>\n",
       "      <td>214</td>\n",
       "      <td>192</td>\n",
       "    </tr>\n",
       "  </tbody>\n",
       "</table>\n",
       "</div>"
      ],
      "text/plain": [
       "          Predicted 0  Predicted 1\n",
       "Actual 0          177          162\n",
       "Actual 1          214          192"
      ]
     },
     "metadata": {},
     "output_type": "display_data"
    },
    {
     "name": "stdout",
     "output_type": "stream",
     "text": [
      "Accuracy Score : 0.49530201342281877\n",
      "Classification Report\n",
      "              precision    recall  f1-score   support\n",
      "\n",
      "        -1.0       0.45      0.52      0.48       339\n",
      "         1.0       0.54      0.47      0.51       406\n",
      "\n",
      "    accuracy                           0.50       745\n",
      "   macro avg       0.50      0.50      0.50       745\n",
      "weighted avg       0.50      0.50      0.50       745\n",
      "\n"
     ]
    },
    {
     "data": {
      "image/png": "[encoded data removed]",
      "text/plain": [
       "<Figure size 432x288 with 1 Axes>"
      ]
     },
     "metadata": {
      "needs_background": "light"
     },
     "output_type": "display_data"
    },
    {
     "name": "stdout",
     "output_type": "stream",
     "text": [
      "\n",
      "----------------------- Gold -----------------------\n",
      "\n",
      "\n",
      "Gold: Confusion Matrix (Indicators Only, No Signals)\n"
     ]
    },
    {
     "data": {
      "text/html": [
       "<div>\n",
       "<style scoped>\n",
       "    .dataframe tbody tr th:only-of-type {\n",
       "        vertical-align: middle;\n",
       "    }\n",
       "\n",
       "    .dataframe tbody tr th {\n",
       "        vertical-align: top;\n",
       "    }\n",
       "\n",
       "    .dataframe thead th {\n",
       "        text-align: right;\n",
       "    }\n",
       "</style>\n",
       "<table border=\"1\" class=\"dataframe\">\n",
       "  <thead>\n",
       "    <tr style=\"text-align: right;\">\n",
       "      <th></th>\n",
       "      <th>Predicted 0</th>\n",
       "      <th>Predicted 1</th>\n",
       "    </tr>\n",
       "  </thead>\n",
       "  <tbody>\n",
       "    <tr>\n",
       "      <th>Actual 0</th>\n",
       "      <td>177</td>\n",
       "      <td>205</td>\n",
       "    </tr>\n",
       "    <tr>\n",
       "      <th>Actual 1</th>\n",
       "      <td>161</td>\n",
       "      <td>202</td>\n",
       "    </tr>\n",
       "  </tbody>\n",
       "</table>\n",
       "</div>"
      ],
      "text/plain": [
       "          Predicted 0  Predicted 1\n",
       "Actual 0          177          205\n",
       "Actual 1          161          202"
      ]
     },
     "metadata": {},
     "output_type": "display_data"
    },
    {
     "name": "stdout",
     "output_type": "stream",
     "text": [
      "Accuracy Score : 0.508724832214765\n",
      "Classification Report\n",
      "              precision    recall  f1-score   support\n",
      "\n",
      "        -1.0       0.52      0.46      0.49       382\n",
      "         1.0       0.50      0.56      0.52       363\n",
      "\n",
      "    accuracy                           0.51       745\n",
      "   macro avg       0.51      0.51      0.51       745\n",
      "weighted avg       0.51      0.51      0.51       745\n",
      "\n"
     ]
    },
    {
     "data": {
      "image/png": "[encoded data removed]",
      "text/plain": [
       "<Figure size 432x288 with 1 Axes>"
      ]
     },
     "metadata": {
      "needs_background": "light"
     },
     "output_type": "display_data"
    },
    {
     "name": "stdout",
     "output_type": "stream",
     "text": [
      "-----\n",
      "\n",
      "\n",
      "Gold: Confusion Matrix (Signals Only, No Indicators)\n"
     ]
    },
    {
     "data": {
      "text/html": [
       "<div>\n",
       "<style scoped>\n",
       "    .dataframe tbody tr th:only-of-type {\n",
       "        vertical-align: middle;\n",
       "    }\n",
       "\n",
       "    .dataframe tbody tr th {\n",
       "        vertical-align: top;\n",
       "    }\n",
       "\n",
       "    .dataframe thead th {\n",
       "        text-align: right;\n",
       "    }\n",
       "</style>\n",
       "<table border=\"1\" class=\"dataframe\">\n",
       "  <thead>\n",
       "    <tr style=\"text-align: right;\">\n",
       "      <th></th>\n",
       "      <th>Predicted 0</th>\n",
       "      <th>Predicted 1</th>\n",
       "    </tr>\n",
       "  </thead>\n",
       "  <tbody>\n",
       "    <tr>\n",
       "      <th>Actual 0</th>\n",
       "      <td>119</td>\n",
       "      <td>263</td>\n",
       "    </tr>\n",
       "    <tr>\n",
       "      <th>Actual 1</th>\n",
       "      <td>99</td>\n",
       "      <td>264</td>\n",
       "    </tr>\n",
       "  </tbody>\n",
       "</table>\n",
       "</div>"
      ],
      "text/plain": [
       "          Predicted 0  Predicted 1\n",
       "Actual 0          119          263\n",
       "Actual 1           99          264"
      ]
     },
     "metadata": {},
     "output_type": "display_data"
    },
    {
     "name": "stdout",
     "output_type": "stream",
     "text": [
      "Accuracy Score : 0.5140939597315436\n",
      "Classification Report\n",
      "              precision    recall  f1-score   support\n",
      "\n",
      "        -1.0       0.55      0.31      0.40       382\n",
      "         1.0       0.50      0.73      0.59       363\n",
      "\n",
      "    accuracy                           0.51       745\n",
      "   macro avg       0.52      0.52      0.49       745\n",
      "weighted avg       0.52      0.51      0.49       745\n",
      "\n"
     ]
    },
    {
     "data": {
      "image/png": "[encoded data removed]",
      "text/plain": [
       "<Figure size 432x288 with 1 Axes>"
      ]
     },
     "metadata": {
      "needs_background": "light"
     },
     "output_type": "display_data"
    },
    {
     "name": "stdout",
     "output_type": "stream",
     "text": [
      "\n",
      "----------------------- HYG -----------------------\n",
      "\n",
      "\n",
      "HYG: Confusion Matrix (Indicators Only, No Signals)\n"
     ]
    },
    {
     "data": {
      "text/html": [
       "<div>\n",
       "<style scoped>\n",
       "    .dataframe tbody tr th:only-of-type {\n",
       "        vertical-align: middle;\n",
       "    }\n",
       "\n",
       "    .dataframe tbody tr th {\n",
       "        vertical-align: top;\n",
       "    }\n",
       "\n",
       "    .dataframe thead th {\n",
       "        text-align: right;\n",
       "    }\n",
       "</style>\n",
       "<table border=\"1\" class=\"dataframe\">\n",
       "  <thead>\n",
       "    <tr style=\"text-align: right;\">\n",
       "      <th></th>\n",
       "      <th>Predicted 0</th>\n",
       "      <th>Predicted 1</th>\n",
       "    </tr>\n",
       "  </thead>\n",
       "  <tbody>\n",
       "    <tr>\n",
       "      <th>Actual 0</th>\n",
       "      <td>166</td>\n",
       "      <td>183</td>\n",
       "    </tr>\n",
       "    <tr>\n",
       "      <th>Actual 1</th>\n",
       "      <td>159</td>\n",
       "      <td>237</td>\n",
       "    </tr>\n",
       "  </tbody>\n",
       "</table>\n",
       "</div>"
      ],
      "text/plain": [
       "          Predicted 0  Predicted 1\n",
       "Actual 0          166          183\n",
       "Actual 1          159          237"
      ]
     },
     "metadata": {},
     "output_type": "display_data"
    },
    {
     "name": "stdout",
     "output_type": "stream",
     "text": [
      "Accuracy Score : 0.5409395973154363\n",
      "Classification Report\n",
      "              precision    recall  f1-score   support\n",
      "\n",
      "        -1.0       0.51      0.48      0.49       349\n",
      "         1.0       0.56      0.60      0.58       396\n",
      "\n",
      "    accuracy                           0.54       745\n",
      "   macro avg       0.54      0.54      0.54       745\n",
      "weighted avg       0.54      0.54      0.54       745\n",
      "\n"
     ]
    },
    {
     "data": {
      "image/png": "[encoded data removed]",
      "text/plain": [
       "<Figure size 432x288 with 1 Axes>"
      ]
     },
     "metadata": {
      "needs_background": "light"
     },
     "output_type": "display_data"
    },
    {
     "name": "stdout",
     "output_type": "stream",
     "text": [
      "-----\n",
      "\n",
      "\n",
      "HYG: Confusion Matrix (Signals Only, No Indicators)\n"
     ]
    },
    {
     "data": {
      "text/html": [
       "<div>\n",
       "<style scoped>\n",
       "    .dataframe tbody tr th:only-of-type {\n",
       "        vertical-align: middle;\n",
       "    }\n",
       "\n",
       "    .dataframe tbody tr th {\n",
       "        vertical-align: top;\n",
       "    }\n",
       "\n",
       "    .dataframe thead th {\n",
       "        text-align: right;\n",
       "    }\n",
       "</style>\n",
       "<table border=\"1\" class=\"dataframe\">\n",
       "  <thead>\n",
       "    <tr style=\"text-align: right;\">\n",
       "      <th></th>\n",
       "      <th>Predicted 0</th>\n",
       "      <th>Predicted 1</th>\n",
       "    </tr>\n",
       "  </thead>\n",
       "  <tbody>\n",
       "    <tr>\n",
       "      <th>Actual 0</th>\n",
       "      <td>93</td>\n",
       "      <td>256</td>\n",
       "    </tr>\n",
       "    <tr>\n",
       "      <th>Actual 1</th>\n",
       "      <td>100</td>\n",
       "      <td>296</td>\n",
       "    </tr>\n",
       "  </tbody>\n",
       "</table>\n",
       "</div>"
      ],
      "text/plain": [
       "          Predicted 0  Predicted 1\n",
       "Actual 0           93          256\n",
       "Actual 1          100          296"
      ]
     },
     "metadata": {},
     "output_type": "display_data"
    },
    {
     "name": "stdout",
     "output_type": "stream",
     "text": [
      "Accuracy Score : 0.5221476510067115\n",
      "Classification Report\n",
      "              precision    recall  f1-score   support\n",
      "\n",
      "        -1.0       0.48      0.27      0.34       349\n",
      "         1.0       0.54      0.75      0.62       396\n",
      "\n",
      "    accuracy                           0.52       745\n",
      "   macro avg       0.51      0.51      0.48       745\n",
      "weighted avg       0.51      0.52      0.49       745\n",
      "\n"
     ]
    },
    {
     "data": {
      "image/png": "[encoded data removed]",
      "text/plain": [
       "<Figure size 432x288 with 1 Axes>"
      ]
     },
     "metadata": {
      "needs_background": "light"
     },
     "output_type": "display_data"
    },
    {
     "name": "stdout",
     "output_type": "stream",
     "text": [
      "\n",
      "----------------------- JPM -----------------------\n",
      "\n",
      "\n",
      "JPM: Confusion Matrix (Indicators Only, No Signals)\n"
     ]
    },
    {
     "data": {
      "text/html": [
       "<div>\n",
       "<style scoped>\n",
       "    .dataframe tbody tr th:only-of-type {\n",
       "        vertical-align: middle;\n",
       "    }\n",
       "\n",
       "    .dataframe tbody tr th {\n",
       "        vertical-align: top;\n",
       "    }\n",
       "\n",
       "    .dataframe thead th {\n",
       "        text-align: right;\n",
       "    }\n",
       "</style>\n",
       "<table border=\"1\" class=\"dataframe\">\n",
       "  <thead>\n",
       "    <tr style=\"text-align: right;\">\n",
       "      <th></th>\n",
       "      <th>Predicted 0</th>\n",
       "      <th>Predicted 1</th>\n",
       "    </tr>\n",
       "  </thead>\n",
       "  <tbody>\n",
       "    <tr>\n",
       "      <th>Actual 0</th>\n",
       "      <td>161</td>\n",
       "      <td>181</td>\n",
       "    </tr>\n",
       "    <tr>\n",
       "      <th>Actual 1</th>\n",
       "      <td>198</td>\n",
       "      <td>205</td>\n",
       "    </tr>\n",
       "  </tbody>\n",
       "</table>\n",
       "</div>"
      ],
      "text/plain": [
       "          Predicted 0  Predicted 1\n",
       "Actual 0          161          181\n",
       "Actual 1          198          205"
      ]
     },
     "metadata": {},
     "output_type": "display_data"
    },
    {
     "name": "stdout",
     "output_type": "stream",
     "text": [
      "Accuracy Score : 0.4912751677852349\n",
      "Classification Report\n",
      "              precision    recall  f1-score   support\n",
      "\n",
      "        -1.0       0.45      0.47      0.46       342\n",
      "         1.0       0.53      0.51      0.52       403\n",
      "\n",
      "    accuracy                           0.49       745\n",
      "   macro avg       0.49      0.49      0.49       745\n",
      "weighted avg       0.49      0.49      0.49       745\n",
      "\n"
     ]
    },
    {
     "data": {
      "image/png": "[encoded data removed]",
      "text/plain": [
       "<Figure size 432x288 with 1 Axes>"
      ]
     },
     "metadata": {
      "needs_background": "light"
     },
     "output_type": "display_data"
    },
    {
     "name": "stdout",
     "output_type": "stream",
     "text": [
      "-----\n",
      "\n"
     ]
    }
   ],
   "source": [
    "counter = 0\n",
    "ind_accuracy = 0\n",
    "sig_accuracy = 0\n",
    "\n",
    "for file in data_files:\n",
    "    tmp_df = pd.read_csv(Path(file), index_col=\"Date\")\n",
    "    ticker = tmp_df.Ticker.unique().tolist()[0]\n",
    "    \n",
    "    # To run for a specific category just uncomment one of these lines and fix the identation\n",
    "#     if ticker in ['Gold', 'Oil']: # Commodity\n",
    "#     if ticker in ['EURUSD=X', 'GBPUSD=X', 'BTCUSD=X']: # Currency\n",
    "#     if ticker in ['Russell 2000']: # Small Cap\n",
    "#     if ticker in ['LQD', 'HYG']: # Bonds\n",
    "#     if ticker in ['BABA', 'MSCI Europe', 'Nikkei Index', 'SSNLF', 'SIEGY']: #Foreign Equity\n",
    "#     if ticker in ['AAPL', 'AMZN', 'EMR', 'EXC', 'F', 'GOOG', 'JPM', 'KO', 'MMM', 'PFE', 'SPG', 'TSLA']: # Domestic Equity\n",
    "        \n",
    "    print(f'\\n----------------------- {ticker} -----------------------\\n')\n",
    "\n",
    "    # Calculate indicators and prepare data\n",
    "    tmp_df = add_indicators_and_signals(tmp_df)\n",
    "\n",
    "    # Use only the indicator values, no signals\n",
    "    # Make predictions and display confusion matrix\n",
    "    log_reg_model, X_columns, tmp_acc = random_forest_indicators_only(tmp_df, ticker)\n",
    "    ind_accuracy = ind_accuracy + tmp_acc\n",
    "\n",
    "    # Display importance features graph\n",
    "    features_importances(ticker, log_reg_model, X_columns)\n",
    "\n",
    "    print(\"-----\\n\")\n",
    "\n",
    "    # Use only the signal values no indicator values\n",
    "    # Make predictions and display confusion matrix\n",
    "    log_reg_model, X_columns, tmp_acc = random_forest_signals_only(tmp_df, ticker)\n",
    "    sig_accuracy = sig_accuracy + tmp_acc\n",
    "\n",
    "    # Display importance features graph\n",
    "    features_importances(ticker, log_reg_model, X_columns)\n",
    "\n",
    "    counter = counter + 1\n",
    "\n",
    "print(\"\\n------------------------------------------------\\nAccuracy Averages:\")\n",
    "print(f'Indicators Only Accuracy Average: {ind_accuracy/counter}')\n",
    "print(f'Signals Only Accuracy Average: {sig_accuracy/counter}')\n",
    "print(f'Counter:{counter}')"
   ]
  },
  {
   "cell_type": "code",
   "execution_count": null,
   "metadata": {},
   "outputs": [],
   "source": []
  }
 ],
 "metadata": {
  "kernelspec": {
   "display_name": "Python 3",
   "language": "python",
   "name": "python3"
  },
  "language_info": {
   "codemirror_mode": {
    "name": "ipython",
    "version": 3
   },
   "file_extension": ".py",
   "mimetype": "text/x-python",
   "name": "python",
   "nbconvert_exporter": "python",
   "pygments_lexer": "ipython3",
   "version": "3.8.3"
  }
 },
 "nbformat": 4,
 "nbformat_minor": 4
}
